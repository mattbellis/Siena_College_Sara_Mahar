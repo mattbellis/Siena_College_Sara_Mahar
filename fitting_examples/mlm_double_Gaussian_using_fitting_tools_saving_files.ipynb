{
 "cells": [
  {
   "cell_type": "code",
   "execution_count": 6,
   "metadata": {
    "collapsed": false
   },
   "outputs": [],
   "source": [
    "import fitting_tools as ft\n",
    "import time\n",
    "import numpy as np\n",
    "import matplotlib.pylab as plt\n",
    "%matplotlib notebook"
   ]
  },
  {
   "cell_type": "code",
   "execution_count": 2,
   "metadata": {
    "collapsed": true
   },
   "outputs": [],
   "source": [
    "#initial conditions that stay the same\n",
    "niterations=5000\n",
    "sig_points=200\n",
    "nbkg=1000\n",
    "nneigh=5\n",
    "sig_widths=[0.1,0.1]"
   ]
  },
  {
   "cell_type": "code",
   "execution_count": 3,
   "metadata": {
    "collapsed": false
   },
   "outputs": [
    {
     "name": "stdout",
     "output_type": "stream",
     "text": [
      "writing out to file frac_values_trial3_sig200_bkg1000_MCsig1000_MCbkg1000_bs0_nn5.dat\n",
      "time to calc 5000 iterations: 472.588612 s\n",
      "\n",
      "writing out to file frac_values_trial3_sig200_bkg1000_MCsig10000_MCbkg10000_bs0_nn5.dat\n",
      "time to calc 5000 iterations: 5658.489488 s\n",
      "\n",
      "writing out to file frac_values_trial3_sig200_bkg1000_MCsig50000_MCbkg50000_bs0_nn5.dat\n",
      "time to calc 5000 iterations: 32599.496958 s\n"
     ]
    }
   ],
   "source": [
    "nneigh=5\n",
    "MC_signal=1000\n",
    "MC_background=1000\n",
    "start = time.time()\n",
    "pulls,org_vals,fit_vals,fit_uncerts,iteration,file_name= ft.calc_pull(niterations, sig_points, nbkg,MC_signal, MC_background,sig_widths,nneigh=nneigh, tag='trial3')\n",
    "print \"time to calc %d iterations: %f s\" % (niterations, time.time() - start)\n",
    "print ''\n",
    "\n",
    "MC_signal=10000\n",
    "MC_background=10000\n",
    "start = time.time()\n",
    "pulls,org_vals,fit_vals,fit_uncerts,iteration,file_name= ft.calc_pull(niterations, sig_points, nbkg,MC_signal, MC_background,sig_widths,nneigh=nneigh, tag='trial3')\n",
    "print \"time to calc %d iterations: %f s\" % (niterations, time.time() - start)\n",
    "print ''\n",
    "\n",
    "\n",
    "MC_signal=50000\n",
    "MC_background=50000\n",
    "start = time.time()\n",
    "pulls,org_vals,fit_vals,fit_uncerts,iteration,file_name= ft.calc_pull(niterations, sig_points, nbkg,MC_signal, MC_background,sig_widths,nneigh=nneigh, tag='trial3')\n",
    "print \"time to calc %d iterations: %f s\" % (niterations, time.time() - start)"
   ]
  },
  {
   "cell_type": "code",
   "execution_count": null,
   "metadata": {
    "collapsed": false
   },
   "outputs": [
    {
     "name": "stdout",
     "output_type": "stream",
     "text": [
      "writing out to file frac_values_trial3_sig200_bkg1000_MCsig1000_MCbkg1000_bs0_nn10.dat\n",
      "time to calc 5000 iterations: 473.552672 s\n",
      "\n",
      "writing out to file frac_values_trial3_sig200_bkg1000_MCsig10000_MCbkg10000_bs0_nn10.dat\n",
      "time to calc 5000 iterations: 5671.812606 s\n",
      "\n",
      "writing out to file frac_values_trial3_sig200_bkg1000_MCsig50000_MCbkg50000_bs0_nn10.dat\n",
      "time to calc 5000 iterations: 32599.626943 s\n"
     ]
    }
   ],
   "source": [
    "nneigh=10\n",
    "MC_signal=1000\n",
    "MC_background=1000\n",
    "start = time.time()\n",
    "pulls,org_vals,fit_vals,fit_uncerts,iteration,file_name= ft.calc_pull(niterations, sig_points, nbkg,MC_signal, MC_background,sig_widths,nneigh=nneigh, tag='trial3')\n",
    "print \"time to calc %d iterations: %f s\" % (niterations, time.time() - start)\n",
    "print ''\n",
    "\n",
    "MC_signal=10000\n",
    "MC_background=10000\n",
    "start = time.time()\n",
    "pulls,org_vals,fit_vals,fit_uncerts,iteration,file_name= ft.calc_pull(niterations, sig_points, nbkg,MC_signal, MC_background,sig_widths,nneigh=nneigh, tag='trial3')\n",
    "print \"time to calc %d iterations: %f s\" % (niterations, time.time() - start)\n",
    "print ''\n",
    "\n",
    "MC_signal=50000\n",
    "MC_background=50000\n",
    "\n",
    "start = time.time()\n",
    "pulls,org_vals,fit_vals,fit_uncerts,iteration,file_name= ft.calc_pull(niterations, sig_points, nbkg,MC_signal, MC_background,sig_widths,nneigh=nneigh, tag='trial3')\n",
    "print \"time to calc %d iterations: %f s\" % (niterations, time.time() - start)"
   ]
  },
  {
   "cell_type": "code",
   "execution_count": null,
   "metadata": {
    "collapsed": false
   },
   "outputs": [],
   "source": []
  },
  {
   "cell_type": "code",
   "execution_count": null,
   "metadata": {
    "collapsed": false
   },
   "outputs": [],
   "source": [
    "infile_name='frac_values_trial2_sig200_bkg1000_MCsig1000_MCbkg1000_bs0_nn5.dat'\n",
    "values=np.loadtxt(infile_name, delimiter=' ', unpack=True,dtype=float)\n",
    "print ft.calc_mean_std_of_pulls(values)\n",
    "\n",
    "infile_name='frac_values_trial2_sig200_bkg1000_MCsig10000_MCbkg10000_bs0_nn5.dat'\n",
    "values2=np.loadtxt(infile_name, delimiter=' ', unpack=True,dtype=float)\n",
    "print ft.calc_mean_std_of_pulls(values2)\n",
    "\n",
    "infile_name='frac_values_trial2_sig200_bkg1000_MCsig50000_MCbkg50000_bs0_nn5.dat'\n",
    "values3=np.loadtxt(infile_name, delimiter=' ', unpack=True,dtype=float)\n",
    "print ft.calc_mean_std_of_pulls(values3)\n",
    "\n",
    "infile_name='frac_values_trial2_sig200_bkg1000_MCsig1000_MCbkg1000_bs0_nn10.dat'\n",
    "values4=np.loadtxt(infile_name, delimiter=' ', unpack=True,dtype=float)\n",
    "print ft.calc_mean_std_of_pulls(values4)\n",
    "\n",
    "infile_name='frac_values_trial2_sig200_bkg1000_MCsig10000_MCbkg10000_bs0_nn10.dat'\n",
    "values5=np.loadtxt(infile_name, delimiter=' ', unpack=True,dtype=float)\n",
    "print ft.calc_mean_std_of_pulls(values5)\n",
    "\n",
    "infile_name='frac_values_trial2_sig200_bkg1000_MCsig50000_MCbkg50000_bs0_nn10.dat'\n",
    "values6=np.loadtxt(infile_name, delimiter=' ', unpack=True,dtype=float)\n",
    "print ft.calc_mean_std_of_pulls(values6)\n",
    "\n",
    "infile_name='frac_values_trial2_sig200_bkg1000_MCsig1000_MCbkg1000_bs0_nn3.dat'\n",
    "values7=np.loadtxt(infile_name, delimiter=' ', unpack=True,dtype=float)\n",
    "print ft.calc_mean_std_of_pulls(values7)\n",
    "\n",
    "\n",
    "infile_name='frac_values_trial2_sig200_bkg1000_MCsig1000_MCbkg1000_bs100_nn5.dat'\n",
    "values8=np.loadtxt(infile_name, delimiter=' ', unpack=True,dtype=float)\n",
    "print ft.calc_mean_std_of_pulls(values8)\n",
    "\n",
    "infile_name='frac_values_trial2_sig200_bkg1000_MCsig1000_MCbkg1000_bs100_nn3.dat'\n",
    "values9=np.loadtxt(infile_name, delimiter=' ', unpack=True,dtype=float)\n",
    "print ft.calc_mean_std_of_pulls(values9)\n",
    "\n",
    "\n",
    "\n",
    "\n"
   ]
  },
  {
   "cell_type": "code",
   "execution_count": null,
   "metadata": {
    "collapsed": false
   },
   "outputs": [],
   "source": [
    "#reading in values for second trial\n",
    "\n",
    "infile_name='frac_values_trial2_sig200_bkg1000_MCsig1000_MCbkg1000_bs0_nn5.dat'\n",
    "values=np.loadtxt(infile_name, delimiter=' ', unpack=True,dtype=float)\n",
    "print ft.calc_mean_std_of_pulls(values)\n",
    "\n",
    "infile_name='frac_values_trial2_sig200_bkg1000_MCsig10000_MCbkg10000_bs0_nn5.dat'\n",
    "values2=np.loadtxt(infile_name, delimiter=' ', unpack=True,dtype=float)\n",
    "print ft.calc_mean_std_of_pulls(values2)\n",
    "\n",
    "infile_name='frac_values_trial2_sig200_bkg1000_MCsig50000_MCbkg50000_bs0_nn5.dat'\n",
    "values3=np.loadtxt(infile_name, delimiter=' ', unpack=True,dtype=float)\n",
    "print ft.calc_mean_std_of_pulls(values3)\n",
    "\n",
    "infile_name='frac_values_trial2_sig200_bkg1000_MCsig1000_MCbkg1000_bs0_nn10.dat'\n",
    "values4=np.loadtxt(infile_name, delimiter=' ', unpack=True,dtype=float)\n",
    "print ft.calc_mean_std_of_pulls(values4)\n",
    "\n",
    "infile_name='frac_values_trial2_sig200_bkg1000_MCsig10000_MCbkg10000_bs0_nn10.dat'\n",
    "values5=np.loadtxt(infile_name, delimiter=' ', unpack=True,dtype=float)\n",
    "print ft.calc_mean_std_of_pulls(values5)\n",
    "\n",
    "infile_name='frac_values_trial2_sig200_bkg1000_MCsig50000_MCbkg50000_bs0_nn10.dat'\n",
    "values6=np.loadtxt(infile_name, delimiter=' ', unpack=True,dtype=float)\n",
    "print ft.calc_mean_std_of_pulls(values6)\n",
    "\n",
    "infile_name='frac_values_trial2_sig200_bkg1000_MCsig1000_MCbkg1000_bs0_nn3.dat'\n",
    "values7=np.loadtxt(infile_name, delimiter=' ', unpack=True,dtype=float)\n",
    "print ft.calc_mean_std_of_pulls(values7)\n",
    "\n",
    "\n",
    "infile_name='frac_values_trial2_sig200_bkg1000_MCsig1000_MCbkg1000_bs100_nn5.dat'\n",
    "values8=np.loadtxt(infile_name, delimiter=' ', unpack=True,dtype=float)\n",
    "print ft.calc_mean_std_of_pulls(values8)\n",
    "\n",
    "infile_name='frac_values_trial2_sig200_bkg1000_MCsig1000_MCbkg1000_bs100_nn3.dat'\n",
    "values9=np.loadtxt(infile_name, delimiter=' ', unpack=True,dtype=float)\n",
    "print ft.calc_mean_std_of_pulls(values9)\n"
   ]
  },
  {
   "cell_type": "code",
   "execution_count": null,
   "metadata": {
    "collapsed": false
   },
   "outputs": [],
   "source": [
    "plt.figure(figsize=(10,6))\n",
    "\n",
    "labels = ['MC=1000, nn=5',\n",
    "          'MC=10000, nn=5',\n",
    "          'MC=50000, nn=5',\n",
    "          'MC=1000, nn=10',\n",
    "          'MC=10000, nn=10',\n",
    "          'MC=50000, nn=10',\n",
    "          'MC=1000, nn=3',\n",
    "          'MC=1000, nn=5, bs=100',\n",
    "          'MC=1000, nn=3, bs=100'\n",
    "         ]\n",
    "\n",
    "fmt = ['o','o','o','s','s','s','^','*','*']\n",
    "\n",
    "for v,l,f in zip([values,values2,values3,values4,values5,values6,values7,values8,values9],labels,fmt):\n",
    "    x,y = ft.calc_mean_std_of_pulls(v) \n",
    "    plt.plot(y,x,f,label=l,markersize=20)\n",
    "\n",
    "plt.ylim(-2.0,0.5)\n",
    "plt.xlim(0.95,1.10)\n",
    "plt.legend(loc='lower right',fontsize=14)"
   ]
  },
  {
   "cell_type": "code",
   "execution_count": null,
   "metadata": {
    "collapsed": false
   },
   "outputs": [],
   "source": [
    "plt.figure(figsize=(10,6))\n",
    "\n",
    "labels = ['MC=1000, nn=5',\n",
    "          'MC=10000, nn=5',\n",
    "          'MC=50000, nn=5',\n",
    "          'MC=1000, nn=10',\n",
    "          'MC=10000, nn=10',\n",
    "          'MC=50000, nn=10',\n",
    "          'MC=1000, nn=3',\n",
    "          'MC=1000, nn=5, bs=100',\n",
    "          'MC=1000, nn=3, bs=100'\n",
    "         ]\n",
    "\n",
    "fmt = ['o','o','o','s','s','s','^','*','*']\n",
    "\n",
    "for v,l,f in zip([values,values2,values3,values4,values5,values6,values7,values8,values9],labels,fmt):\n",
    "    x,y = ft.calc_mean_std_of_pulls(v) \n",
    "    plt.plot(y,x,f,label=l,markersize=20)\n",
    "\n",
    "plt.ylim(-2.0,0.5)\n",
    "plt.xlim(0.95,1.10)\n",
    "plt.legend(loc='lower right',fontsize=14)"
   ]
  },
  {
   "cell_type": "code",
   "execution_count": null,
   "metadata": {
    "collapsed": false
   },
   "outputs": [],
   "source": [
    "plt.figure()\n",
    "plt.hist((values[0]-values[1])/values[2], bins=50)\n",
    "\n",
    "plt.figure()\n",
    "plt.hist((values[0]-values[1])/values[2], bins=50)"
   ]
  },
  {
   "cell_type": "code",
   "execution_count": null,
   "metadata": {
    "collapsed": false
   },
   "outputs": [],
   "source": [
    "nneigh=3\n",
    "MC_signal=1000\n",
    "MC_background=1000\n",
    "start = time.time()\n",
    "pulls,org_vals,fit_vals,fit_uncerts,iteration,file_name= ft.calc_pull(niterations, sig_points, nbkg,MC_signal, MC_background,sig_widths,nneigh=nneigh, tag='trial2')\n",
    "print \"time to calc %d iterations: %f s\" % (niterations, time.time() - start)\n",
    "print ''"
   ]
  },
  {
   "cell_type": "code",
   "execution_count": null,
   "metadata": {
    "collapsed": false
   },
   "outputs": [
    {
     "name": "stdout",
     "output_type": "stream",
     "text": [
      "writing out to file frac_values_trial3_sig200_bkg1000_MCsig1000_MCbkg1000_bs100_nn5.dat\n"
     ]
    }
   ],
   "source": [
    "niterations=5000\n",
    "nneigh=5\n",
    "MC_signal=1000\n",
    "MC_background=1000\n",
    "num_bootstrapping_samples=100\n",
    "start = time.time()\n",
    "pulls,org_vals,fit_vals,fit_uncerts,iteration,file_name= ft.calc_pull_w_bootstrapping(niterations, sig_points, nbkg,MC_signal, MC_background,num_bootstrapping_samples,nneigh,sig_widths, tag='trial3')\n",
    "print \"time to calc %d iterations: %f s\" % (niterations, time.time() - start)\n",
    "print ''\n",
    "\n",
    "\n",
    "nneigh=3\n",
    "MC_signal=1000\n",
    "MC_background=1000\n",
    "start = time.time()\n",
    "pulls,org_vals,fit_vals,fit_uncerts,iteration,file_name= ft.calc_pull_w_bootstrapping(niterations, sig_points, nbkg,MC_signal, MC_background,num_bootstrapping_samples,nneigh,sig_widths, tag='trial3')\n",
    "print \"time to calc %d iterations: %f s\" % (niterations, time.time() - start)\n",
    "print ''"
   ]
  },
  {
   "cell_type": "code",
   "execution_count": null,
   "metadata": {
    "collapsed": false
   },
   "outputs": [],
   "source": [
    "#Calculates the pulls of mean and std with nearest neighbors \n",
    "#with boostrapping\n",
    "\n",
    "MC_signal=50000\n",
    "MC_background=100000\n",
    "num_boot_samples=10\n",
    "\n",
    "start = time.time()\n",
    "print 'num of sig points: %s \\t num of MC sig: %s \\t num of MC bkg: %s \\t nearest neighbors: %s \\t width: %s ' % (sig_points,MC_signal,MC_background,nneigh,sig_widths[0])\n",
    "pulls,org_vals,fit_vals,fit_uncerts,iteration= ft.calc_pull_w_bootstrapping(niterations, sig_points, nbkg,MC_signal, MC_background,num_boot_samples,nneigh,sig_widths)\n",
    "\n",
    "mean_pulls4=np.mean(pulls)\n",
    "std_pulls4=np.std(pulls)\n",
    "avg_uncertainty4=np.mean(fit_uncerts)\n",
    "\n",
    "print \"mean pulls: %f\" % mean_pulls4\n",
    "print \"stds pulls: %f\" % std_pulls4\n",
    "print \"average uncertainty: %f\" % avg_uncertainty4\n",
    "print \"time to calc %d iterations: %f s\" % (niterations, time.time() - start)"
   ]
  },
  {
   "cell_type": "code",
   "execution_count": null,
   "metadata": {
    "collapsed": false
   },
   "outputs": [],
   "source": [
    "#Calculates the pulls of mean and std with nearest neighbors \n",
    "#without boostrapping\n",
    "\n",
    "MC_signal=100000\n",
    "MC_background=100000\n",
    "\n",
    "start = time.time()\n",
    "print 'num of sig points: %s \\t num of MC sig: %s \\t num of MC bkg: %s \\t nearest neighbors: %s \\t width: %s ' % (sig_points,MC_signal,MC_background,nneigh,sig_widths[0])\n",
    "pulls,org_vals,fit_vals,fit_uncerts,iteration= ft.calc_pull(niterations, sig_points, nbkg, MC_signal, MC_background,sig_widths,nneigh=nneigh)\n",
    "\n",
    "mean_pulls5=np.mean(pulls)\n",
    "std_pulls5=np.std(pulls)\n",
    "avg_uncertainty5=np.mean(fit_uncerts)\n",
    "\n",
    "print \"mean pulls: %f\" % mean_pulls5\n",
    "print \"stds pulls: %f\" % std_pulls5\n",
    "print \"average uncertainty: %f\" % avg_uncertainty5\n",
    "print \"time to calc %d iterations: %f s\" % (niterations, time.time() - start)"
   ]
  },
  {
   "cell_type": "code",
   "execution_count": null,
   "metadata": {
    "collapsed": false
   },
   "outputs": [],
   "source": [
    "#Calculates the pulls of mean and std with nearest neighbors \n",
    "#with boostrapping\n",
    "\n",
    "MC_signal=100000\n",
    "MC_background=100000\n",
    "num_boot_samples=10\n",
    "\n",
    "start = time.time()\n",
    "print 'num of sig points: %s \\t num of MC sig: %s \\t num of MC bkg: %s \\t nearest neighbors: %s \\t width: %s ' % (sig_points,MC_signal,MC_background,nneigh,sig_widths[0])\n",
    "pulls,org_vals,fit_vals,fit_uncerts,iteration= ft.calc_pull_w_bootstrapping(niterations, sig_points, nbkg, MC_signal, MC_background,num_boot_samples,nneigh,sig_widths)\n",
    "\n",
    "mean_pulls6=np.mean(pulls)\n",
    "std_pulls6=np.std(pulls)\n",
    "avg_uncertainty6=np.mean(fit_uncerts)\n",
    "\n",
    "print \"mean pulls: %f\" % mean_pulls6\n",
    "print \"stds pulls: %f\" % std_pulls6\n",
    "print \"average uncertainty: %f\" % avg_uncertainty6\n",
    "print \"time to calc %d iterations: %f s\" % (niterations, time.time() - start)"
   ]
  },
  {
   "cell_type": "code",
   "execution_count": null,
   "metadata": {
    "collapsed": false
   },
   "outputs": [],
   "source": [
    "#Calculates the pulls of mean and std with nearest neighbors \n",
    "#without boostrapping\n",
    "\n",
    "MC_signal=1000\n",
    "MC_background=1000\n",
    "\n",
    "start = time.time()\n",
    "print 'num of sig points: %s \\t num of MC sig: %s \\t num of MC bkg: %s \\t nearest neighbors: %s \\t width: %s ' % (sig_points,MC_signal,MC_background,nneigh,sig_widths[0])\n",
    "pulls,org_vals,fit_vals,fit_uncerts,iteration= ft.calc_pull(niterations, sig_points, nbkg,MC_signal, MC_background,sig_widths,nneigh=nneigh)\n",
    "\n",
    "mean_pulls7=np.mean(pulls)\n",
    "std_pulls7=np.std(pulls)\n",
    "avg_uncertainty7=np.mean(fit_uncerts)\n",
    "\n",
    "print \"mean pulls: %f\" % mean_pulls7\n",
    "print \"stds pulls: %f\" % std_pulls7\n",
    "print \"average uncertainty: %f\" % avg_uncertainty7\n",
    "print \"time to calc %d iterations: %f s\" % (niterations, time.time() - start)"
   ]
  },
  {
   "cell_type": "code",
   "execution_count": null,
   "metadata": {
    "collapsed": false
   },
   "outputs": [],
   "source": [
    "#Calculates the pulls of mean and std with nearest neighbors \n",
    "#with boostrapping\n",
    "\n",
    "MC_signal=1000\n",
    "MC_background=1000\n",
    "num_boot_samples=1000\n",
    "\n",
    "start = time.time()\n",
    "print 'num of sig points: %s \\t num of MC sig: %s \\t num of MC bkg: %s \\t nearest neighbors: %s \\t width: %s ' % (sig_points,MC_signal,MC_background,nneigh,sig_widths[0])\n",
    "pulls,org_vals,fit_vals,fit_uncerts,iteration= ft.calc_pull_w_bootstrapping(niterations, sig_points, nbkg, MC_signal, MC_background,num_boot_samples,nneigh,sig_widths)\n",
    "\n",
    "mean_pulls8=np.mean(pulls)\n",
    "std_pulls8=np.std(pulls)\n",
    "avg_uncertainty8=np.mean(fit_uncerts)\n",
    "\n",
    "print \"mean pulls: %f\" % mean_pulls8\n",
    "print \"stds pulls: %f\" % std_pulls8\n",
    "print \"average uncertainty: %f\" % avg_uncertainty8\n",
    "print \"time to calc %d iterations: %f s\" % (niterations, time.time() - start)"
   ]
  },
  {
   "cell_type": "code",
   "execution_count": null,
   "metadata": {
    "collapsed": false
   },
   "outputs": [],
   "source": [
    "#Calculates the pulls of mean and std with nearest neighbors \n",
    "#without boostrapping\n",
    "\n",
    "MC_signal=2000\n",
    "MC_background=2000\n",
    "\n",
    "start = time.time()\n",
    "print 'num of sig points: %s \\t num of MC sig: %s \\t num of MC bkg: %s \\t nearest neighbors: %s \\t width: %s ' % (sig_points,MC_signal,MC_background,nneigh,sig_widths[0])\n",
    "pulls,org_vals,fit_vals,fit_uncerts,iteration= ft.calc_pull(niterations, sig_points, nbkg,MC_signal, MC_background,sig_widths,nneigh=nneigh)\n",
    "\n",
    "mean_pulls9=np.mean(pulls)\n",
    "std_pulls9=np.std(pulls)\n",
    "avg_uncertainty9=np.mean(fit_uncerts)\n",
    "\n",
    "print \"mean pulls: %f\" % mean_pulls9\n",
    "print \"stds pulls: %f\" % std_pulls9\n",
    "print \"average uncertainty: %f\" % avg_uncertainty9\n",
    "print \"time to calc %d iterations: %f s\" % (niterations, time.time() - start)\n"
   ]
  },
  {
   "cell_type": "code",
   "execution_count": null,
   "metadata": {
    "collapsed": false
   },
   "outputs": [],
   "source": [
    "#Calculates the pulls of mean and std with nearest neighbors \n",
    "#with boostrapping\n",
    "\n",
    "MC_signal=2000\n",
    "MC_background=2000\n",
    "num_boot_samples=1000\n",
    "\n",
    "start = time.time()\n",
    "print 'num of sig points: %s \\t num of MC sig: %s \\t num of MC bkg: %s \\t nearest neighbors: %s \\t width: %s ' % (sig_points,MC_signal,MC_background,nneigh,sig_widths[0])\n",
    "pulls,org_vals,fit_vals,fit_uncerts,iteration= ft.calc_pull_w_bootstrapping(niterations, sig_points, nbkg,MC_signal, MC_background,num_boot_samples,nneigh,sig_widths)\n",
    "\n",
    "mean_pulls10=np.mean(pulls)\n",
    "std_pulls10=np.std(pulls)\n",
    "avg_uncertainty10=np.mean(fit_uncerts)\n",
    "\n",
    "print \"mean pulls: %f\" % mean_pulls10\n",
    "print \"stds pulls: %f\" % std_pulls10\n",
    "print \"average uncertainty: %f\" % avg_uncertainty10\n",
    "print \"time to calc %d iterations: %f s\" % (niterations, time.time() - start)"
   ]
  },
  {
   "cell_type": "code",
   "execution_count": null,
   "metadata": {
    "collapsed": false
   },
   "outputs": [],
   "source": [
    "print mean_pulls1\n",
    "print mean_pulls2\n",
    "print mean_pulls3\n",
    "print mean_pulls4\n",
    "print mean_pulls5\n",
    "print mean_pulls6\n",
    "print mean_pulls7\n",
    "print mean_pulls8\n",
    "print mean_pulls9\n",
    "print mean_pulls10\n",
    "\n",
    "plt.figure()\n",
    "plt.scatter(mean_pulls1,avg_uncertainty1)\n",
    "plt.scatter(mean_pulls2,avg_uncertainty2)\n",
    "plt.scatter(mean_pulls3,avg_uncertainty3)\n",
    "plt.scatter(mean_pulls4,avg_uncertainty4)\n",
    "plt.scatter(mean_pulls5,avg_uncertainty5)\n",
    "plt.scatter(mean_pulls6,avg_uncertainty6)\n",
    "plt.scatter(mean_pulls7,avg_uncertainty7)\n",
    "plt.scatter(mean_pulls8,avg_uncertainty8)\n",
    "plt.scatter(mean_pulls9,avg_uncertainty9)\n",
    "plt.scatter(mean_pulls10,avg_uncertainty10)\n",
    "plt.ylim(.011,.013)\n"
   ]
  },
  {
   "cell_type": "code",
   "execution_count": null,
   "metadata": {
    "collapsed": false
   },
   "outputs": [],
   "source": []
  },
  {
   "cell_type": "code",
   "execution_count": null,
   "metadata": {
    "collapsed": false
   },
   "outputs": [],
   "source": [
    "plt.figure()\n",
    "plt.hist(pulls,bins=20)\n",
    "\n"
   ]
  },
  {
   "cell_type": "code",
   "execution_count": null,
   "metadata": {
    "collapsed": false,
    "scrolled": false
   },
   "outputs": [],
   "source": [
    "\n",
    "\n"
   ]
  },
  {
   "cell_type": "code",
   "execution_count": null,
   "metadata": {
    "collapsed": false
   },
   "outputs": [],
   "source": [
    "\n"
   ]
  },
  {
   "cell_type": "code",
   "execution_count": null,
   "metadata": {
    "collapsed": false
   },
   "outputs": [],
   "source": []
  },
  {
   "cell_type": "code",
   "execution_count": null,
   "metadata": {
    "collapsed": false
   },
   "outputs": [],
   "source": []
  },
  {
   "cell_type": "code",
   "execution_count": null,
   "metadata": {
    "collapsed": false
   },
   "outputs": [],
   "source": []
  },
  {
   "cell_type": "code",
   "execution_count": null,
   "metadata": {
    "collapsed": false
   },
   "outputs": [],
   "source": []
  }
 ],
 "metadata": {
  "kernelspec": {
   "display_name": "Python 2",
   "language": "python",
   "name": "python2"
  },
  "language_info": {
   "codemirror_mode": {
    "name": "ipython",
    "version": 2
   },
   "file_extension": ".py",
   "mimetype": "text/x-python",
   "name": "python",
   "nbconvert_exporter": "python",
   "pygments_lexer": "ipython2",
   "version": "2.7.12"
  }
 },
 "nbformat": 4,
 "nbformat_minor": 0
}
