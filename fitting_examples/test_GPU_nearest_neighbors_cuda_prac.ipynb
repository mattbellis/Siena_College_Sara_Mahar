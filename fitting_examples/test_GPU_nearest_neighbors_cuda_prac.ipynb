{
 "cells": [
  {
   "cell_type": "code",
   "execution_count": 1,
   "metadata": {
    "collapsed": false,
    "scrolled": false
   },
   "outputs": [
    {
     "name": "stderr",
     "output_type": "stream",
     "text": [
      "Vendor:  Continuum Analytics, Inc.\n",
      "Package: mkl\n",
      "Message: trial mode expires in 29 days\n"
     ]
    }
   ],
   "source": [
    "import fitting_tools as ft\n",
    "import time\n",
    "import numpy as np\n",
    "\n",
    "import matplotlib.pylab as plt\n",
    "%matplotlib notebook"
   ]
  },
  {
   "cell_type": "code",
   "execution_count": 2,
   "metadata": {
    "collapsed": false
   },
   "outputs": [],
   "source": [
    "nMC = 20000\n",
    "ndata = 1200\n",
    "\n",
    "data0 = np.random.random((2,ndata))\n",
    "data1 = np.random.random((2,nMC))"
   ]
  },
  {
   "cell_type": "code",
   "execution_count": null,
   "metadata": {
    "collapsed": false
   },
   "outputs": [],
   "source": [
    "plt.figure(figsize=(12,5))\n",
    "plt.subplot(1,2,1)\n",
    "plt.plot(data0[0],data0[1],'.')\n",
    "plt.subplot(1,2,2)\n",
    "plt.plot(data1[0],data1[1],'.')"
   ]
  },
  {
   "cell_type": "code",
   "execution_count": null,
   "metadata": {
    "collapsed": false
   },
   "outputs": [],
   "source": [
    "start = time.time()\n",
    "nn_CPU = ft.nn(data0,data1,nneighbors=5)\n",
    "print \"This took %f seconds to run\" % (time.time()-start)\n",
    "len(nn_CPU)"
   ]
  },
  {
   "cell_type": "code",
   "execution_count": null,
   "metadata": {
    "collapsed": false
   },
   "outputs": [],
   "source": [
    "#start = time.time()\n",
    "#nn_GPU = ft.nn(data0,data1,nneighbors=5)\n",
    "#print \"This took %f seconds to run\" % (time.time()-start)\n",
    "#print nn_GPU"
   ]
  },
  {
   "cell_type": "code",
   "execution_count": null,
   "metadata": {
    "collapsed": false,
    "scrolled": false
   },
   "outputs": [],
   "source": [
    "#plt.figure(figsize=(12,5))\n",
    "#plt.subplot(1,3,1)\n",
    "#plt.hist(nn_CPU,label=\"CPU\")\n",
    "#plt.subplot(1,3,2)\n",
    "#plt.hist(nn_GPU,label=\"GPU\")\n",
    "#plt.subplot(1,3,3)\n",
    "#plt.hist(nn_GPU-nn_CPU,label=\"diff\")"
   ]
  },
  {
   "cell_type": "code",
   "execution_count": null,
   "metadata": {
    "collapsed": false,
    "scrolled": false
   },
   "outputs": [],
   "source": [
    "# Get the GPU info\n",
    "import numba\n",
    "import math\n",
    "#npts = 100\n",
    "my_gpu = numba.cuda.get_current_device()\n",
    "thread_ct = my_gpu.WARP_SIZE\n",
    "block_ct = int(math.ceil(float(nMC*ndata) / thread_ct))\n",
    "\n",
    "print \"# of blocks  \",block_ct\n",
    "print \"# of threads \",thread_ct\n",
    "\n",
    "frac_nn_GPU = np.zeros(ndata*nMC, dtype = np.float32)\n",
    "nneigh=5\n",
    "\n",
    "\n",
    "start = time.time()\n",
    "\n",
    "ft.distances_GPU[block_ct, thread_ct](np.float32(data0[0]), np.float32(data0[1]), len(data0[1]), np.float32(data1[0]), np.float32(data1[1]),len(data1[1]), frac_nn_GPU) #, 0.1)\n",
    "print \"Time for GPU implementation:  %f\" % (time.time()-start)\n",
    "\n",
    "\n",
    "print frac_nn_GPU\n",
    "print len(frac_nn_GPU)\n",
    "\n",
    "\n",
    "\n",
    "\n"
   ]
  },
  {
   "cell_type": "code",
   "execution_count": null,
   "metadata": {
    "collapsed": false
   },
   "outputs": [],
   "source": [
    "len(frac_nn_GPU[frac_nn_GPU==0])"
   ]
  },
  {
   "cell_type": "code",
   "execution_count": null,
   "metadata": {
    "collapsed": false
   },
   "outputs": [],
   "source": [
    "start=time.time()\n",
    "sorted_array=ft.sort_GPU(ndata,nMC,frac_nn_GPU,5)\n",
    "nn_GPU,a,x=sorted_array\n",
    "print \"Time for GPU to sort:  %f\" % (time.time()-start)"
   ]
  },
  {
   "cell_type": "code",
   "execution_count": null,
   "metadata": {
    "collapsed": false
   },
   "outputs": [],
   "source": [
    "out = frac_nn_GPU[100*nMC:101*nMC]\n",
    "sout = a[100*nMC:101*nMC]\n",
    "\n",
    "print max(out),sout[-1]"
   ]
  },
  {
   "cell_type": "code",
   "execution_count": null,
   "metadata": {
    "collapsed": false
   },
   "outputs": [],
   "source": [
    "min(nn_GPU)"
   ]
  },
  {
   "cell_type": "code",
   "execution_count": null,
   "metadata": {
    "collapsed": false
   },
   "outputs": [],
   "source": [
    "plt.figure(figsize=(12,5))\n",
    "plt.subplot(1,3,1)\n",
    "plt.hist(nn_CPU,label=\"CPU\")\n",
    "plt.subplot(1,3,2)\n",
    "plt.hist(nn_GPU,label=\"GPU\")\n",
    "plt.subplot(1,3,3)\n",
    "plt.hist(nn_GPU-nn_CPU,label=\"diff\")\n"
   ]
  },
  {
   "cell_type": "code",
   "execution_count": null,
   "metadata": {
    "collapsed": false
   },
   "outputs": [],
   "source": [
    "print sum(nn_GPU-nn_CPU)"
   ]
  },
  {
   "cell_type": "code",
   "execution_count": null,
   "metadata": {
    "collapsed": false
   },
   "outputs": [],
   "source": [
    "\n"
   ]
  },
  {
   "cell_type": "code",
   "execution_count": null,
   "metadata": {
    "collapsed": false
   },
   "outputs": [],
   "source": [
    "len(frac_distances_GPU[frac_distances_GPU==0])\n",
    "\n",
    "for x in frac_distances_GPU:\n",
    "    if ()"
   ]
  },
  {
   "cell_type": "code",
   "execution_count": null,
   "metadata": {
    "collapsed": false
   },
   "outputs": [],
   "source": [
    "print 313*32\n",
    "\n",
    "print 100*100\n"
   ]
  },
  {
   "cell_type": "code",
   "execution_count": null,
   "metadata": {
    "collapsed": true
   },
   "outputs": [],
   "source": [
    "def bubblesort(X):\n",
    "    N = len(X)\n",
    "    for end in range(N, 1, -1):\n",
    "        for i in range(end - 1):\n",
    "            cur = X[i]\n",
    "            if cur > X[i + 1]:\n",
    "                tmp = X[i]\n",
    "                X[i] = X[i + 1]\n",
    "                X[i + 1] = tmp"
   ]
  },
  {
   "cell_type": "code",
   "execution_count": null,
   "metadata": {
    "collapsed": false
   },
   "outputs": [],
   "source": [
    "#array=np.array([4,5,11,3,1,9,0,8,30])\n",
    "#array = np.random.random(10000)\n",
    "#bubblesort(array)\n",
    "#print array"
   ]
  },
  {
   "cell_type": "code",
   "execution_count": null,
   "metadata": {
    "collapsed": false
   },
   "outputs": [],
   "source": [
    "#array=np.array([4,5,11,3,1,9,0,8,30])\n",
    "array = np.random.random(1024)\n",
    "ft.bubblesort_jit[32,32](array)\n",
    "print array"
   ]
  },
  {
   "cell_type": "code",
   "execution_count": null,
   "metadata": {
    "collapsed": false
   },
   "outputs": [],
   "source": [
    "import accelerate.cuda.sorting as csort"
   ]
  },
  {
   "cell_type": "code",
   "execution_count": null,
   "metadata": {
    "collapsed": false
   },
   "outputs": [],
   "source": [
    "#npts = 16777216\n",
    "npts = 16384\n",
    "array = np.random.random(npts)\n",
    "\n",
    "print array\n",
    "start = time.time()\n",
    "array.sort()\n",
    "print \"This sort took %f seconds\" % (time.time()-start)\n",
    "print array\n"
   ]
  },
  {
   "cell_type": "code",
   "execution_count": null,
   "metadata": {
    "collapsed": false
   },
   "outputs": [],
   "source": [
    "mysort = csort.RadixSort(npts,float)\n",
    "\n",
    "array = np.random.random(npts)\n",
    "print array\n",
    "start = time.time()\n",
    "mysort.sort(array)\n",
    "print \"This sort took %f seconds\" % (time.time()-start)\n",
    "print array\n"
   ]
  },
  {
   "cell_type": "code",
   "execution_count": null,
   "metadata": {
    "collapsed": false
   },
   "outputs": [],
   "source": [
    "array = np.random.random(1024)\n",
    "print array\n",
    "mysort.sort(array)\n",
    "print array"
   ]
  },
  {
   "cell_type": "code",
   "execution_count": null,
   "metadata": {
    "collapsed": false
   },
   "outputs": [],
   "source": [
    "npts = 10000\n",
    "\n",
    "ndata = 1000\n",
    "nMC = 10000\n",
    "\n",
    "array = np.random.random((ndata,nMC))\n",
    "\n",
    "start = time.time()\n",
    "array = array.flatten()\n",
    "index = np.arange(0,ndata*nMC).astype(np.uint32)\n",
    "x = np.arange(nMC,ndata*nMC,nMC).astype(np.uint32)\n",
    "\n",
    "segsort = csort.segmented_sort(array,index,x)\n",
    "print \"This sort took %f seconds\" % (time.time()-start)\n",
    "\n",
    "print array[nMC-10:nMC]\n",
    "print array[nMC:nMC+10]\n"
   ]
  },
  {
   "cell_type": "code",
   "execution_count": null,
   "metadata": {
    "collapsed": false
   },
   "outputs": [],
   "source": [
    "array = np.random.random((ndata,nMC))\n",
    "\n",
    "start = time.time()\n",
    "for a in array:\n",
    "    a.sort()\n",
    "print \"This sort took %f seconds\" % (time.time()-start)\n"
   ]
  },
  {
   "cell_type": "code",
   "execution_count": null,
   "metadata": {
    "collapsed": false
   },
   "outputs": [],
   "source": [
    "array[1]"
   ]
  },
  {
   "cell_type": "code",
   "execution_count": null,
   "metadata": {
    "collapsed": false
   },
   "outputs": [],
   "source": [
    "print data0[0]"
   ]
  },
  {
   "cell_type": "code",
   "execution_count": null,
   "metadata": {
    "collapsed": false
   },
   "outputs": [],
   "source": [
    "arr_ax=data0[0]\n",
    "arr_ay=data0[1]\n",
    "arr_bx=data1[0]\n",
    "arr_by=data1[1]\n",
    "i=0\n",
    "\n",
    "a0x = arr_ax[i] #The x value for each thread and data set 1\n",
    "a0y = arr_ay[i] #The y value for each thread and data set 1\n",
    "arr_out=frac_nn_GPU\n",
    "\n",
    "narr_b = len(arr_bx)\n",
    "diff=np.zeros(npts)\n",
    "\n",
    "for d in xrange(narr_b): #looping through the second data set\n",
    "        diffx=a0x-arr_bx[d] #finding the difference of the x value in data set 1 and the whole data set 2\n",
    "        diffy=a0y-arr_by[d]\n",
    "        diff[d]=diffx*diffx + diffy*diffy\n",
    "        #diff=np.array(diff)\n",
    "        #print diff\n",
    "        #diff=np.array(diff)\n",
    "        #diff.sort()\n",
    "        #radius2 = diff[nneigh-1]\n",
    "        #arr_out[i]=radius2\n",
    "        #arr_out[i]=(float(nneigh)/(np.pi*radius2))\n",
    "        #arr_out[i]=diff\n",
    "        #print diff\n",
    "print diff\n",
    "diff.sort()\n",
    "print diff\n",
    "#print len(arr_out)"
   ]
  },
  {
   "cell_type": "code",
   "execution_count": null,
   "metadata": {
    "collapsed": true
   },
   "outputs": [],
   "source": []
  }
 ],
 "metadata": {
  "kernelspec": {
   "display_name": "Python 2",
   "language": "python",
   "name": "python2"
  },
  "language_info": {
   "codemirror_mode": {
    "name": "ipython",
    "version": 2
   },
   "file_extension": ".py",
   "mimetype": "text/x-python",
   "name": "python",
   "nbconvert_exporter": "python",
   "pygments_lexer": "ipython2",
   "version": "2.7.12"
  }
 },
 "nbformat": 4,
 "nbformat_minor": 0
}
