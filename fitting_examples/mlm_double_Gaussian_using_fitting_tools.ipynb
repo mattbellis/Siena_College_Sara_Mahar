{
 "cells": [
  {
   "cell_type": "code",
   "execution_count": null,
   "metadata": {
    "collapsed": false
   },
   "outputs": [],
   "source": [
    "import fitting_tools as ft\n",
    "import time\n",
    "import numpy as np\n",
    "import matplotlib.pylab as plt"
   ]
  },
  {
   "cell_type": "code",
   "execution_count": null,
   "metadata": {
    "collapsed": false
   },
   "outputs": [],
   "source": [
    "niterations=10\n",
    "sig_points=200\n",
    "MC_points=10000\n",
    "nneighbors=5\n",
    "sig_widths=[0.1,0.1]\n",
    "\n",
    "pulls_list ={}\n",
    "means1=[]\n",
    "stds1=[]\n",
    "start = time.time()\n",
    "print 'number of signal points: %s \\t number of MC point: %s \\t radius: %s \\t width: %s' % (sig_points,MC_points,nneighbors,sig_widths[0])\n",
    "                \n",
    "\n",
    "pulls,org_vals,fit_vals,fit_uncerts,iteration= ft.calc_pull(niterations, sig_points, MC_points, nneighbors,False,sig_widths)\n",
    "\n",
    "\n",
    "\n",
    "name='MC' +str(MC_points) + 'nneighbors'+str(nneighbors)\n",
    "pulls_list[name]=pulls\n",
    "\n",
    "parameters_mean1 = {'signal': sig_points, 'MC_points': MC_points, 'nearest neighbors': nneighbors, 'mean pulls': np.mean(pulls), 'width':sig_widths[0]}\n",
    "means1.append(parameters_mean1)\n",
    "parameters_std1 = {'signal': sig_points, 'MC_points': MC_points, 'nearest neighbors': nneighbors, 'mean stds': np.std(pulls),'width':sig_widths[0]}\n",
    "stds1.append(parameters_std1)\n",
    "print \"time to calc %d iterations: %f s\" % (niterations, time.time() - start)        \n",
    "\n",
    "print means1\n",
    "print stds1\n",
    "print '--------------------'"
   ]
  },
  {
   "cell_type": "code",
   "execution_count": null,
   "metadata": {
    "collapsed": false
   },
   "outputs": [],
   "source": [
    "niterations=1000\n",
    "sig_points=200\n",
    "MC_points=5000\n",
    "nneighbors=5\n",
    "sig_widths=[0.1,0.1]\n",
    "\n",
    "pulls_list ={}\n",
    "means=[]\n",
    "stds=[]\n",
    "start = time.time()\n",
    "print 'number of signal points: %s \\t number of MC point: %s \\t radius: %s \\t width: %s' % (sig_points,MC_points,nneighbors,sig_widths[0])\n",
    "                \n",
    "\n",
    "pulls_bs,org_vals_bs,fit_vals_bs,fit_uncerts_bs,iteration_bs= ft.calc_pull_w_bootstrapping(niterations, sig_points, MC_points, nneighbors,False,sig_widths)\n",
    "\n",
    "\n",
    "\n",
    "name='MC' +str(MC_points) + 'nneighbors'+str(nneighbors)\n",
    "pulls_list[name]=pulls\n",
    "\n",
    "parameters_mean = {'signal': sig_points, 'MC_points': MC_points, 'nearest neighbors': nneighbors, 'mean pulls': np.mean(pulls_bs), 'width':sig_widths[0]}\n",
    "means.append(parameters_mean)\n",
    "parameters_std = {'signal': sig_points, 'MC_points': MC_points, 'nearest neighbors': nneighbors, 'mean stds': np.std(pulls_bs),'width':sig_widths[0]}\n",
    "stds.append(parameters_std)\n",
    "print \"time to calc %d iterations: %f s\" % (niterations, time.time() - start)        \n",
    "\n",
    "print means\n",
    "print stds\n",
    "print '--------------------'"
   ]
  },
  {
   "cell_type": "code",
   "execution_count": null,
   "metadata": {
    "collapsed": false
   },
   "outputs": [],
   "source": [
    "print sum(fit_uncerts)/len(fit_uncerts)"
   ]
  },
  {
   "cell_type": "code",
   "execution_count": null,
   "metadata": {
    "collapsed": false
   },
   "outputs": [],
   "source": [
    "print sum(fit_uncerts_bs)/len(fit_uncerts_bs)"
   ]
  },
  {
   "cell_type": "code",
   "execution_count": null,
   "metadata": {
    "collapsed": false
   },
   "outputs": [],
   "source": [
    "name='MC' +str(MC_points) + 'nneighbors'+str(nneighbors)\n",
    "pulls_list[name]=pulls\n",
    "means=[]\n",
    "stds=[]\n",
    "\n",
    "parameters_mean = {'signal': sig_points, 'MC_points': MC_points, 'nearest neighbors': nneighbors, 'mean pulls': np.mean(pulls_bs), 'width':sig_widths[0]}\n",
    "means.append(parameters_mean)\n",
    "parameters_std = {'signal': sig_points, 'MC_points': MC_points, 'nearest neighbors': nneighbors, 'mean stds': np.std(pulls_bs),'width':sig_widths[0]}\n",
    "stds.append(parameters_std)\n",
    "print \"time to calc %d iterations: %f s\" % (niterations, time.time() - start)  \n",
    "\n",
    "print means\n",
    "print stds\n",
    "print '--------------------'"
   ]
  },
  {
   "cell_type": "code",
   "execution_count": null,
   "metadata": {
    "collapsed": false
   },
   "outputs": [],
   "source": []
  },
  {
   "cell_type": "code",
   "execution_count": null,
   "metadata": {
    "collapsed": false
   },
   "outputs": [],
   "source": []
  },
  {
   "cell_type": "code",
   "execution_count": null,
   "metadata": {
    "collapsed": false
   },
   "outputs": [],
   "source": [
    "\n",
    "\n",
    "plt.figure()\n",
    "plt.hist(fit_uncerts)\n",
    "\n",
    "plt.figure()\n",
    "plt.hist(fit_uncerts_bs)"
   ]
  },
  {
   "cell_type": "code",
   "execution_count": null,
   "metadata": {
    "collapsed": false
   },
   "outputs": [],
   "source": [
    "print org_vals1\n",
    "print fit_vals1\n",
    "print fit_uncerts1\n",
    "\n",
    "print (np.array(fit_vals1)-np.array(org_vals1))/np.array(fit_uncerts1)\n",
    "\n",
    "print fit_uncerts1"
   ]
  },
  {
   "cell_type": "code",
   "execution_count": null,
   "metadata": {
    "collapsed": false
   },
   "outputs": [],
   "source": [
    "plt.figure()\n",
    "plt.hist(pulls,bins=20)\n",
    "\n",
    "plt.figure()\n",
    "plt.hist(np.array(fit_vals1)-np.array(org_vals1),bins=20)\n"
   ]
  },
  {
   "cell_type": "code",
   "execution_count": null,
   "metadata": {
    "collapsed": false,
    "scrolled": false
   },
   "outputs": [],
   "source": [
    "plt.figure()\n",
    "colors=['b','g','y','r']\n",
    "markers=['o','^','+']\n",
    "marker_sizes=[5,10,60]\n",
    "labels=[]\n",
    "\n",
    "\n",
    "for item in means1:\n",
    "    if item['width']==width_list[0]:\n",
    "        label='MC=' + str(item['MC_points']) + ' signal=' + str(item['signal'])\n",
    "        \n",
    "    \n",
    "        if item['MC_points']== MC_list[0]:\n",
    "            color=colors[0]\n",
    "        #if item['MC_points']==MC_list[1]:\n",
    "        #    color=colors[1]\n",
    "\n",
    "        if item['signal']==sig_list[0]:\n",
    "            marker=markers[0]\n",
    "        #if item['signal']==sig_list[1]:\n",
    "        #    marker=markers[1]\n",
    "        for x in labels:\n",
    "            if label==x:\n",
    "                label=\"\"       \n",
    "        plt.plot(item['nearest neighbors'],item['mean pulls'], color=color, marker=marker,label=label)\n",
    "        labels.append(label)\n",
    "\n",
    "plt.legend(loc='lower right')\n",
    "plt.title(\"Means with widths of \"+str(width_list[0]))\n",
    "           \n",
    "plt.figure()\n",
    "labels=[]\n",
    "           \n",
    "for item in means1:\n",
    "    if item['width']==width_list[1]:\n",
    "        label='MC=' + str(item['MC_points']) +  ' signal=' + str(item['signal'])\n",
    "    \n",
    "        if item['MC_points']== MC_list[0]:\n",
    "            color=colors[0]\n",
    "        #if item['MC_points']==MC_list[1]:\n",
    "        #    color=colors[1]\n",
    "\n",
    "        if item['signal']==sig_list[0]:\n",
    "            marker=markers[0]\n",
    "        #if item['signal']==sig_list[1]:\n",
    "        #    marker=markers[1]\n",
    "\n",
    "        for x in labels:\n",
    "            if label==x:\n",
    "                label=\"\"\n",
    "            \n",
    "        plt.plot(item['nearest neighbors'],item['mean pulls'], color=color, marker=marker,label=label)\n",
    "        labels.append(label)\n",
    "\n",
    "plt.legend(loc='lower right')    \n",
    "\n",
    "plt.title(\"Means with widths of \"+str(width_list[1]))\n",
    "\n",
    "\n",
    "plt.figure()\n",
    "labels=[]\n",
    "           \n",
    "for item in stds1:\n",
    "    if item['width']==width_list[0]:\n",
    "        label='MC=' + str(item['MC_points']) +  ' signal=' + str(item['signal'])\n",
    "    \n",
    "        if item['MC_points']== MC_list[0]:\n",
    "            color=colors[0]\n",
    "        #if item['MC_points']==MC_list[1]:\n",
    "        #    color=colors[1]\n",
    "\n",
    "        if item['signal']==sig_list[0]:\n",
    "            marker=markers[0]\n",
    "        #if item['signal']==sig_list[1]:\n",
    "        #    marker=markers[1]\n",
    "\n",
    "        for x in labels:\n",
    "            if label==x:\n",
    "                label=\"\"\n",
    "            \n",
    "        plt.plot(item['nearest neighbors'],item['mean stds'], color=color, marker=marker,label=label)\n",
    "        labels.append(label)\n",
    "\n",
    "plt.legend(loc='lower right')   \n",
    "\n",
    "plt.title(\"Standard Deviations with widths of \"+str(width_list[0]))\n",
    "\n",
    "\n",
    "\n",
    "\n",
    "plt.figure()\n",
    "labels=[]\n",
    "           \n",
    "for item in stds1:\n",
    "    if item['width']==width_list[1]:\n",
    "        label='MC=' + str(item['MC_points']) +  ' signal=' + str(item['signal'])\n",
    "    \n",
    "        if item['MC_points']== MC_list[0]:\n",
    "            color=colors[0]\n",
    "        #if item['MC_points']==MC_list[1]:\n",
    "        #    color=colors[1]\n",
    "\n",
    "        if item['signal']==sig_list[0]:\n",
    "            marker=markers[0]\n",
    "        #if item['signal']==sig_list[1]:\n",
    "        #    marker=markers[1]\n",
    "\n",
    "        for x in labels:\n",
    "            if label==x:\n",
    "                label=\"\"\n",
    "            \n",
    "        plt.plot(item['nearest neighbors'],item['mean stds'], color=color, marker=marker,label=label)\n",
    "        labels.append(label)\n",
    "\n",
    "plt.legend(loc='lower right')\n",
    "\n",
    "plt.title(\"Standard Deviations with widths of \"+str(width_list[1]))\n",
    "\n"
   ]
  },
  {
   "cell_type": "code",
   "execution_count": null,
   "metadata": {
    "collapsed": false
   },
   "outputs": [],
   "source": [
    "#800 signal points\n",
    "#pythagorean method\n",
    "means800=[]\n",
    "stds800=[]\n",
    "\n",
    "#sig_widths = [0.6,0.6]\n",
    "sig_list=[200,400]\n",
    "MC_list=[10000,100000]\n",
    "rad_list=[0.01,0.05,0.1,0.15,0.20]\n",
    "width_list=[0.06,.15]\n",
    "\n",
    "pulls_list ={}\n",
    "for sig in sig_list:\n",
    "    for MC in MC_list: #,100000]:\n",
    "        start = time.time()\n",
    "        for rad in rad_list:#,0.05,0.1,0.15,0.20]: #, 0.10,0.20,0.50]:\n",
    "            for w in width_list:\n",
    "                sign_widths=[w,w]\n",
    "                start = time.time()\n",
    "                print 'number of signal points: %s \\t number of MC point: %s \\tradius: %s \\t width: %s' % (sig,MC,rad,w)\n",
    "                pulls,org_vals1,fit_vals1,fit_uncerts1,iteration= calc_pull(10, sig, MC, rad,False,sig_widths)\n",
    "                name='MC' +str(MC) + 'rad'+str(rad)\n",
    "                pulls_list[name]=pulls\n",
    "\n",
    "                parameters_mean = {'signal': sig, 'MC_points': MC, 'radius': rad, 'mean pulls': np.mean(pulls), 'width':w}\n",
    "                means800.append(parameters_mean)\n",
    "                parameters_std = {'signal': sig, 'MC_points': MC, 'radius': rad, 'mean stds': np.std(pulls),'width':w}\n",
    "                stds800.append(parameters_std)\n",
    "                print \"time to calc 10 iterations: %f s\" % (time.time() - start)        \n",
    "\n",
    "print means800\n",
    "print stds800\n",
    "print '--------------------'\n",
    "\n"
   ]
  },
  {
   "cell_type": "code",
   "execution_count": null,
   "metadata": {
    "collapsed": false
   },
   "outputs": [],
   "source": []
  },
  {
   "cell_type": "code",
   "execution_count": null,
   "metadata": {
    "collapsed": false
   },
   "outputs": [],
   "source": [
    "plt.figure()\n",
    "colors=['b','g','y','r']\n",
    "markers=['o','^','+']\n",
    "marker_sizes=[5,10,60]\n",
    "labels=[]\n",
    "\n",
    "for item in means800:\n",
    "    label='MC=' + str(item['MC_points']) + ' width='+str(item['width'])+ ' signal=' + str(item['signal'])\n",
    "    if item['MC_points']== MC_list[0]:\n",
    "        color=colors[0]\n",
    "    if item['MC_points']==MC_list[1]:\n",
    "        color=colors[1]\n",
    "        \n",
    "    if item['signal']==sig_list[0]:\n",
    "        marker=markers[0]\n",
    "    if item['signal']==sig_list[1]:\n",
    "        marker=markers[1]\n",
    "        \n",
    "    if item['width']==width_list[0]:\n",
    "        marker_size=marker_sizes[0]\n",
    "    if item['width']==width_list[1]:\n",
    "        marker_size=marker_sizes[1]\n",
    "        \n",
    "    for x in labels:\n",
    "        if label==x:\n",
    "            label=\"\"\n",
    "            \n",
    "    plt.plot(item['radius'],item['mean pulls'], color=color, marker=marker,markersize=marker_size,label=label)\n",
    "    labels.append(label)\n",
    "\n",
    "plt.legend(loc='center left', bbox_to_anchor=(0.6,0.5))\n",
    "#plt.ylim(-1,.1)\n",
    "#plt.ylim(-.5,.5)\n",
    "labels=[]\n",
    "\n",
    "plt.figure()\n",
    "for item in stds800:\n",
    "    label='MC=' + str(item['MC_points']) + ' width='+str(item['width'])+ ' signal=' + str(item['signal'])\n",
    "    if item['MC_points']== MC_list[0]:\n",
    "        color=colors[0]\n",
    "    if item['MC_points']==MC_list[1]:\n",
    "        color=colors[1]\n",
    "    if item['signal']==sig_list[0]:\n",
    "        marker=markers[0]\n",
    "    if item['signal']==sig_list[1]:\n",
    "        marker=markers[1]\n",
    "    if item['width']==width_list[0]:\n",
    "        marker_size=marker_sizes[0]\n",
    "    if item['width']==width_list[1]:\n",
    "        marker_size=marker_sizes[1]\n",
    "    for x in labels:\n",
    "        if label==x:\n",
    "            label=\"\"\n",
    "            \n",
    "    plt.plot(item['radius'],item['mean stds'], color=color, marker=marker,markersize=marker_size,label=label)\n",
    "labels.append(label)\n",
    "\n",
    "plt.legend(loc='center left', bbox_to_anchor=(0.6,0.5))\n",
    "#plt.xlim(0,.15)"
   ]
  },
  {
   "cell_type": "code",
   "execution_count": null,
   "metadata": {
    "collapsed": false
   },
   "outputs": [],
   "source": []
  },
  {
   "cell_type": "code",
   "execution_count": null,
   "metadata": {
    "collapsed": false
   },
   "outputs": [],
   "source": []
  }
 ],
 "metadata": {
  "kernelspec": {
   "display_name": "Python 2",
   "language": "python",
   "name": "python2"
  },
  "language_info": {
   "codemirror_mode": {
    "name": "ipython",
    "version": 2
   },
   "file_extension": ".py",
   "mimetype": "text/x-python",
   "name": "python",
   "nbconvert_exporter": "python",
   "pygments_lexer": "ipython2",
   "version": "2.7.11"
  }
 },
 "nbformat": 4,
 "nbformat_minor": 0
}
