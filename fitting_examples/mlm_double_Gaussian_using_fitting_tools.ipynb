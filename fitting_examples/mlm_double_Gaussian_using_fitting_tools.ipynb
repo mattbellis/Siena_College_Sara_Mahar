{
 "cells": [
  {
   "cell_type": "code",
   "execution_count": 1,
   "metadata": {
    "collapsed": false
   },
   "outputs": [],
   "source": [
    "import fitting_tools as ft\n",
    "import time\n",
    "import numpy as np\n",
    "import matplotlib.pylab as plt"
   ]
  },
  {
   "cell_type": "code",
   "execution_count": null,
   "metadata": {
    "collapsed": false
   },
   "outputs": [
    {
     "name": "stdout",
     "output_type": "stream",
     "text": [
      "number of signal points: 200 \t number of MC point: 1000 \t radius: 5 \t width: 0.1\n"
     ]
    }
   ],
   "source": [
    "#Calculates the pulls of mean and std with nearest neighbors but without boostrapping\n",
    "\n",
    "\n",
    "niterations=1000\n",
    "sig_points=200\n",
    "MC_signal=1000\n",
    "MC_background=1000\n",
    "nneigh=5\n",
    "sig_widths=[0.1,0.1]\n",
    "\n",
    "pulls_list ={}\n",
    "means1=[]\n",
    "stds1=[]\n",
    "start = time.time()\n",
    "print 'number of signal points: %s \\t number of MC point: %s \\t radius: %s \\t width: %s' % (sig_points,MC_signal,nneigh,sig_widths[0])\n",
    "                \n",
    "\n",
    "pulls,org_vals,fit_vals,fit_uncerts,iteration= ft.calc_pull(niterations, sig_points, MC_signal, MC_background,sig_widths,nneigh=nneigh)\n",
    "\n",
    "\n",
    "\n",
    "name='MC_signal' +str(MC_signal) + 'MC_bkg'+ str(MC_background) + 'nneighbors'+str(nneigh)\n",
    "pulls_list[name]=pulls\n",
    "\n",
    "parameters_mean1 = {'signal': sig_points, 'MC_signal': MC_signal, 'nearest neighbors': nneigh, 'mean pulls': np.mean(pulls), 'width':sig_widths[0]}\n",
    "means1.append(parameters_mean1)\n",
    "parameters_std1 = {'signal': sig_points, 'MC_signal': MC_signal, 'nearest neighbors': nneigh, 'mean stds': np.std(pulls),'width':sig_widths[0]}\n",
    "stds1.append(parameters_std1)\n",
    "print \"time to calc %d iterations: %f s\" % (niterations, time.time() - start)        \n",
    "\n",
    "print means1\n",
    "print stds1\n",
    "print '--------------------'"
   ]
  },
  {
   "cell_type": "code",
   "execution_count": null,
   "metadata": {
    "collapsed": false
   },
   "outputs": [],
   "source": [
    "#Calculates the pulls of mean and std with nearest neighbors and with bootstrapping\n",
    "\n",
    "niterations=1000\n",
    "sig_points=200\n",
    "MC_signal=1000\n",
    "MC_background=1000\n",
    "nneigh=5\n",
    "sig_widths=[0.1,0.1]\n",
    "\n",
    "pulls_list ={}\n",
    "means=[]\n",
    "stds=[]\n",
    "start = time.time()\n",
    "print 'number of signal points: %s \\t number of MC point: %s \\t radius: %s \\t width: %s' % (sig_points,MC_signal,nneigh,sig_widths[0])\n",
    "                \n",
    "\n",
    "pulls_bs,org_vals_bs,fit_vals_bs,fit_uncerts_bs,iteration_bs= ft.calc_pull_w_bootstrapping(niterations, sig_points, MC_signal, MC_background,nneigh,sig_widths)\n",
    "\n",
    "\n",
    "\n",
    "name='MC' +str(MC_signal) + 'nneighbors'+str(nneigh)\n",
    "pulls_list[name]=pulls\n",
    "\n",
    "parameters_mean = {'signal': sig_points, 'MC_points': MC_signal, 'nearest neighbors': nneigh, 'mean pulls': np.mean(pulls_bs), 'width':sig_widths[0]}\n",
    "means.append(parameters_mean)\n",
    "parameters_std = {'signal': sig_points, 'MC_points': MC_signal, 'nearest neighbors': nneigh, 'mean stds': np.std(pulls_bs),'width':sig_widths[0]}\n",
    "stds.append(parameters_std)\n",
    "print \"time to calc %d iterations: %f s\" % (niterations, time.time() - start)        \n",
    "\n",
    "print means\n",
    "print stds\n",
    "print '--------------------'"
   ]
  },
  {
   "cell_type": "code",
   "execution_count": null,
   "metadata": {
    "collapsed": false
   },
   "outputs": [],
   "source": [
    "print sum(fit_uncerts)/len(fit_uncerts)"
   ]
  },
  {
   "cell_type": "code",
   "execution_count": null,
   "metadata": {
    "collapsed": false
   },
   "outputs": [],
   "source": [
    "print sum(fit_uncerts_bs)/len(fit_uncerts_bs)"
   ]
  },
  {
   "cell_type": "code",
   "execution_count": null,
   "metadata": {
    "collapsed": false
   },
   "outputs": [],
   "source": [
    "#Calculates the pulls of mean and std with analytic function \n",
    "\n",
    "pulls_list ={}\n",
    "means=[]\n",
    "stds=[]\n",
    "start = time.time()\n",
    "print 'number of signal points: %s \\t number of MC point: %s \\t radius: %s \\t width: %s' % (sig_points,MC_points,nneigh,sig_widths[0])\n",
    "\n",
    "pulls_analytic,org_vals_analytic,fit_vals_analytic,fit_uncerts_analytic,iteration_analytic= ft.calc_pull_analytic(niterations, sig_points, MC_points,sig_widths,nneigh)\n",
    "\n",
    "\n",
    "\n",
    "name='MC' +str(MC_points) + 'nneighbors'+str(nneigh)\n",
    "pulls_list[name]=pulls\n",
    "\n",
    "parameters_mean = {'signal': sig_points, 'MC_points': MC_points, 'nearest neighbors': nneigh, 'mean pulls': np.mean(pulls_analytic), 'width':sig_widths[0]}\n",
    "means.append(parameters_mean)\n",
    "parameters_std = {'signal': sig_points, 'MC_points': MC_points, 'nearest neighbors': nneigh, 'mean stds': np.std(pulls_analytic),'width':sig_widths[0]}\n",
    "stds.append(parameters_std)\n",
    "print \"time to calc %d iterations: %f s\" % (niterations, time.time() - start)        \n",
    "\n",
    "print means\n",
    "print stds\n",
    "print '--------------------'"
   ]
  },
  {
   "cell_type": "code",
   "execution_count": null,
   "metadata": {
    "collapsed": false
   },
   "outputs": [],
   "source": [
    "#Calculates the pulls of mean and std with nearest neighbors but without boostrapping\n",
    "#Testing radius\n",
    "\n",
    "\n",
    "niterations=10\n",
    "sig_points=200\n",
    "MC_signal=1000\n",
    "MC_background=5000\n",
    "nneigh=5\n",
    "sig_widths=[0.1,0.1]\n",
    "rad=.1\n",
    "\n",
    "pulls_list ={}\n",
    "means1=[]\n",
    "stds1=[]\n",
    "start = time.time()\n",
    "print 'number of signal points: %s \\t number of MC point: %s \\t radius: %s \\t width: %s' % (sig_points,MC_signal,nneigh,sig_widths[0])\n",
    "                \n",
    "\n",
    "pulls,org_vals,fit_vals,fit_uncerts,iteration= ft.calc_pull(niterations, sig_points, MC_signal, MC_background,sig_widths,rad)\n",
    "\n",
    "\n",
    "\n",
    "name='MC_signal' +str(MC_signal) + 'MC_bkg'+ str(MC_background) + 'nneighbors'+str(nneigh)\n",
    "pulls_list[name]=pulls\n",
    "\n",
    "parameters_mean1 = {'signal': sig_points, 'MC_signal': MC_signal, 'nearest neighbors': nneigh, 'mean pulls': np.mean(pulls), 'width':sig_widths[0]}\n",
    "means1.append(parameters_mean1)\n",
    "parameters_std1 = {'signal': sig_points, 'MC_signal': MC_signal, 'nearest neighbors': nneigh, 'mean stds': np.std(pulls),'width':sig_widths[0]}\n",
    "stds1.append(parameters_std1)\n",
    "print \"time to calc %d iterations: %f s\" % (niterations, time.time() - start)        \n",
    "\n",
    "print means1\n",
    "print stds1\n",
    "print '--------------------'"
   ]
  },
  {
   "cell_type": "code",
   "execution_count": null,
   "metadata": {
    "collapsed": true
   },
   "outputs": [],
   "source": [
    "\n"
   ]
  },
  {
   "cell_type": "code",
   "execution_count": null,
   "metadata": {
    "collapsed": false
   },
   "outputs": [],
   "source": []
  },
  {
   "cell_type": "code",
   "execution_count": null,
   "metadata": {
    "collapsed": false
   },
   "outputs": [],
   "source": []
  },
  {
   "cell_type": "code",
   "execution_count": null,
   "metadata": {
    "collapsed": false
   },
   "outputs": [],
   "source": []
  },
  {
   "cell_type": "code",
   "execution_count": null,
   "metadata": {
    "collapsed": false
   },
   "outputs": [],
   "source": [
    "plt.figure()\n",
    "plt.hist(pulls,bins=20)\n",
    "\n",
    "plt.figure()\n",
    "plt.hist(np.array(fit_vals1)-np.array(org_vals1),bins=20)\n"
   ]
  },
  {
   "cell_type": "code",
   "execution_count": null,
   "metadata": {
    "collapsed": false,
    "scrolled": false
   },
   "outputs": [],
   "source": [
    "\n",
    "\n"
   ]
  },
  {
   "cell_type": "code",
   "execution_count": null,
   "metadata": {
    "collapsed": false
   },
   "outputs": [],
   "source": [
    "\n"
   ]
  },
  {
   "cell_type": "code",
   "execution_count": null,
   "metadata": {
    "collapsed": false
   },
   "outputs": [],
   "source": []
  },
  {
   "cell_type": "code",
   "execution_count": null,
   "metadata": {
    "collapsed": false
   },
   "outputs": [],
   "source": []
  },
  {
   "cell_type": "code",
   "execution_count": null,
   "metadata": {
    "collapsed": false
   },
   "outputs": [],
   "source": []
  },
  {
   "cell_type": "code",
   "execution_count": null,
   "metadata": {
    "collapsed": false
   },
   "outputs": [],
   "source": []
  }
 ],
 "metadata": {
  "kernelspec": {
   "display_name": "Python 2",
   "language": "python",
   "name": "python2"
  },
  "language_info": {
   "codemirror_mode": {
    "name": "ipython",
    "version": 2
   },
   "file_extension": ".py",
   "mimetype": "text/x-python",
   "name": "python",
   "nbconvert_exporter": "python",
   "pygments_lexer": "ipython2",
   "version": "2.7.12"
  }
 },
 "nbformat": 4,
 "nbformat_minor": 0
}
