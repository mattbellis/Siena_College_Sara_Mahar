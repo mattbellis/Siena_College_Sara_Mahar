{
 "cells": [
  {
   "cell_type": "code",
   "execution_count": 1,
   "metadata": {
    "collapsed": false
   },
   "outputs": [],
   "source": [
    "import fitting_tools as ft\n",
    "import time\n",
    "import numpy as np\n",
    "import matplotlib.pylab as plt\n",
    "%matplotlib notebook"
   ]
  },
  {
   "cell_type": "code",
   "execution_count": 2,
   "metadata": {
    "collapsed": true
   },
   "outputs": [],
   "source": [
    "#initial conditions that stay the same\n",
    "niterations=100\n",
    "sig_points=200\n",
    "nneigh=5\n",
    "sig_widths=[0.1,0.1]"
   ]
  },
  {
   "cell_type": "code",
   "execution_count": null,
   "metadata": {
    "collapsed": false
   },
   "outputs": [],
   "source": [
    "#Calculates the pulls of mean and std with nearest neighbors \n",
    "#without boostrapping\n",
    "\n",
    "\n",
    "MC_signal=5000\n",
    "MC_background=10000\n",
    "\n",
    "start = time.time()\n",
    "print 'num of sig points: %s \\t num of MC sig: %s \\t num of MC bkg: %s \\t nearest neighbors: %s \\t width: %s ' % (sig_points,MC_signal,MC_background,nneigh,sig_widths[0])\n",
    "pulls,org_vals,fit_vals,fit_uncerts,iteration= ft.calc_pull(niterations, sig_points, MC_signal, MC_background,sig_widths,nneigh=nneigh)\n",
    "\n",
    "mean_pulls1=np.mean(pulls)\n",
    "std_pulls1=np.std(pulls)\n",
    "avg_uncertainty1=np.mean(fit_uncerts)\n",
    "\n",
    "print \"mean pulls: %f\" % mean_pulls1\n",
    "print \"stds pulls: %f\" % std_pulls1\n",
    "print \"average uncertainty: %f\" % avg_uncertainty1\n",
    "print \"time to calc %d iterations: %f s\" % (niterations, time.time() - start)"
   ]
  },
  {
   "cell_type": "code",
   "execution_count": null,
   "metadata": {
    "collapsed": false
   },
   "outputs": [],
   "source": [
    "#Calculates the pulls of mean and std with nearest neighbors \n",
    "#with boostrapping\n",
    "\n",
    "MC_signal=5000\n",
    "MC_background=10000\n",
    "num_boot_samples=10\n",
    "\n",
    "start = time.time()\n",
    "print 'num of sig points: %s \\t num of MC sig: %s \\t num of MC bkg: %s \\t nearest neighbors: %s \\t width: %s ' % (sig_points,MC_signal,MC_background,nneigh,sig_widths[0])\n",
    "pulls,org_vals,fit_vals,fit_uncerts,iteration= ft.calc_pull_w_bootstrapping(niterations, sig_points, MC_signal, MC_background,num_boot_samples,nneigh,sig_widths)\n",
    "\n",
    "mean_pulls2=np.mean(pulls)\n",
    "std_pulls2=np.std(pulls)\n",
    "avg_uncertainty2=np.mean(fit_uncerts)\n",
    "\n",
    "print \"mean pulls: %f\" % mean_pulls2\n",
    "print \"stds pulls: %f\" % std_pulls2\n",
    "print \"average uncertainty: %f\" % avg_uncertainty2\n",
    "print \"time to calc %d iterations: %f s\" % (niterations, time.time() - start)"
   ]
  },
  {
   "cell_type": "code",
   "execution_count": null,
   "metadata": {
    "collapsed": false
   },
   "outputs": [],
   "source": [
    "#Calculates the pulls of mean and std with nearest neighbors \n",
    "#without boostrapping\n",
    "\n",
    "MC_signal=50000\n",
    "MC_background=100000\n",
    "\n",
    "start = time.time()\n",
    "print 'num of sig points: %s \\t num of MC sig: %s \\t num of MC bkg: %s \\t nearest neighbors: %s \\t width: %s ' % (sig_points,MC_signal,MC_background,nneigh,sig_widths[0])\n",
    "pulls,org_vals,fit_vals,fit_uncerts,iteration= ft.calc_pull(niterations, sig_points, MC_signal, MC_background,sig_widths,nneigh=nneigh)\n",
    "\n",
    "mean_pulls3=np.mean(pulls)\n",
    "std_pulls3=np.std(pulls)\n",
    "avg_uncertainty3=np.mean(fit_uncerts)\n",
    "\n",
    "print \"mean pulls: %f\" % mean_pulls3\n",
    "print \"stds pulls: %f\" % std_pulls3\n",
    "print \"average uncertainty: %f\" % avg_uncertainty3\n",
    "print \"time to calc %d iterations: %f s\" % (niterations, time.time() - start)"
   ]
  },
  {
   "cell_type": "code",
   "execution_count": null,
   "metadata": {
    "collapsed": false
   },
   "outputs": [],
   "source": [
    "#Calculates the pulls of mean and std with nearest neighbors \n",
    "#with boostrapping\n",
    "\n",
    "MC_signal=50000\n",
    "MC_background=100000\n",
    "num_boot_samples=10\n",
    "\n",
    "start = time.time()\n",
    "print 'num of sig points: %s \\t num of MC sig: %s \\t num of MC bkg: %s \\t nearest neighbors: %s \\t width: %s ' % (sig_points,MC_signal,MC_background,nneigh,sig_widths[0])\n",
    "pulls,org_vals,fit_vals,fit_uncerts,iteration= ft.calc_pull_w_bootstrapping(niterations, sig_points, MC_signal, MC_background,num_boot_samples,nneigh,sig_widths)\n",
    "\n",
    "mean_pulls4=np.mean(pulls)\n",
    "std_pulls4=np.std(pulls)\n",
    "avg_uncertainty4=np.mean(fit_uncerts)\n",
    "\n",
    "print \"mean pulls: %f\" % mean_pulls4\n",
    "print \"stds pulls: %f\" % std_pulls4\n",
    "print \"average uncertainty: %f\" % avg_uncertainty4\n",
    "print \"time to calc %d iterations: %f s\" % (niterations, time.time() - start)"
   ]
  },
  {
   "cell_type": "code",
   "execution_count": null,
   "metadata": {
    "collapsed": false
   },
   "outputs": [],
   "source": [
    "#Calculates the pulls of mean and std with nearest neighbors \n",
    "#without boostrapping\n",
    "\n",
    "MC_signal=100000\n",
    "MC_background=100000\n",
    "\n",
    "start = time.time()\n",
    "print 'num of sig points: %s \\t num of MC sig: %s \\t num of MC bkg: %s \\t nearest neighbors: %s \\t width: %s ' % (sig_points,MC_signal,MC_background,nneigh,sig_widths[0])\n",
    "pulls,org_vals,fit_vals,fit_uncerts,iteration= ft.calc_pull(niterations, sig_points, MC_signal, MC_background,sig_widths,nneigh=nneigh)\n",
    "\n",
    "mean_pulls5=np.mean(pulls)\n",
    "std_pulls5=np.std(pulls)\n",
    "avg_uncertainty5=np.mean(fit_uncerts)\n",
    "\n",
    "print \"mean pulls: %f\" % mean_pulls5\n",
    "print \"stds pulls: %f\" % std_pulls5\n",
    "print \"average uncertainty: %f\" % avg_uncertainty5\n",
    "print \"time to calc %d iterations: %f s\" % (niterations, time.time() - start)"
   ]
  },
  {
   "cell_type": "code",
   "execution_count": null,
   "metadata": {
    "collapsed": false
   },
   "outputs": [],
   "source": [
    "#Calculates the pulls of mean and std with nearest neighbors \n",
    "#with boostrapping\n",
    "\n",
    "MC_signal=100000\n",
    "MC_background=100000\n",
    "num_boot_samples=10\n",
    "\n",
    "start = time.time()\n",
    "print 'num of sig points: %s \\t num of MC sig: %s \\t num of MC bkg: %s \\t nearest neighbors: %s \\t width: %s ' % (sig_points,MC_signal,MC_background,nneigh,sig_widths[0])\n",
    "pulls,org_vals,fit_vals,fit_uncerts,iteration= ft.calc_pull_w_bootstrapping(niterations, sig_points, MC_signal, MC_background,num_boot_samples,nneigh,sig_widths)\n",
    "\n",
    "mean_pulls6=np.mean(pulls)\n",
    "std_pulls6=np.std(pulls)\n",
    "avg_uncertainty6=np.mean(fit_uncerts)\n",
    "\n",
    "print \"mean pulls: %f\" % mean_pulls6\n",
    "print \"stds pulls: %f\" % std_pulls6\n",
    "print \"average uncertainty: %f\" % avg_uncertainty6\n",
    "print \"time to calc %d iterations: %f s\" % (niterations, time.time() - start)"
   ]
  },
  {
   "cell_type": "code",
   "execution_count": null,
   "metadata": {
    "collapsed": false
   },
   "outputs": [],
   "source": [
    "#Calculates the pulls of mean and std with nearest neighbors \n",
    "#without boostrapping\n",
    "\n",
    "MC_signal=1000\n",
    "MC_background=1000\n",
    "\n",
    "start = time.time()\n",
    "print 'num of sig points: %s \\t num of MC sig: %s \\t num of MC bkg: %s \\t nearest neighbors: %s \\t width: %s ' % (sig_points,MC_signal,MC_background,nneigh,sig_widths[0])\n",
    "pulls,org_vals,fit_vals,fit_uncerts,iteration= ft.calc_pull(niterations, sig_points, MC_signal, MC_background,sig_widths,nneigh=nneigh)\n",
    "\n",
    "mean_pulls7=np.mean(pulls)\n",
    "std_pulls7=np.std(pulls)\n",
    "avg_uncertainty7=np.mean(fit_uncerts)\n",
    "\n",
    "print \"mean pulls: %f\" % mean_pulls7\n",
    "print \"stds pulls: %f\" % std_pulls7\n",
    "print \"average uncertainty: %f\" % avg_uncertainty7\n",
    "print \"time to calc %d iterations: %f s\" % (niterations, time.time() - start)"
   ]
  },
  {
   "cell_type": "code",
   "execution_count": null,
   "metadata": {
    "collapsed": false
   },
   "outputs": [],
   "source": [
    "#Calculates the pulls of mean and std with nearest neighbors \n",
    "#with boostrapping\n",
    "\n",
    "MC_signal=1000\n",
    "MC_background=1000\n",
    "num_boot_samples=1000\n",
    "\n",
    "start = time.time()\n",
    "print 'num of sig points: %s \\t num of MC sig: %s \\t num of MC bkg: %s \\t nearest neighbors: %s \\t width: %s ' % (sig_points,MC_signal,MC_background,nneigh,sig_widths[0])\n",
    "pulls,org_vals,fit_vals,fit_uncerts,iteration= ft.calc_pull_w_bootstrapping(niterations, sig_points, MC_signal, MC_background,num_boot_samples,nneigh,sig_widths)\n",
    "\n",
    "mean_pulls8=np.mean(pulls)\n",
    "std_pulls8=np.std(pulls)\n",
    "avg_uncertainty8=np.mean(fit_uncerts)\n",
    "\n",
    "print \"mean pulls: %f\" % mean_pulls8\n",
    "print \"stds pulls: %f\" % std_pulls8\n",
    "print \"average uncertainty: %f\" % avg_uncertainty8\n",
    "print \"time to calc %d iterations: %f s\" % (niterations, time.time() - start)"
   ]
  },
  {
   "cell_type": "code",
   "execution_count": null,
   "metadata": {
    "collapsed": false
   },
   "outputs": [],
   "source": [
    "#Calculates the pulls of mean and std with nearest neighbors \n",
    "#without boostrapping\n",
    "\n",
    "MC_signal=2000\n",
    "MC_background=2000\n",
    "\n",
    "start = time.time()\n",
    "print 'num of sig points: %s \\t num of MC sig: %s \\t num of MC bkg: %s \\t nearest neighbors: %s \\t width: %s ' % (sig_points,MC_signal,MC_background,nneigh,sig_widths[0])\n",
    "pulls,org_vals,fit_vals,fit_uncerts,iteration= ft.calc_pull(niterations, sig_points, MC_signal, MC_background,sig_widths,nneigh=nneigh)\n",
    "\n",
    "mean_pulls9=np.mean(pulls)\n",
    "std_pulls9=np.std(pulls)\n",
    "avg_uncertainty9=np.mean(fit_uncerts)\n",
    "\n",
    "print \"mean pulls: %f\" % mean_pulls9\n",
    "print \"stds pulls: %f\" % std_pulls9\n",
    "print \"average uncertainty: %f\" % avg_uncertainty9\n",
    "print \"time to calc %d iterations: %f s\" % (niterations, time.time() - start)\n"
   ]
  },
  {
   "cell_type": "code",
   "execution_count": null,
   "metadata": {
    "collapsed": false
   },
   "outputs": [],
   "source": [
    "#Calculates the pulls of mean and std with nearest neighbors \n",
    "#with boostrapping\n",
    "\n",
    "MC_signal=2000\n",
    "MC_background=2000\n",
    "num_boot_samples=1000\n",
    "\n",
    "start = time.time()\n",
    "print 'num of sig points: %s \\t num of MC sig: %s \\t num of MC bkg: %s \\t nearest neighbors: %s \\t width: %s ' % (sig_points,MC_signal,MC_background,nneigh,sig_widths[0])\n",
    "pulls,org_vals,fit_vals,fit_uncerts,iteration= ft.calc_pull_w_bootstrapping(niterations, sig_points, MC_signal, MC_background,num_boot_samples,nneigh,sig_widths)\n",
    "\n",
    "mean_pulls10=np.mean(pulls)\n",
    "std_pulls10=np.std(pulls)\n",
    "avg_uncertainty10=np.mean(fit_uncerts)\n",
    "\n",
    "print \"mean pulls: %f\" % mean_pulls10\n",
    "print \"stds pulls: %f\" % std_pulls10\n",
    "print \"average uncertainty: %f\" % avg_uncertainty10\n",
    "print \"time to calc %d iterations: %f s\" % (niterations, time.time() - start)"
   ]
  },
  {
   "cell_type": "code",
   "execution_count": null,
   "metadata": {
    "collapsed": false
   },
   "outputs": [],
   "source": [
    "#without bootstrapping is odd\n",
    "#with bootstrapping is even\n",
    "\n",
    "#different number of MC points- 5k and 10k\n",
    "print mean_pulls1\n",
    "print mean_pulls2\n",
    "\n",
    "#diff num of MC points- 50k and 100k \n",
    "print mean_pulls3\n",
    "print mean_pulls4\n",
    "\n",
    "#same num of MC points - 100k\n",
    "print mean_pulls5\n",
    "print mean_pulls6\n",
    "\n",
    "#same num of MC points- 1k with 1000 bootstrapping samples\n",
    "print mean_pulls7\n",
    "print mean_pulls8\n",
    "\n",
    "#same num of MC points- 2k with 1000 bootstrapping samples\n",
    "print mean_pulls9\n",
    "print mean_pulls10\n",
    "\n",
    "plt.figure()\n",
    "plt.scatter(mean_pulls1,avg_uncertainty1)\n",
    "plt.scatter(mean_pulls2,avg_uncertainty2)\n",
    "plt.scatter(mean_pulls3,avg_uncertainty3)\n",
    "plt.scatter(mean_pulls4,avg_uncertainty4)\n",
    "plt.scatter(mean_pulls5,avg_uncertainty5)\n",
    "plt.scatter(mean_pulls6,avg_uncertainty6)\n",
    "plt.scatter(mean_pulls7,avg_uncertainty7)\n",
    "plt.scatter(mean_pulls8,avg_uncertainty8)\n",
    "plt.scatter(mean_pulls9,avg_uncertainty9)\n",
    "plt.scatter(mean_pulls10,avg_uncertainty10)\n",
    "plt.ylim(.011,.013)\n"
   ]
  },
  {
   "cell_type": "code",
   "execution_count": null,
   "metadata": {
    "collapsed": false
   },
   "outputs": [],
   "source": []
  },
  {
   "cell_type": "code",
   "execution_count": null,
   "metadata": {
    "collapsed": false
   },
   "outputs": [],
   "source": [
    "plt.figure()\n",
    "plt.hist(pulls,bins=20)\n",
    "\n"
   ]
  },
  {
   "cell_type": "code",
   "execution_count": null,
   "metadata": {
    "collapsed": false,
    "scrolled": false
   },
   "outputs": [],
   "source": [
    "\n",
    "\n",
    "#without bootstrapping is odd\n",
    "#with bootstrapping is even\n",
    "\n",
    "#different number of MC points- 5k and 10k\n",
    "print pulls\n"
   ]
  },
  {
   "cell_type": "code",
   "execution_count": null,
   "metadata": {
    "collapsed": false
   },
   "outputs": [],
   "source": [
    "print pulls"
   ]
  },
  {
   "cell_type": "code",
   "execution_count": null,
   "metadata": {
    "collapsed": false
   },
   "outputs": [],
   "source": []
  },
  {
   "cell_type": "code",
   "execution_count": null,
   "metadata": {
    "collapsed": false
   },
   "outputs": [],
   "source": []
  },
  {
   "cell_type": "code",
   "execution_count": null,
   "metadata": {
    "collapsed": false
   },
   "outputs": [],
   "source": []
  },
  {
   "cell_type": "code",
   "execution_count": null,
   "metadata": {
    "collapsed": false
   },
   "outputs": [],
   "source": []
  }
 ],
 "metadata": {
  "kernelspec": {
   "display_name": "Python 2",
   "language": "python",
   "name": "python2"
  },
  "language_info": {
   "codemirror_mode": {
    "name": "ipython",
    "version": 2
   },
   "file_extension": ".py",
   "mimetype": "text/x-python",
   "name": "python",
   "nbconvert_exporter": "python",
   "pygments_lexer": "ipython2",
   "version": "2.7.12"
  }
 },
 "nbformat": 4,
 "nbformat_minor": 0
}
