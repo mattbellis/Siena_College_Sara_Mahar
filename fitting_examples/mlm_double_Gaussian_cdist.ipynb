{
 "cells": [
  {
   "cell_type": "code",
   "execution_count": 1,
   "metadata": {
    "collapsed": false
   },
   "outputs": [],
   "source": [
    "import numpy as np\n",
    "import matplotlib.pylab as plt\n",
    "import math as math\n",
    "from scipy.optimize import fmin\n",
    "from iminuit import Minuit, describe, Struct\n",
    "from scipy.spatial.distance import cdist\n",
    "from scipy.sparse import vstack\n",
    "\n",
    "import time\n",
    "#import lichen as lch\n",
    "import seaborn as sns\n",
    "\n",
    "%matplotlib  notebook"
   ]
  },
  {
   "cell_type": "code",
   "execution_count": 9,
   "metadata": {
    "collapsed": false
   },
   "outputs": [],
   "source": [
    "# Add code to the following function so that it takes in two datasets, loops over one of them, and finds\n",
    "# information about the nearest neighbors in the other dataset, based on a flag. \n",
    "\n",
    "def nn(data0,data1,r=None,nneighbors=None):\n",
    "    \n",
    "    ret = -1\n",
    "    ret_list=[]\n",
    "    if r is not None and nneighbors is not None:\n",
    "        exit(-1)\n",
    "        return ret\n",
    "    elif r is not None and nneighbors is None:\n",
    "        combined= data0.transpose() #np.vstack((data0[0],data0[1])).T  \n",
    "        combined1= data1.transpose() #np.vstack((data1[0],data1[1])).T\n",
    "        #print data0.transpose()\n",
    "        dist=cdist(combined,combined1,'euclidean')\n",
    "        count =len(dist[dist<r])\n",
    "        ret_list.append(float(count)/(float(len(data1[0]))*r))\n",
    "        ret_list = np.array(ret_list)\n",
    "        return ret_list\n",
    "    elif r is None and nneighbors is not None:\n",
    "        for num0 in data0:\n",
    "            diff = np.abs(num0 - data1)\n",
    "            diff.sort()\n",
    "            radius= diff[nneighbors-1]\n",
    "            ret_list.append(1/radius)\n",
    "        ret_list = np.array(ret_list)\n",
    "        return ret_list\n",
    "    return ret"
   ]
  },
  {
   "cell_type": "code",
   "execution_count": null,
   "metadata": {
    "collapsed": true
   },
   "outputs": [],
   "source": []
  },
  {
   "cell_type": "code",
   "execution_count": 3,
   "metadata": {
    "collapsed": false
   },
   "outputs": [],
   "source": [
    "def normal(x,mean,width):\n",
    "    return (1.0/(width*np.sqrt(2*np.pi)))*(np.exp(-(x-mean)**2/(2*(width**2))))\n",
    "\n",
    "# A product of two Gaussians\n",
    "def signal_2D(npts,means,sigmas):\n",
    "    pts = []\n",
    "    for m,s in zip(means,sigmas):\n",
    "        pts.append(np.random.normal(m,s,npts))\n",
    "        \n",
    "    pts = np.array(pts)\n",
    "    return pts\n",
    "\n",
    "# Flat in 2D\n",
    "def background_2D(npts,lovals,hivals):\n",
    "    pts = []\n",
    "    for lo,hi in zip(lovals,hivals):\n",
    "        width = hi-lo\n",
    "        pts.append(lo + width*np.random.random(npts))\n",
    "        \n",
    "    pts = np.array(pts)\n",
    "    return pts\n",
    "\n",
    "# Helper function to generate signal and background at the same time\n",
    "def gen_sig_and_bkg(npts,means,sigmas,lovals,hivals):\n",
    "    sigpts = signal_2D(npts[0],means,sigmas)\n",
    "    bkgpts = background_2D(npts[1],lovals,hivals)\n",
    "\n",
    "    data = [sigpts[0].copy(),sigpts[1].copy()]\n",
    "    data[0] = np.append(data[0],bkgpts[0])\n",
    "    data[1] = np.append(data[1],bkgpts[1])\n",
    "    data = np.array(data)\n",
    "   \n",
    "    return data"
   ]
  },
  {
   "cell_type": "code",
   "execution_count": 4,
   "metadata": {
    "collapsed": false
   },
   "outputs": [],
   "source": [
    "# Test the tools to generate the datasets.\n",
    "\n",
    "sigpts = signal_2D(3000,[5.0,7.0],[0.1,0.1])\n",
    "#sns.jointplot(sigpts[0],sigpts[1],kind='hex')\n",
    "\n",
    "bkgpts = background_2D(10000,[3.5,5],[6,9])\n",
    "#sns.jointplot(bkgpts[0],bkgpts[1],kind='hex')\n",
    "\n",
    "data1 = [sigpts[0].copy(),sigpts[1].copy()]\n",
    "data1[0] = np.append(data1[0],bkgpts[0])\n",
    "data1[1] = np.append(data1[1],bkgpts[1])\n",
    "data1 = np.array(data1)\n",
    "\n",
    "#sns.jointplot(data[0],data[1],kind='hex')"
   ]
  },
  {
   "cell_type": "code",
   "execution_count": 5,
   "metadata": {
    "collapsed": false
   },
   "outputs": [],
   "source": [
    "nbkg = 1000\n",
    "sigmeans = [5.0,7.0]\n",
    "sigwidths = [0.1,0.2]\n",
    "bkglos = [3.5,5]\n",
    "bkghis = [6,9]\n",
    "\n",
    "def calc_pull(iterations, nsig, nMC, rad):\n",
    "\n",
    "    pull_frac_list=[]\n",
    "    average_best_frac = 0\n",
    "    frac = []\n",
    "    fit_frac = []\n",
    "    fit_frac_uncert = []\n",
    "    \n",
    "    frac_org = nsig/float(nsig+nbkg)\n",
    "    \n",
    "\n",
    "    for num in range(iterations):\n",
    "        nsig_iteration = np.random.poisson(nsig)\n",
    "        nbkg_iteration = np.random.poisson(nbkg)\n",
    "\n",
    "        \n",
    "        data = gen_sig_and_bkg([nsig_iteration,nbkg_iteration],sigmeans,sigwidths,bkglos,bkghis)\n",
    "        signal_points= signal_2D(nMC,sigmeans,sigwidths)\n",
    "        background_points = background_2D(nMC,bkglos,bkghis)\n",
    "        \n",
    "        frac_iteration = float(nsig_iteration)/(float(nbkg_iteration+nsig_iteration))\n",
    "        frac.append(frac_iteration)\n",
    "\n",
    "        \n",
    "        def probability(frac):\n",
    "            tot_prob=[]\n",
    "            ##################################################################\n",
    "            # In this section, I'm using the analytic functions.\n",
    "            # But we want to compare this to when we use the nearest neighbors approach\n",
    "            #signal_prob =  normal(data[0],sigmeans[0],sigwidths[0])\n",
    "            #signal_prob *= normal(data[1],sigmeans[1],sigwidths[1])\n",
    "\n",
    "            #background_prob  = (1.0/(bkghis[0]-bkglos[0]))*np.ones(len(data[0]))\n",
    "            #background_prob *= (1.0/(bkghis[1]-bkglos[1]))\n",
    "            ##################################################################\n",
    "            #####################NEAREST NEIGHBORS############################\n",
    "            signal_prob=nn(data,signal_points, r=rad)\n",
    "            background_prob= nn(data,background_points, r=rad)\n",
    "            tot_prob.append(frac*signal_prob+ ((1-frac)*background_prob))\n",
    "            #print tot_prob\n",
    "            tot_prob=np.array(tot_prob)\n",
    "            #tot_prob[tot_prob<=0.0] = 1e-64\n",
    "\n",
    "            return -np.log(tot_prob).sum()\n",
    "        \n",
    "        m=Minuit(probability, frac= 0.25, limit_frac=(0.001,1), error_frac=0.001,  errordef = 0.5, print_level=0)\n",
    "        m.migrad()\n",
    "        #m.hesse()\n",
    "\n",
    "        if (m.get_fmin().is_valid):\n",
    "            param=m.values\n",
    "            err=m.errors\n",
    "            #print param[\"frac\"]\n",
    "            fit_frac.append(param[\"frac\"])\n",
    "            fit_frac_uncert.append(err[\"frac\"])\n",
    "\n",
    "            #print frac_org,frac_iteration,param[\"frac\"],err[\"frac\"]\n",
    "            pull_frac=(frac_org-param[\"frac\"])/err[\"frac\"]\n",
    "            pull_frac_list.append(pull_frac)\n",
    "    return pull_frac_list, frac, fit_frac, fit_frac_uncert,iterations"
   ]
  },
  {
   "cell_type": "code",
   "execution_count": 11,
   "metadata": {
    "collapsed": false
   },
   "outputs": [
    {
     "name": "stdout",
     "output_type": "stream",
     "text": [
      "number of signal points: 200 \t number of MC point: 5000 \tradius: 0.1\n",
      "time to calc 10 iterations: 14.857432 s\n",
      "[{'signal': 200, 'radius': 0.1, 'mean pulls': -1.127870418199467, 'MC_points': 5000}]\n",
      "[{'signal': 200, 'radius': 0.1, 'mean stds': 0.0021344171413717433, 'MC_points': 5000}]\n"
     ]
    }
   ],
   "source": [
    "means=[]\n",
    "stds=[]\n",
    "\n",
    "for sig in [200]:\n",
    "    for MC in [5000]:\n",
    "        for rad in [0.1]: #, 0.10,0.20,0.50]:\n",
    "            start = time.time()\n",
    "            print 'number of signal points: %s \\t number of MC point: %s \\tradius: %s' % (sig,MC,rad)\n",
    "            pulls,org_vals,fit_vals,fit_uncerts,iteration = calc_pull(10, sig, MC, rad)\n",
    "\n",
    "            parameters_mean = {'signal': sig, 'MC_points': MC, 'radius': rad, 'mean pulls': np.mean(pulls)}\n",
    "            means.append(parameters_mean)\n",
    "            parameters_std = {'signal': sig, 'MC_points': MC, 'radius': rad, 'mean stds': np.std(pulls)}\n",
    "            stds.append(parameters_std)\n",
    "            print \"time to calc 10 iterations: %f s\" % (time.time() - start)\n",
    "\n",
    "#print \"---------------\"\n",
    "print means\n",
    "print stds\n",
    "\n",
    "#WITH THE POISSON and 100 iterations- TESTING IT"
   ]
  },
  {
   "cell_type": "code",
   "execution_count": null,
   "metadata": {
    "collapsed": false
   },
   "outputs": [],
   "source": [
    "d0 = np.array([[1,1],[1,1]])\n",
    "d1 = np.array([[3,3],[3,3]])\n",
    "\n",
    "print nn(d0,d1,r=10)"
   ]
  },
  {
   "cell_type": "code",
   "execution_count": null,
   "metadata": {
    "collapsed": false
   },
   "outputs": [],
   "source": []
  },
  {
   "cell_type": "code",
   "execution_count": null,
   "metadata": {
    "collapsed": false
   },
   "outputs": [],
   "source": []
  },
  {
   "cell_type": "code",
   "execution_count": null,
   "metadata": {
    "collapsed": false
   },
   "outputs": [],
   "source": [
    "plt.figure()\n",
    "plt.hist(pulls,bins=50)\n",
    "x = np.arange(-5,5,0.1)\n",
    "y = 0.15*len(pulls)*normal(x,0.0,1.0)\n",
    "plt.plot(x,y)"
   ]
  },
  {
   "cell_type": "code",
   "execution_count": null,
   "metadata": {
    "collapsed": true
   },
   "outputs": [],
   "source": [
    "combined= np.vstack((data[0],data[1])).T  \n",
    "combined1= np.vstack((sigpts[0],sigpts[1])).T\n",
    "\n",
    "dist=distance.cdist(combined,combined1, 'euclidean')\n",
    "\n",
    "for x in dist:\n",
    "    count=0\n",
    "    count=len(dist[dist<0.1])\n",
    "    print count\n",
    "#print dist\n",
    "\n"
   ]
  }
 ],
 "metadata": {
  "kernelspec": {
   "display_name": "Python 2",
   "language": "python",
   "name": "python2"
  },
  "language_info": {
   "codemirror_mode": {
    "name": "ipython",
    "version": 2
   },
   "file_extension": ".py",
   "mimetype": "text/x-python",
   "name": "python",
   "nbconvert_exporter": "python",
   "pygments_lexer": "ipython2",
   "version": "2.7.11"
  }
 },
 "nbformat": 4,
 "nbformat_minor": 0
}
