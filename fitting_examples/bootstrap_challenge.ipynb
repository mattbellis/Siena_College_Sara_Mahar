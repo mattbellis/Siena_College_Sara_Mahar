{
 "cells": [
  {
   "cell_type": "code",
   "execution_count": null,
   "metadata": {
    "collapsed": true
   },
   "outputs": [],
   "source": [
    "import numpy as np\n",
    "import matplotlib.pylab as plt\n",
    "%matplotlib notebook"
   ]
  },
  {
   "cell_type": "code",
   "execution_count": null,
   "metadata": {
    "collapsed": false
   },
   "outputs": [],
   "source": [
    "# Let's generate 1000 events drawn from a Gaussian distribution and calculate the mean and std dev\n",
    "\n",
    "npts = 1000\n",
    "mu = 10.0\n",
    "sigma = 1.0\n",
    "\n",
    "data = np.random.normal(mu,sigma,npts)\n",
    "\n",
    "print \"calculated mean   : %f\" % (np.mean(data))\n",
    "print \"calculated std dev: %f\" % (np.std(data))\n"
   ]
  },
  {
   "cell_type": "code",
   "execution_count": null,
   "metadata": {
    "collapsed": false
   },
   "outputs": [],
   "source": [
    "plt.figure(figsize=(4,4))\n",
    "plt.hist(data,bins=50);"
   ]
  },
  {
   "cell_type": "code",
   "execution_count": null,
   "metadata": {
    "collapsed": true
   },
   "outputs": [],
   "source": [
    "# Now, generate a \"fake\" dataset of 1000 points randomly drawn from data. \n",
    "# Because you are pulling out 1000 points (the same number as in data), you will have some\n",
    "# repeating data points. That's OK!\n",
    "\n",
    "# When you make this fake dataset, calculate the mean\n",
    "\n",
    "# YOUR CODE HERE"
   ]
  },
  {
   "cell_type": "code",
   "execution_count": null,
   "metadata": {
    "collapsed": true
   },
   "outputs": [],
   "source": [
    "# Now do this 1000 times, and keep track of all the different means from these mock datasets. \n",
    "# Histogram those means. \n",
    "\n",
    "# YOUR CODE HERE"
   ]
  },
  {
   "cell_type": "code",
   "execution_count": null,
   "metadata": {
    "collapsed": true
   },
   "outputs": [],
   "source": [
    "# What is the mean of those distributions?\n",
    "\n",
    "# What are the values around the mean that enclose 68% of these mock data means? 95%?"
   ]
  },
  {
   "cell_type": "code",
   "execution_count": null,
   "metadata": {
    "collapsed": true
   },
   "outputs": [],
   "source": []
  }
 ],
 "metadata": {
  "kernelspec": {
   "display_name": "Python 2",
   "language": "python",
   "name": "python2"
  },
  "language_info": {
   "codemirror_mode": {
    "name": "ipython",
    "version": 2
   },
   "file_extension": ".py",
   "mimetype": "text/x-python",
   "name": "python",
   "nbconvert_exporter": "python",
   "pygments_lexer": "ipython2",
   "version": "2.7.11"
  }
 },
 "nbformat": 4,
 "nbformat_minor": 0
}
