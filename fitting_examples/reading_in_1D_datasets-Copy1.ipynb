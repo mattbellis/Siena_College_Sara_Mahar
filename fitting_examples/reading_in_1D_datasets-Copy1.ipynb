{
 "cells": [
  {
   "cell_type": "code",
   "execution_count": 1,
   "metadata": {
    "collapsed": false
   },
   "outputs": [
    {
     "name": "stderr",
     "output_type": "stream",
     "text": [
      "Vendor:  Continuum Analytics, Inc.\n",
      "Package: mkl\n",
      "Message: trial mode expires in 16 days\n"
     ]
    }
   ],
   "source": [
    "import fitting_tools as ft\n",
    "import time\n",
    "import numpy as np\n",
    "import matplotlib.pylab as plt\n",
    "import random\n",
    "%matplotlib notebook\n",
    "import fitting_tools_main as ftm\n"
   ]
  },
  {
   "cell_type": "code",
   "execution_count": 2,
   "metadata": {
    "collapsed": false
   },
   "outputs": [],
   "source": [
    "niterations=1000\n",
    "sig_points=200\n",
    "nbkg=1000\n",
    "MC_signal=1000\n",
    "MC_background=1000\n",
    "dimension=1\n",
    "sigmeans=10.4\n",
    "sig_widths=.06\n",
    "#sig_widths=[0.1,0.1]\n",
    "#sigmeans = [5.0,7.0]"
   ]
  },
  {
   "cell_type": "code",
   "execution_count": 3,
   "metadata": {
    "collapsed": false
   },
   "outputs": [
    {
     "name": "stdout",
     "output_type": "stream",
     "text": [
      "writing out to file frac_values_trial2_sig200_bkg1000_MCsig1000_MCbkg1000_bs0_nn3_1dimension.dat\n",
      "time to calc 1000 iterations: 23.187769 s\n",
      "\n",
      "writing out to file frac_values_trial2_sig200_bkg1000_MCsig1000_MCbkg1000_bs0_nn5_1dimension.dat\n",
      "time to calc 1000 iterations: 23.470115 s\n",
      "\n",
      "writing out to file frac_values_trial2_sig200_bkg1000_MCsig1000_MCbkg1000_bs0_nn10_1dimension.dat\n",
      "time to calc 1000 iterations: 23.487431 s\n",
      "\n"
     ]
    }
   ],
   "source": [
    "num_bootstrapping_samples=0\n",
    "\n",
    "\n",
    "nneigh=3\n",
    "start = time.time()\n",
    "pulls,org_vals,fit_vals,fit_uncerts,iteration,file_name= ftm.calc_pull_main(niterations, sig_points, nbkg,MC_signal, MC_background,num_bootstrapping_samples,nneigh,sig_widths,sigmeans,dimension,tag='trial2')\n",
    "print \"time to calc %d iterations: %f s\" % (niterations, time.time() - start)\n",
    "print ''\n",
    "\n",
    "nneigh=5\n",
    "start = time.time()\n",
    "pulls,org_vals,fit_vals,fit_uncerts,iteration,file_name= ftm.calc_pull_main(niterations, sig_points, nbkg,MC_signal, MC_background,num_bootstrapping_samples,nneigh,sig_widths,sigmeans,dimension,tag='trial2')\n",
    "print \"time to calc %d iterations: %f s\" % (niterations, time.time() - start)\n",
    "print ''\n",
    "\n",
    "nneigh=10\n",
    "start = time.time()\n",
    "pulls,org_vals,fit_vals,fit_uncerts,iteration,file_name= ftm.calc_pull_main(niterations, sig_points, nbkg,MC_signal, MC_background,num_bootstrapping_samples,nneigh,sig_widths,sigmeans,dimension,tag='trial2')\n",
    "print \"time to calc %d iterations: %f s\" % (niterations, time.time() - start)\n",
    "print ''"
   ]
  },
  {
   "cell_type": "code",
   "execution_count": null,
   "metadata": {
    "collapsed": false
   },
   "outputs": [
    {
     "name": "stdout",
     "output_type": "stream",
     "text": [
      "writing out to file frac_values_trial1_sig20_bkg100_MCsig1000_MCbkg1000_bs1000_nn3_1dimension.dat\n"
     ]
    }
   ],
   "source": [
    "num_bootstrapping_samples=1000\n",
    "\n",
    "\n",
    "nneigh=3\n",
    "start = time.time()\n",
    "pulls,org_vals,fit_vals,fit_uncerts,iteration,file_name= ftm.calc_pull_main(niterations, sig_points, nbkg,MC_signal, MC_background,num_bootstrapping_samples,nneigh,sig_widths,sigmeans,dimension,tag='trial1')\n",
    "print \"time to calc %d iterations: %f s\" % (niterations, time.time() - start)\n",
    "print ''\n",
    "\n",
    "nneigh=5\n",
    "start = time.time()\n",
    "pulls,org_vals,fit_vals,fit_uncerts,iteration,file_name= ftm.calc_pull_main(niterations, sig_points, nbkg,MC_signal, MC_background,num_bootstrapping_samples,nneigh,sig_widths,sigmeans,dimension,tag='trial1')\n",
    "print \"time to calc %d iterations: %f s\" % (niterations, time.time() - start)\n",
    "print ''\n",
    "\n",
    "nneigh=10\n",
    "start = time.time()\n",
    "#pulls,org_vals,fit_vals,fit_uncerts,iteration,file_name= ftm.calc_pull_main(niterations, sig_points, nbkg,MC_signal, MC_background,num_bootstrapping_samples,nneigh,sig_widths,sigmeans,dimension,tag='trial1')\n",
    "print \"time to calc %d iterations: %f s\" % (niterations, time.time() - start)\n",
    "print ''"
   ]
  },
  {
   "cell_type": "code",
   "execution_count": 5,
   "metadata": {
    "collapsed": false
   },
   "outputs": [
    {
     "name": "stdout",
     "output_type": "stream",
     "text": [
      "writing out to file frac_values_trial2_sig20_bkg100_MCsig1000_MCbkg1000_bs0_nn3_1dimension.dat\n",
      "time to calc 1000 iterations: 8.349983 s\n",
      "\n",
      "writing out to file frac_values_trial2_sig20_bkg100_MCsig1000_MCbkg1000_bs0_nn5_1dimension.dat\n",
      "time to calc 1000 iterations: 8.179876 s\n",
      "\n",
      "writing out to file frac_values_trial2_sig20_bkg100_MCsig1000_MCbkg1000_bs0_nn10_1dimension.dat\n",
      "time to calc 1000 iterations: 8.200479 s\n",
      "\n"
     ]
    }
   ],
   "source": [
    "num_bootstrapping_samples=0\n",
    "sig_points=20\n",
    "nbkg=100\n",
    "\n",
    "nneigh=3\n",
    "start = time.time()\n",
    "pulls,org_vals,fit_vals,fit_uncerts,iteration,file_name= ftm.calc_pull_main(niterations, sig_points, nbkg,MC_signal, MC_background,num_bootstrapping_samples,nneigh,sig_widths,sigmeans,dimension,tag='trial2')\n",
    "print \"time to calc %d iterations: %f s\" % (niterations, time.time() - start)\n",
    "print ''\n",
    "\n",
    "nneigh=5\n",
    "start = time.time()\n",
    "pulls,org_vals,fit_vals,fit_uncerts,iteration,file_name= ftm.calc_pull_main(niterations, sig_points, nbkg,MC_signal, MC_background,num_bootstrapping_samples,nneigh,sig_widths,sigmeans,dimension,tag='trial2')\n",
    "print \"time to calc %d iterations: %f s\" % (niterations, time.time() - start)\n",
    "print ''\n",
    "\n",
    "nneigh=10\n",
    "start = time.time()\n",
    "pulls,org_vals,fit_vals,fit_uncerts,iteration,file_name= ftm.calc_pull_main(niterations, sig_points, nbkg,MC_signal, MC_background,num_bootstrapping_samples,nneigh,sig_widths,sigmeans,dimension,tag='trial2')\n",
    "print \"time to calc %d iterations: %f s\" % (niterations, time.time() - start)\n",
    "print ''"
   ]
  },
  {
   "cell_type": "code",
   "execution_count": null,
   "metadata": {
    "collapsed": false
   },
   "outputs": [],
   "source": [
    "num_bootstrapping_samples=1000\n",
    "\n",
    "\n",
    "nneigh=3\n",
    "start = time.time()\n",
    "pulls,org_vals,fit_vals,fit_uncerts,iteration,file_name= ftm.calc_pull_main(niterations, sig_points, nbkg,MC_signal, MC_background,num_bootstrapping_samples,nneigh,sig_widths,sigmeans,dimension,tag='trial1')\n",
    "print \"time to calc %d iterations: %f s\" % (niterations, time.time() - start)\n",
    "print ''\n",
    "\n",
    "nneigh=5\n",
    "start = time.time()\n",
    "pulls,org_vals,fit_vals,fit_uncerts,iteration,file_name= ftm.calc_pull_main(niterations, sig_points, nbkg,MC_signal, MC_background,num_bootstrapping_samples,nneigh,sig_widths,sigmeans,dimension,tag='trial1')\n",
    "print \"time to calc %d iterations: %f s\" % (niterations, time.time() - start)\n",
    "print ''\n",
    "\n",
    "nneigh=10\n",
    "start = time.time()\n",
    "#pulls,org_vals,fit_vals,fit_uncerts,iteration,file_name= ftm.calc_pull_main(niterations, sig_points, nbkg,MC_signal, MC_background,num_bootstrapping_samples,nneigh,sig_widths,sigmeans,dimension,tag='trial1')\n",
    "print \"time to calc %d iterations: %f s\" % (niterations, time.time() - start)\n",
    "print ''"
   ]
  },
  {
   "cell_type": "code",
   "execution_count": null,
   "metadata": {
    "collapsed": false
   },
   "outputs": [],
   "source": [
    "#Calculate the mean and std of frac pulls\n",
    "def calc_mean_std_of_pulls(values):\n",
    "    pulls=(values[0]-values[1])/values[2]\n",
    "    return (np.mean(pulls),np.std(pulls))"
   ]
  },
  {
   "cell_type": "code",
   "execution_count": null,
   "metadata": {
    "collapsed": false
   },
   "outputs": [],
   "source": [
    "print \"no bootstrapping samples\"\n",
    "infile_name='frac_values_trial2_sig20_bkg100_MCsig1000_MCbkg1000_bs0_nn3_1dimension.dat'\n",
    "values=np.loadtxt(infile_name, delimiter=' ', unpack=True,dtype=float)\n",
    "print calc_mean_std_of_pulls(values)\n",
    "#print values[1]\n",
    "\n",
    "infile_name='frac_values_trial2_sig200_bkg1000_MCsig1000_MCbkg1000_bs0_nn5_1dimension.dat'\n",
    "values=np.loadtxt(infile_name, delimiter=' ', unpack=True,dtype=float)\n",
    "print calc_mean_std_of_pulls(values)\n",
    "#print values[1]\n",
    "\n",
    "infile_name='frac_values_trial2_sig200_bkg1000_MCsig1000_MCbkg1000_bs0_nn10_1dimension.dat'\n",
    "values=np.loadtxt(infile_name, delimiter=' ', unpack=True,dtype=float)\n",
    "print calc_mean_std_of_pulls(values)\n",
    "#print values[1]\n",
    "\n",
    "\n",
    "print \"*************************************\"\n",
    "\n",
    "infile_name='frac_values_trial1_sig20_bkg100_MCsig1000_MCbkg1000_bs1000_nn10_1dimension.dat'\n",
    "values=np.loadtxt(infile_name, delimiter=' ', unpack=True,dtype=float)\n",
    "print calc_mean_std_of_pulls(values)\n",
    "print values[1]\n",
    "\n",
    "infile_name='frac_values_trial1_sig200_bkg1000_MCsig1000_MCbkg1000_bs1000_nn10_1dimension.dat'\n",
    "values=np.loadtxt(infile_name, delimiter=' ', unpack=True,dtype=float)\n",
    "print calc_mean_std_of_pulls(values)\n",
    "print values[1]\n",
    "\n",
    "infile_name='frac_values_trial1_sig200_bkg1000_MCsig1000_MCbkg1000_bs10_nn10_1dimension.dat'\n",
    "values=np.loadtxt(infile_name, delimiter=' ', unpack=True,dtype=float)\n",
    "print calc_mean_std_of_pulls(values)\n",
    "print values[1]\n",
    "'''"
   ]
  },
  {
   "cell_type": "code",
   "execution_count": null,
   "metadata": {
    "collapsed": false
   },
   "outputs": [],
   "source": [
    "infile_name='frac_values_default_sig200_bkg1000_MCsig1000_MCbkg1000_bs0_nn3_1dimension.dat'\n",
    "values1=np.loadtxt(infile_name, delimiter=' ', unpack=True,dtype=float)\n",
    "print calc_mean_std_of_pulls(values1)\n",
    "\n",
    "infile_name='frac_values_default_sig200_bkg1000_MCsig1000_MCbkg1000_bs0_nn5_1dimension.dat'\n",
    "values2=np.loadtxt(infile_name, delimiter=' ', unpack=True,dtype=float)\n",
    "print calc_mean_std_of_pulls(values2)\n",
    "\n",
    "infile_name='frac_values_default_sig200_bkg1000_MCsig1000_MCbkg1000_bs0_nn10_1dimension.dat'\n",
    "values3=np.loadtxt(infile_name, delimiter=' ', unpack=True,dtype=float)\n",
    "print calc_mean_std_of_pulls(values3)\n",
    "\n",
    "\n",
    "infile_name='frac_values_trial2_sig200_bkg1000_MCsig1000_MCbkg1000_bs0_nn3_1dimension.dat'\n",
    "values4=np.loadtxt(infile_name, delimiter=' ', unpack=True,dtype=float)\n",
    "print calc_mean_std_of_pulls(values4)\n",
    "\n",
    "infile_name='frac_values_trial2_sig200_bkg1000_MCsig1000_MCbkg1000_bs0_nn5_1dimension.dat'\n",
    "values5=np.loadtxt(infile_name, delimiter=' ', unpack=True,dtype=float)\n",
    "print calc_mean_std_of_pulls(values5)\n",
    "\n",
    "infile_name='frac_values_trial2_sig200_bkg1000_MCsig1000_MCbkg1000_bs0_nn10_1dimension.dat'\n",
    "values6=np.loadtxt(infile_name, delimiter=' ', unpack=True,dtype=float)\n",
    "print calc_mean_std_of_pulls(values6)\n",
    "\n",
    "'''\n",
    "print \"\"\n",
    "print \"bootstrapping samples\"\n",
    "infile_name='frac_values_default_sig200_bkg1000_MCsig1000_MCbkg1000_bs100_nn3_1dimension.dat'\n",
    "values=np.loadtxt(infile_name, delimiter=' ', unpack=True,dtype=float)\n",
    "print calc_mean_std_of_pulls(values)\n",
    "print values[1]\n",
    "\n",
    "infile_name='frac_values_default_sig200_bkg1000_MCsig1000_MCbkg1000_bs10_nn5_1dimension.dat'\n",
    "values=np.loadtxt(infile_name, delimiter=' ', unpack=True,dtype=float)\n",
    "print calc_mean_std_of_pulls(values)\n",
    "print values[1]\n",
    "\n",
    "infile_name='frac_values_default_sig200_bkg1000_MCsig1000_MCbkg1000_bs10_nn10_1dimension.dat'\n",
    "values=np.loadtxt(infile_name, delimiter=' ', unpack=True,dtype=float)\n",
    "print calc_mean_std_of_pulls(values)\n",
    "'''"
   ]
  },
  {
   "cell_type": "code",
   "execution_count": null,
   "metadata": {
    "collapsed": false
   },
   "outputs": [],
   "source": [
    "plt.figure(figsize=(10,6))\n",
    "\n",
    "labels = ['nn=3, trials=1000',\n",
    "          'nn=5, trials=1000',\n",
    "          'nn=10, trials=1000',\n",
    "          'nn=3, trials=10000',\n",
    "          'nn=5, trials=10000',\n",
    "          'nn=10, trials=10000'\n",
    "         ]\n",
    "\n",
    "fmt = ['ro','bo','go','rs','bs','gs']\n",
    "\n",
    "for v,l,f in zip([values1,values2,values3,values4,values5,values6],labels,fmt):\n",
    "    x,y = calc_mean_std_of_pulls(v) \n",
    "    plt.plot(y,x,f,label=l,markersize=20)\n",
    "    \n",
    "#for v,f in zip([values,values2,values3,values4,values5,values6,values7,values8,values9],fmt):\n",
    "#    x,y = calc_mean_std_of_pulls(v) \n",
    "#    plt.plot(y,x,f,markersize=20)\n",
    "\n",
    "plt.ylim(-2.0,1.0)\n",
    "plt.xlim(0.95,1.3)\n",
    "plt.legend(loc='lower right',fontsize=10)"
   ]
  },
  {
   "cell_type": "code",
   "execution_count": null,
   "metadata": {
    "collapsed": false
   },
   "outputs": [],
   "source": []
  },
  {
   "cell_type": "code",
   "execution_count": null,
   "metadata": {
    "collapsed": true
   },
   "outputs": [],
   "source": []
  },
  {
   "cell_type": "code",
   "execution_count": null,
   "metadata": {
    "collapsed": false
   },
   "outputs": [],
   "source": [
    "\n",
    "\n"
   ]
  },
  {
   "cell_type": "code",
   "execution_count": null,
   "metadata": {
    "collapsed": false
   },
   "outputs": [],
   "source": [
    "plt.figure(figsize=(10,6))\n",
    "\n",
    "labels = ['CPU, nn=5',\n",
    "          'GPU, nn=5',\n",
    "          'CPU, nn=5, bs=100',\n",
    "          'GPU, nn=5, bs=100',\n",
    "          'GPU, nn=2,',\n",
    "          'GPU, nn=2, bs=100']\n",
    "\n",
    "fmt = ['ro','bo','rs','bs','go', 'gs']\n",
    "\n",
    "for v,l,f in zip([values_CPU,values_GPU,values_CPU_bs,values_GPU_bs, values_GPU_nn2, values_GPU_bs_nn2],labels,fmt):\n",
    "    x,y = calc_mean_std_of_pulls(v) \n",
    "    plt.plot(y,x,f,label=l,markersize=20)\n",
    "\n",
    "plt.ylim(-2.0,0.5)\n",
    "plt.xlim(0.95,1.10)\n",
    "plt.legend(loc='lower right',fontsize=14)"
   ]
  },
  {
   "cell_type": "code",
   "execution_count": null,
   "metadata": {
    "collapsed": false
   },
   "outputs": [],
   "source": [
    "niterations=1000\n",
    "sig_points=200\n",
    "nbkg=1000\n",
    "nneigh=2\n",
    "sig_widths=[0.1,0.1]\n",
    "MC_signal=1000\n",
    "MC_background=1000\n",
    "\n",
    "\n",
    "start = time.time()\n",
    "pulls,org_vals,fit_vals,fit_uncerts,iteration,file_name= ft.calc_pull_1D(niterations, sig_points, nbkg,MC_signal, MC_background,nneigh, sig_widths,tag='trial1_GPU')\n",
    "print \"time to calc %d iterations: %f s\" % (niterations, time.time() - start)\n",
    "print ''"
   ]
  },
  {
   "cell_type": "code",
   "execution_count": null,
   "metadata": {
    "collapsed": false
   },
   "outputs": [],
   "source": []
  },
  {
   "cell_type": "code",
   "execution_count": null,
   "metadata": {
    "collapsed": false
   },
   "outputs": [],
   "source": []
  },
  {
   "cell_type": "code",
   "execution_count": null,
   "metadata": {
    "collapsed": false
   },
   "outputs": [],
   "source": []
  },
  {
   "cell_type": "code",
   "execution_count": null,
   "metadata": {
    "collapsed": false
   },
   "outputs": [],
   "source": [
    "plt.figure(figsize=(10,6))\n",
    "\n",
    "labels = ['MC=1000, nn=5',\n",
    "          'MC=10000, nn=5',\n",
    "          'MC=50000, nn=5',\n",
    "          'MC=1000, nn=10',\n",
    "          'MC=10000, nn=10',\n",
    "          'MC=50000, nn=10',\n",
    "          'MC=1000, nn=3',\n",
    "          'MC=1000, nn=5, bs=100',\n",
    "          'MC=1000, nn=3, bs=100'\n",
    "         ]\n",
    "\n",
    "fmt = ['o','o','o','s','s','s','^','*','*']\n",
    "\n",
    "for v,l,f in zip([values,values2,values3,values4,values5,values6,values7,values8,values9],labels,fmt):\n",
    "    x,y = calc_mean_std_of_pulls(v) \n",
    "    plt.plot(y,x,f,label=l,markersize=20)\n",
    "\n",
    "plt.ylim(-2.0,0.5)\n",
    "plt.xlim(0.95,1.10)\n",
    "plt.legend(loc='lower right',fontsize=14)"
   ]
  },
  {
   "cell_type": "code",
   "execution_count": null,
   "metadata": {
    "collapsed": false
   },
   "outputs": [],
   "source": [
    "plt.figure(figsize=(10,6))\n",
    "\n",
    "labels = ['MC=1000, nn=5',\n",
    "          'MC=10000, nn=5',\n",
    "          'MC=50000, nn=5',\n",
    "          'MC=1000, nn=10',\n",
    "          'MC=10000, nn=10',\n",
    "          'MC=50000, nn=10',\n",
    "          'MC=1000, nn=3',\n",
    "          'MC=1000, nn=5, bs=100',\n",
    "          'MC=1000, nn=3, bs=100'\n",
    "         ]\n",
    "\n",
    "fmt = ['ro','bo','go','rs','bs','gs','m^','y*','c*']\n",
    "\n",
    "for v,l,f in zip([values2,values22,values23,values24,values25,values26,values27,values28,values29],labels,fmt):\n",
    "    x,y = calc_mean_std_of_pulls(v) \n",
    "    plt.plot(y,x,f,label=l,markersize=20)\n",
    "    \n",
    "for v,f in zip([values,values2,values3,values4,values5,values6,values7,values8,values9],fmt):\n",
    "    x,y = calc_mean_std_of_pulls(v) \n",
    "    plt.plot(y,x,f,markersize=20)\n",
    "\n",
    "plt.ylim(-2.0,1.0)\n",
    "plt.xlim(0.95,1.10)\n",
    "plt.legend(loc='lower right',fontsize=10)"
   ]
  },
  {
   "cell_type": "code",
   "execution_count": null,
   "metadata": {
    "collapsed": false
   },
   "outputs": [],
   "source": [
    "import numpy as np\n",
    "x=[2,3,4]\n",
    "y=[2,3,4]\n",
    "x=np.array(x)\n",
    "if x.all==y:\n",
    "    print \"1\""
   ]
  },
  {
   "cell_type": "code",
   "execution_count": null,
   "metadata": {
    "collapsed": true
   },
   "outputs": [],
   "source": [
    "x = np.random.random(10)-0.5"
   ]
  },
  {
   "cell_type": "code",
   "execution_count": null,
   "metadata": {
    "collapsed": false
   },
   "outputs": [],
   "source": [
    "x"
   ]
  },
  {
   "cell_type": "code",
   "execution_count": null,
   "metadata": {
    "collapsed": false
   },
   "outputs": [],
   "source": [
    "y = np.abs(x)"
   ]
  },
  {
   "cell_type": "code",
   "execution_count": null,
   "metadata": {
    "collapsed": false
   },
   "outputs": [],
   "source": [
    "x"
   ]
  },
  {
   "cell_type": "code",
   "execution_count": null,
   "metadata": {
    "collapsed": false
   },
   "outputs": [],
   "source": [
    "y"
   ]
  },
  {
   "cell_type": "code",
   "execution_count": null,
   "metadata": {
    "collapsed": true
   },
   "outputs": [],
   "source": []
  }
 ],
 "metadata": {
  "kernelspec": {
   "display_name": "Python 2",
   "language": "python",
   "name": "python2"
  },
  "language_info": {
   "codemirror_mode": {
    "name": "ipython",
    "version": 2
   },
   "file_extension": ".py",
   "mimetype": "text/x-python",
   "name": "python",
   "nbconvert_exporter": "python",
   "pygments_lexer": "ipython2",
   "version": "2.7.12"
  }
 },
 "nbformat": 4,
 "nbformat_minor": 0
}
