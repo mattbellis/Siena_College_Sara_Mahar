{
 "cells": [
  {
   "cell_type": "code",
   "execution_count": null,
   "metadata": {
    "collapsed": true
   },
   "outputs": [],
   "source": [
    "#This script adds vectors using numpy and then numba cuda\n"
   ]
  },
  {
   "cell_type": "code",
   "execution_count": 1,
   "metadata": {
    "collapsed": true
   },
   "outputs": [],
   "source": [
    "from numba import cuda \n",
    "import numba\n",
    "import numpy as np\n",
    "import math\n",
    "from time import time"
   ]
  },
  {
   "cell_type": "code",
   "execution_count": 2,
   "metadata": {
    "collapsed": false
   },
   "outputs": [
    {
     "name": "stdout",
     "output_type": "stream",
     "text": [
      "Running comparison with 10000000-sized arrays\n",
      "\n",
      "Time to run using numpy:      0.014868\n",
      "Time to run using numba cuda: 0.039830\n"
     ]
    }
   ],
   "source": [
    "my_gpu = numba.cuda.get_current_device()\n",
    "@numba.cuda.jit(\"void(float32[:],float32[:],float32[:])\")\n",
    "def vadd(arr_a,arr_b,arr_out):\n",
    "    tx = cuda.threadIdx.x\n",
    "    bx = cuda.blockIdx.x\n",
    "    bw = cuda.blockDim.x  #Use these data values to calculate the specific index\n",
    "    i = tx + bx * bw      #You want this particular thread to work with\n",
    "    if i>= arr_out.size:  #If the index is greater than the array size, there is no arithmetic to be done\n",
    "        return            #This is possible due to taking the ceiling of the size of the\n",
    "    arr_out[i] = arr_a[i]+arr_b[i] #Arrays divided by the thread count as the block count\n",
    "\n",
    "\n",
    "n = 10000000  #How big are the arrays?\n",
    "a = np.arange(n,dtype=np.float32)\n",
    "b = np.arange(n,dtype=np.float32)  #Set both input arrays equal to ascending integer values from 0 to n-1\n",
    "vector_sum_gpu = np.empty_like(a)  #Create a target array with the same number of elements as our input arrays\n",
    "vector_sum_python = np.empty_like(a)  #Create a target array with the same number of elements as our input arrays\n",
    "\n",
    "print \"Running comparison with %d-sized arrays\\n\" % (n)\n",
    "\n",
    "# Add the two vectors using pure python\n",
    "'''\n",
    "start = time()\n",
    "for i in xrange(n):\n",
    "    vector_sum_python[i] = a[i] + b[i]\n",
    "print \"Time to run using python:     %f\" % (time()-start)\n",
    "'''\n",
    "\n",
    "# Add the two vectors using just numpy\n",
    "start = time()\n",
    "vector_sum = a + b\n",
    "print \"Time to run using numpy:      %f\" % (time()-start)\n",
    "\n",
    "\n",
    "#Set the thread count to the number of threads on our GPU\n",
    "thread_ct = my_gpu.WARP_SIZE\n",
    "#Set the block count\n",
    "block_ct = int(math.ceil(float(n) / thread_ct))\n",
    "\n",
    "#Call vadd\n",
    "start = time()\n",
    "vadd[block_ct, thread_ct](a, b, vector_sum_gpu)\n",
    "print \"Time to run using numba cuda: %f\" % (time()-start)"
   ]
  },
  {
   "cell_type": "code",
   "execution_count": null,
   "metadata": {
    "collapsed": false
   },
   "outputs": [],
   "source": [
    "\n",
    "\n"
   ]
  }
 ],
 "metadata": {
  "kernelspec": {
   "display_name": "Python 2",
   "language": "python",
   "name": "python2"
  },
  "language_info": {
   "codemirror_mode": {
    "name": "ipython",
    "version": 2
   },
   "file_extension": ".py",
   "mimetype": "text/x-python",
   "name": "python",
   "nbconvert_exporter": "python",
   "pygments_lexer": "ipython2",
   "version": "2.7.12"
  }
 },
 "nbformat": 4,
 "nbformat_minor": 0
}
