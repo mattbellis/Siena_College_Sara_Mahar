{
 "cells": [
  {
   "cell_type": "code",
   "execution_count": 1,
   "metadata": {
    "collapsed": false
   },
   "outputs": [
    {
     "name": "stderr",
     "output_type": "stream",
     "text": [
      "Vendor:  Continuum Analytics, Inc.\n",
      "Package: mkl\n",
      "Message: trial mode expires in 14 days\n"
     ]
    }
   ],
   "source": [
    "import fitting_tools_main as ftm\n",
    "import matplotlib.pylab as plt\n",
    "import numpy as np\n",
    "import time as time\n",
    "\n",
    "import seaborn as sns\n",
    "\n",
    "%matplotlib notebook"
   ]
  },
  {
   "cell_type": "code",
   "execution_count": 5,
   "metadata": {
    "collapsed": false
   },
   "outputs": [
    {
     "data": {
      "text/plain": [
       "'\\nsigmeans = [0.0, 0.0]\\nsigwidths = [0.20, 0.20]\\n\\nbkgmeans = [0.0, 0.0]\\nbkgwidths = [0.7, 0.7]\\n\\nlos = [0,0]\\nhis = [3,3]\\n'"
      ]
     },
     "execution_count": 5,
     "metadata": {},
     "output_type": "execute_result"
    }
   ],
   "source": [
    "niterations=1000\n",
    "sig_points = 200\n",
    "nbkg = 1000\n",
    "\n",
    "MC_signal = 10000\n",
    "MC_background = 10000\n",
    "'''\n",
    "sigmeans = [0.0, 0.0]\n",
    "sigwidths = [0.20, 0.20]\n",
    "\n",
    "bkgmeans = [0.0, 0.0]\n",
    "bkgwidths = [0.7, 0.7]\n",
    "\n",
    "los = [0,0]\n",
    "his = [3,3]\n",
    "'''"
   ]
  },
  {
   "cell_type": "code",
   "execution_count": 3,
   "metadata": {
    "collapsed": false
   },
   "outputs": [],
   "source": [
    "#data = ftm.gen_sig_and_bkg_lognormal([nsig_iteration,nbkg_iteration],sigmeans,sigwidths,bkgmeans,bkgwidths,los,his)\n",
    "#signal_MC= ftm.function_2D_lognormal(nMC_sig,sigmeans,sigwidths,los,his)\n",
    "#background_MC = ftm.function_2D_lognormal(nMC_bkg,bkgmeans,bkgwidths,los,his)"
   ]
  },
  {
   "cell_type": "code",
   "execution_count": 6,
   "metadata": {
    "collapsed": false
   },
   "outputs": [
    {
     "name": "stdout",
     "output_type": "stream",
     "text": [
      "writing out to file frac_values_lognormal_data_sig200_bkg1000_MCsig10000_MCbkg10000_bs0_nn3_2dimension.dat\n",
      "time to calc 1000 iterations: 229.565133 s\n",
      "\n",
      "writing out to file frac_values_lognormal_data_sig200_bkg1000_MCsig10000_MCbkg10000_bs0_nn5_2dimension.dat\n",
      "time to calc 1000 iterations: 236.767267 s\n",
      "\n",
      "writing out to file frac_values_lognormal_data_sig200_bkg1000_MCsig10000_MCbkg10000_bs0_nn10_2dimension.dat\n",
      "time to calc 1000 iterations: 237.098296 s\n",
      "\n"
     ]
    }
   ],
   "source": [
    "sigmeans = [0.0, 0.0]\n",
    "sig_widths = [0.20, 0.20]\n",
    "dimension=2\n",
    "num_bootstrapping_samples=0\n",
    "nneigh=3\n",
    "start = time.time()\n",
    "pulls,org_vals,fit_vals,fit_uncerts,iteration,file_name= ftm.calc_pull_main(niterations, sig_points, nbkg,MC_signal, MC_background,num_bootstrapping_samples,nneigh,sig_widths,sigmeans,dimension,tag='lognormal_data')\n",
    "print \"time to calc %d iterations: %f s\" % (niterations, time.time() - start)\n",
    "print ''\n",
    "\n",
    "nneigh=5\n",
    "start = time.time()\n",
    "pulls,org_vals,fit_vals,fit_uncerts,iteration,file_name= ftm.calc_pull_main(niterations, sig_points, nbkg,MC_signal, MC_background,num_bootstrapping_samples,nneigh,sig_widths,sigmeans,dimension,tag='lognormal_data')\n",
    "print \"time to calc %d iterations: %f s\" % (niterations, time.time() - start)\n",
    "print ''\n",
    "\n",
    "nneigh=10\n",
    "start = time.time()\n",
    "pulls,org_vals,fit_vals,fit_uncerts,iteration,file_name= ftm.calc_pull_main(niterations, sig_points, nbkg,MC_signal, MC_background,num_bootstrapping_samples,nneigh,sig_widths,sigmeans,dimension,tag='lognormal_data')\n",
    "print \"time to calc %d iterations: %f s\" % (niterations, time.time() - start)\n",
    "print ''"
   ]
  },
  {
   "cell_type": "code",
   "execution_count": 7,
   "metadata": {
    "collapsed": true
   },
   "outputs": [],
   "source": [
    "#Calculate the mean and std of frac pulls\n",
    "def calc_mean_std_of_pulls(values):\n",
    "    pulls=(values[0]-values[1])/values[2]\n",
    "    return (np.mean(pulls),np.std(pulls))"
   ]
  },
  {
   "cell_type": "code",
   "execution_count": 8,
   "metadata": {
    "collapsed": false
   },
   "outputs": [
    {
     "name": "stdout",
     "output_type": "stream",
     "text": [
      "(-0.62467623242966086, 1.0218917418295896)\n",
      "(-0.44374746002388499, 1.0034188507440123)\n",
      "(-0.51521071126924878, 1.0015483951925561)\n",
      "(-1.2710092440722101, 1.1124548655961404)\n",
      "(-1.5599102343441458, 1.1575289858791662)\n",
      "(-2.2991709391259025, 1.1242972373496447)\n"
     ]
    }
   ],
   "source": [
    "infile_name='frac_values_lognormal_data_sig200_bkg1000_MCsig10000_MCbkg10000_bs0_nn3_2dimension.dat'\n",
    "values=np.loadtxt(infile_name, delimiter=' ', unpack=True,dtype=float)\n",
    "print calc_mean_std_of_pulls(values)\n",
    "\n",
    "infile_name='frac_values_lognormal_data_sig200_bkg1000_MCsig10000_MCbkg10000_bs0_nn5_2dimension.dat'\n",
    "values=np.loadtxt(infile_name, delimiter=' ', unpack=True,dtype=float)\n",
    "print calc_mean_std_of_pulls(values)\n",
    "\n",
    "infile_name='frac_values_lognormal_data_sig200_bkg1000_MCsig10000_MCbkg10000_bs0_nn10_2dimension.dat'\n",
    "values=np.loadtxt(infile_name, delimiter=' ', unpack=True,dtype=float)\n",
    "print calc_mean_std_of_pulls(values)\n",
    "\n",
    "infile_name='frac_values_lognormal_data_sig200_bkg1000_MCsig1000_MCbkg1000_bs0_nn3_2dimension.dat'\n",
    "values=np.loadtxt(infile_name, delimiter=' ', unpack=True,dtype=float)\n",
    "print calc_mean_std_of_pulls(values)\n",
    "\n",
    "infile_name='frac_values_lognormal_data_sig200_bkg1000_MCsig1000_MCbkg1000_bs0_nn5_2dimension.dat'\n",
    "values=np.loadtxt(infile_name, delimiter=' ', unpack=True,dtype=float)\n",
    "print calc_mean_std_of_pulls(values)\n",
    "\n",
    "infile_name='frac_values_lognormal_data_sig200_bkg1000_MCsig1000_MCbkg1000_bs0_nn10_2dimension.dat'\n",
    "values=np.loadtxt(infile_name, delimiter=' ', unpack=True,dtype=float)\n",
    "print calc_mean_std_of_pulls(values)\n"
   ]
  },
  {
   "cell_type": "code",
   "execution_count": null,
   "metadata": {
    "collapsed": false
   },
   "outputs": [],
   "source": [
    "sns.jointplot(signal_MC[0],signal_MC[1],kind='hex')\n",
    "#plt.xlim(los[0],his[0])\n",
    "#plt.ylim(los[1],his[1])"
   ]
  },
  {
   "cell_type": "code",
   "execution_count": null,
   "metadata": {
    "collapsed": false
   },
   "outputs": [],
   "source": [
    "sns.jointplot(background_MC[0],background_MC[1],kind='hex')"
   ]
  },
  {
   "cell_type": "code",
   "execution_count": null,
   "metadata": {
    "collapsed": false
   },
   "outputs": [],
   "source": [
    "sns.jointplot(data[0],data[1],kind='hex')"
   ]
  },
  {
   "cell_type": "code",
   "execution_count": null,
   "metadata": {
    "collapsed": true
   },
   "outputs": [],
   "source": []
  }
 ],
 "metadata": {
  "kernelspec": {
   "display_name": "Python 2",
   "language": "python",
   "name": "python2"
  },
  "language_info": {
   "codemirror_mode": {
    "name": "ipython",
    "version": 2
   },
   "file_extension": ".py",
   "mimetype": "text/x-python",
   "name": "python",
   "nbconvert_exporter": "python",
   "pygments_lexer": "ipython2",
   "version": "2.7.12"
  }
 },
 "nbformat": 4,
 "nbformat_minor": 0
}
