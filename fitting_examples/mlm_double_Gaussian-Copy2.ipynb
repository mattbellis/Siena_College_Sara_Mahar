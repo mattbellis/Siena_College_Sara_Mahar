{
 "cells": [
  {
   "cell_type": "code",
   "execution_count": 45,
   "metadata": {
    "collapsed": false
   },
   "outputs": [
    {
     "name": "stdout",
     "output_type": "stream",
     "text": [
      "\n"
     ]
    }
   ],
   "source": [
    "import numpy as np\n",
    "import matplotlib.pylab as plt\n",
    "import math as math\n",
    "from scipy.optimize import fmin\n",
    "from iminuit import Minuit, describe, Struct\n",
    "from scipy.spatial.distance import cdist\n",
    "\n",
    "#import lichen as lch\n",
    "import seaborn as sns\n",
    "\n",
    "%matplotlib  notebook"
   ]
  },
  {
   "cell_type": "code",
   "execution_count": 46,
   "metadata": {
    "collapsed": false
   },
   "outputs": [],
   "source": [
    "# Add code to the following function so that it takes in two datasets, loops over one of them, and finds\n",
    "# information about the nearest neighbors in the other dataset, based on a flag. \n",
    "\n",
    "def nn(data0,data1,r=None,nneighbors=None):\n",
    "    \n",
    "    ret = -1\n",
    "    ret_list=[]\n",
    "    if r is not None and nneighbors is not None:\n",
    "        exit(-1)\n",
    "        return ret\n",
    "    elif r is not None and nneighbors is None:\n",
    "        for num0,num1 in zip(data0[0],data0[1]):\n",
    "            for data_x,data_y in zip(data1[0],data1[1]):\n",
    "                count=0\n",
    "                diffx=num0-data_x\n",
    "                diffy=num1-data_y\n",
    "                diff= np.sqrt((diffx)**2 +(diffy)**2)\n",
    "                count = len(diff[diff<r])\n",
    "                ret_list.append(float(count)/(float(len(data1[0]))*r))\n",
    "        ret_list = np.array(ret_list)\n",
    "        return ret_list\n",
    "    elif r is None and nneighbors is not None:\n",
    "        for num0 in data0:\n",
    "            diff = np.abs(num0 - data1)\n",
    "            diff.sort()\n",
    "            radius= diff[nneighbors-1]\n",
    "            ret_list.append(1/radius)\n",
    "        ret_list = np.array(ret_list)\n",
    "        return ret_list\n",
    "    return ret"
   ]
  },
  {
   "cell_type": "code",
   "execution_count": 47,
   "metadata": {
    "collapsed": true
   },
   "outputs": [],
   "source": [
    "def normal(x,mean,width):\n",
    "    return (1.0/(width*np.sqrt(2*np.pi)))*(np.exp(-(x-mean)**2/(2*(width**2))))\n",
    "\n",
    "# A product of two Gaussians\n",
    "def signal_2D(npts,means,sigmas):\n",
    "    pts = []\n",
    "    for m,s in zip(means,sigmas):\n",
    "        pts.append(np.random.normal(m,s,npts))\n",
    "        \n",
    "    pts = np.array(pts)\n",
    "    return pts\n",
    "\n",
    "# Flat in 2D\n",
    "def background_2D(npts,lovals,hivals):\n",
    "    pts = []\n",
    "    for lo,hi in zip(lovals,hivals):\n",
    "        width = hi-lo\n",
    "        pts.append(lo + width*np.random.random(npts))\n",
    "        \n",
    "    pts = np.array(pts)\n",
    "    return pts\n",
    "\n",
    "# Helper function to generate signal and background at the same time\n",
    "def gen_sig_and_bkg(npts,means,sigmas,lovals,hivals):\n",
    "    sigpts = signal_2D(npts[0],means,sigmas)\n",
    "    bkgpts = background_2D(npts[1],lovals,hivals)\n",
    "\n",
    "    data = [sigpts[0].copy(),sigpts[1].copy()]\n",
    "    data[0] = np.append(data[0],bkgpts[0])\n",
    "    data[1] = np.append(data[1],bkgpts[1])\n",
    "    data = np.array(data)\n",
    "   \n",
    "    return data"
   ]
  },
  {
   "cell_type": "code",
   "execution_count": 48,
   "metadata": {
    "collapsed": false
   },
   "outputs": [],
   "source": [
    "# Test the tools to generate the datasets.\n",
    "\n",
    "sigpts = signal_2D(3000,[5.0,7.0],[0.1,0.1])\n",
    "#sns.jointplot(sigpts[0],sigpts[1],kind='hex')\n",
    "\n",
    "bkgpts = background_2D(10000,[3.5,5],[6,9])\n",
    "#sns.jointplot(bkgpts[0],bkgpts[1],kind='hex')\n",
    "\n",
    "data = [sigpts[0].copy(),sigpts[1].copy()]\n",
    "data[0] = np.append(data[0],bkgpts[0])\n",
    "data[1] = np.append(data[1],bkgpts[1])\n",
    "data = np.array(data)\n",
    "\n",
    "#sns.jointplot(data[0],data[1],kind='hex')"
   ]
  },
  {
   "cell_type": "code",
   "execution_count": 49,
   "metadata": {
    "collapsed": true
   },
   "outputs": [],
   "source": [
    "nbkg = 1000\n",
    "sigmeans = [5.0,7.0]\n",
    "sigwidths = [0.1,0.2]\n",
    "bkglos = [3.5,5]\n",
    "bkghis = [6,9]\n",
    "\n",
    "def calc_pull(iterations, nsig, nMC, rad):\n",
    "\n",
    "    pull_frac_list=[]\n",
    "    average_best_frac = 0\n",
    "    frac = []\n",
    "    fit_frac = []\n",
    "    fit_frac_uncert = []\n",
    "    \n",
    "    frac_org = nsig/float(nsig+nbkg)\n",
    "    \n",
    "\n",
    "    for num in range(iterations):\n",
    "        nsig_iteration = np.random.poisson(nsig)\n",
    "        nbkg_iteration = np.random.poisson(nbkg)\n",
    "\n",
    "        \n",
    "        data = gen_sig_and_bkg([nsig_iteration,nbkg_iteration],sigmeans,sigwidths,bkglos,bkghis)\n",
    "        signal_points= signal_2D(nMC,sigmeans,sigwidths)\n",
    "        background_points = background_2D(nMC,bkglos,bkghis)\n",
    "        \n",
    "        frac_iteration = float(nsig_iteration)/(float(nbkg_iteration+nsig_iteration))\n",
    "        frac.append(frac_iteration)\n",
    "\n",
    "        \n",
    "        def probability(frac):\n",
    "            tot_prob=[]\n",
    "            ##################################################################\n",
    "            # In this section, I'm using the analytic functions.\n",
    "            # But we want to compare this to when we use the nearest neighbors approach\n",
    "            #signal_prob =  normal(data[0],sigmeans[0],sigwidths[0])\n",
    "            #signal_prob *= normal(data[1],sigmeans[1],sigwidths[1])\n",
    "\n",
    "            #background_prob  = (1.0/(bkghis[0]-bkglos[0]))*np.ones(len(data[0]))\n",
    "            #background_prob *= (1.0/(bkghis[1]-bkglos[1]))\n",
    "            ##################################################################\n",
    "            #####################NEAREST NEIGHBORS############################\n",
    "            signal_prob=nn(data,sigpts, r=.1)\n",
    "            background_prob= nn(data,bkgpts, r=.1)\n",
    "            tot_prob.append(frac*signal_prob+ ((1-frac)*background_prob))\n",
    "            #print tot_prob\n",
    "            tot_prob=np.array(tot_prob)\n",
    "            #tot_prob[tot_prob<=0.0] = 1e-64\n",
    "\n",
    "            return -np.log(tot_prob).sum()\n",
    "        \n",
    "        m=Minuit(probability, frac= 0.25, limit_frac=(0.001,1), error_frac=0.001,  errordef = 0.5, print_level=0)\n",
    "        m.migrad()\n",
    "        #m.hesse()\n",
    "\n",
    "        if (m.get_fmin().is_valid):\n",
    "            param=m.values\n",
    "            err=m.errors\n",
    "            fit_frac.append(param[\"frac\"])\n",
    "            fit_frac_uncert.append(err[\"frac\"])\n",
    "\n",
    "            #print frac_org,frac_iteration,param[\"frac\"],err[\"frac\"]\n",
    "            pull_frac=(frac_org-param[\"frac\"])/err[\"frac\"]\n",
    "            pull_frac_list.append(pull_frac)\n",
    "    return pull_frac_list, frac, fit_frac, fit_frac_uncert,iterations"
   ]
  },
  {
   "cell_type": "code",
   "execution_count": 17,
   "metadata": {
    "collapsed": true
   },
   "outputs": [],
   "source": []
  },
  {
   "cell_type": "code",
   "execution_count": 50,
   "metadata": {
    "collapsed": false
   },
   "outputs": [
    {
     "name": "stdout",
     "output_type": "stream",
     "text": [
      "number of signal points: 20 \t number of MC point: 500 \tradius: 0.01\n"
     ]
    },
    {
     "name": "stderr",
     "output_type": "stream",
     "text": [
      "/home/sara/anaconda2/lib/python2.7/site-packages/ipykernel/__main__.py:53: RuntimeWarning: Exception Occured \n",
      "fcn is called with following arguments:\n",
      "    frac = +0.250000\n",
      "\n"
     ]
    },
    {
     "ename": "ValueError",
     "evalue": "operands could not be broadcast together with shapes (3213000,) (10710000,) ",
     "output_type": "error",
     "traceback": [
      "\u001b[1;31m---------------------------------------------------------------------------\u001b[0m",
      "\u001b[1;31mValueError\u001b[0m                                Traceback (most recent call last)",
      "\u001b[1;32m<ipython-input-50-b76f4a44f0c8>\u001b[0m in \u001b[0;36m<module>\u001b[1;34m()\u001b[0m\n\u001b[0;32m      7\u001b[0m \u001b[1;33m\u001b[0m\u001b[0m\n\u001b[0;32m      8\u001b[0m             \u001b[1;32mprint\u001b[0m \u001b[1;34m'number of signal points: %s \\t number of MC point: %s \\tradius: %s'\u001b[0m \u001b[1;33m%\u001b[0m \u001b[1;33m(\u001b[0m\u001b[0msig\u001b[0m\u001b[1;33m,\u001b[0m\u001b[0mMC\u001b[0m\u001b[1;33m,\u001b[0m\u001b[0mrad\u001b[0m\u001b[1;33m)\u001b[0m\u001b[1;33m\u001b[0m\u001b[0m\n\u001b[1;32m----> 9\u001b[1;33m             \u001b[0mpulls\u001b[0m\u001b[1;33m,\u001b[0m\u001b[0morg_vals\u001b[0m\u001b[1;33m,\u001b[0m\u001b[0mfit_vals\u001b[0m\u001b[1;33m,\u001b[0m\u001b[0mfit_uncerts\u001b[0m\u001b[1;33m,\u001b[0m\u001b[0miteration\u001b[0m \u001b[1;33m=\u001b[0m \u001b[0mcalc_pull\u001b[0m\u001b[1;33m(\u001b[0m\u001b[1;36m50\u001b[0m\u001b[1;33m,\u001b[0m \u001b[0msig\u001b[0m\u001b[1;33m,\u001b[0m \u001b[0mMC\u001b[0m\u001b[1;33m,\u001b[0m \u001b[0mrad\u001b[0m\u001b[1;33m)\u001b[0m\u001b[1;33m\u001b[0m\u001b[0m\n\u001b[0m\u001b[0;32m     10\u001b[0m \u001b[1;33m\u001b[0m\u001b[0m\n\u001b[0;32m     11\u001b[0m             \u001b[0mparameters_mean\u001b[0m \u001b[1;33m=\u001b[0m \u001b[1;33m{\u001b[0m\u001b[1;34m'signal'\u001b[0m\u001b[1;33m:\u001b[0m \u001b[0msig\u001b[0m\u001b[1;33m,\u001b[0m \u001b[1;34m'MC_points'\u001b[0m\u001b[1;33m:\u001b[0m \u001b[0mMC\u001b[0m\u001b[1;33m,\u001b[0m \u001b[1;34m'radius'\u001b[0m\u001b[1;33m:\u001b[0m \u001b[0mrad\u001b[0m\u001b[1;33m,\u001b[0m \u001b[1;34m'mean pulls'\u001b[0m\u001b[1;33m:\u001b[0m \u001b[0mnp\u001b[0m\u001b[1;33m.\u001b[0m\u001b[0mmean\u001b[0m\u001b[1;33m(\u001b[0m\u001b[0mpulls\u001b[0m\u001b[1;33m)\u001b[0m\u001b[1;33m}\u001b[0m\u001b[1;33m\u001b[0m\u001b[0m\n",
      "\u001b[1;32m<ipython-input-49-66107dd5bc37>\u001b[0m in \u001b[0;36mcalc_pull\u001b[1;34m(iterations, nsig, nMC, rad)\u001b[0m\n\u001b[0;32m     51\u001b[0m \u001b[1;33m\u001b[0m\u001b[0m\n\u001b[0;32m     52\u001b[0m         \u001b[0mm\u001b[0m\u001b[1;33m=\u001b[0m\u001b[0mMinuit\u001b[0m\u001b[1;33m(\u001b[0m\u001b[0mprobability\u001b[0m\u001b[1;33m,\u001b[0m \u001b[0mfrac\u001b[0m\u001b[1;33m=\u001b[0m \u001b[1;36m0.25\u001b[0m\u001b[1;33m,\u001b[0m \u001b[0mlimit_frac\u001b[0m\u001b[1;33m=\u001b[0m\u001b[1;33m(\u001b[0m\u001b[1;36m0.001\u001b[0m\u001b[1;33m,\u001b[0m\u001b[1;36m1\u001b[0m\u001b[1;33m)\u001b[0m\u001b[1;33m,\u001b[0m \u001b[0merror_frac\u001b[0m\u001b[1;33m=\u001b[0m\u001b[1;36m0.001\u001b[0m\u001b[1;33m,\u001b[0m  \u001b[0merrordef\u001b[0m \u001b[1;33m=\u001b[0m \u001b[1;36m0.5\u001b[0m\u001b[1;33m,\u001b[0m \u001b[0mprint_level\u001b[0m\u001b[1;33m=\u001b[0m\u001b[1;36m0\u001b[0m\u001b[1;33m)\u001b[0m\u001b[1;33m\u001b[0m\u001b[0m\n\u001b[1;32m---> 53\u001b[1;33m         \u001b[0mm\u001b[0m\u001b[1;33m.\u001b[0m\u001b[0mmigrad\u001b[0m\u001b[1;33m(\u001b[0m\u001b[1;33m)\u001b[0m\u001b[1;33m\u001b[0m\u001b[0m\n\u001b[0m\u001b[0;32m     54\u001b[0m         \u001b[1;31m#m.hesse()\u001b[0m\u001b[1;33m\u001b[0m\u001b[1;33m\u001b[0m\u001b[0m\n\u001b[0;32m     55\u001b[0m \u001b[1;33m\u001b[0m\u001b[0m\n",
      "\u001b[1;32miminuit/_libiminuit.pyx\u001b[0m in \u001b[0;36miminuit._libiminuit.Minuit.migrad (iminuit/_libiminuit.cpp:5392)\u001b[1;34m()\u001b[0m\n",
      "\u001b[1;32m<ipython-input-49-66107dd5bc37>\u001b[0m in \u001b[0;36mprobability\u001b[1;34m(frac)\u001b[0m\n\u001b[0;32m     43\u001b[0m             \u001b[0msignal_prob\u001b[0m\u001b[1;33m=\u001b[0m\u001b[0mnn\u001b[0m\u001b[1;33m(\u001b[0m\u001b[0mdata\u001b[0m\u001b[1;33m,\u001b[0m\u001b[0msigpts\u001b[0m\u001b[1;33m,\u001b[0m \u001b[0mr\u001b[0m\u001b[1;33m=\u001b[0m\u001b[1;36m.1\u001b[0m\u001b[1;33m)\u001b[0m\u001b[1;33m\u001b[0m\u001b[0m\n\u001b[0;32m     44\u001b[0m             \u001b[0mbackground_prob\u001b[0m\u001b[1;33m=\u001b[0m \u001b[0mnn\u001b[0m\u001b[1;33m(\u001b[0m\u001b[0mdata\u001b[0m\u001b[1;33m,\u001b[0m\u001b[0mbkgpts\u001b[0m\u001b[1;33m,\u001b[0m \u001b[0mr\u001b[0m\u001b[1;33m=\u001b[0m\u001b[1;36m.1\u001b[0m\u001b[1;33m)\u001b[0m\u001b[1;33m\u001b[0m\u001b[0m\n\u001b[1;32m---> 45\u001b[1;33m             \u001b[0mtot_prob\u001b[0m\u001b[1;33m.\u001b[0m\u001b[0mappend\u001b[0m\u001b[1;33m(\u001b[0m\u001b[0mfrac\u001b[0m\u001b[1;33m*\u001b[0m\u001b[0msignal_prob\u001b[0m\u001b[1;33m+\u001b[0m \u001b[1;33m(\u001b[0m\u001b[1;33m(\u001b[0m\u001b[1;36m1\u001b[0m\u001b[1;33m-\u001b[0m\u001b[0mfrac\u001b[0m\u001b[1;33m)\u001b[0m\u001b[1;33m*\u001b[0m\u001b[0mbackground_prob\u001b[0m\u001b[1;33m)\u001b[0m\u001b[1;33m)\u001b[0m\u001b[1;33m\u001b[0m\u001b[0m\n\u001b[0m\u001b[0;32m     46\u001b[0m             \u001b[1;31m#print tot_prob\u001b[0m\u001b[1;33m\u001b[0m\u001b[1;33m\u001b[0m\u001b[0m\n\u001b[0;32m     47\u001b[0m             \u001b[0mtot_prob\u001b[0m\u001b[1;33m=\u001b[0m\u001b[0mnp\u001b[0m\u001b[1;33m.\u001b[0m\u001b[0marray\u001b[0m\u001b[1;33m(\u001b[0m\u001b[0mtot_prob\u001b[0m\u001b[1;33m)\u001b[0m\u001b[1;33m\u001b[0m\u001b[0m\n",
      "\u001b[1;31mValueError\u001b[0m: operands could not be broadcast together with shapes (3213000,) (10710000,) "
     ]
    }
   ],
   "source": [
    "means=[]\n",
    "stds=[]\n",
    "\n",
    "for sig in [20]:\n",
    "    for MC in [500]:\n",
    "        for rad in [0.01]: #, 0.10,0.20,0.50]:\n",
    "            start = time.time()\n",
    "            print 'number of signal points: %s \\t number of MC point: %s \\tradius: %s' % (sig,MC,rad)\n",
    "            pulls,org_vals,fit_vals,fit_uncerts,iteration = calc_pull(50, sig, MC, rad)\n",
    "\n",
    "            parameters_mean = {'signal': sig, 'MC_points': MC, 'radius': rad, 'mean pulls': np.mean(pulls)}\n",
    "            means.append(parameters_mean)\n",
    "            parameters_std = {'signal': sig, 'MC_points': MC, 'radius': rad, 'mean stds': np.std(pulls)}\n",
    "            stds.append(parameters_std)\n",
    "            #print \"-----------------\"\n",
    "            #print pulls\n",
    "            \n",
    "\n",
    "#plt.figure(figsize=(6,6))\n",
    "point_color='bo'\n",
    "sizes=0\n",
    "\n",
    "\n",
    "#print \"---------------\"\n",
    "print means\n",
    "print stds\n",
    "\n",
    "#WITH THE POISSON and 100 iterations- TESTING IT"
   ]
  },
  {
   "cell_type": "code",
   "execution_count": null,
   "metadata": {
    "collapsed": false
   },
   "outputs": [],
   "source": [
    "for x,y in zip([1,2,3],[4,5,6]):\n",
    "    print x\n",
    "    print y\n",
    "    print '--------------'\n"
   ]
  },
  {
   "cell_type": "code",
   "execution_count": null,
   "metadata": {
    "collapsed": false
   },
   "outputs": [],
   "source": []
  },
  {
   "cell_type": "code",
   "execution_count": null,
   "metadata": {
    "collapsed": false
   },
   "outputs": [],
   "source": []
  },
  {
   "cell_type": "code",
   "execution_count": null,
   "metadata": {
    "collapsed": false
   },
   "outputs": [],
   "source": []
  },
  {
   "cell_type": "code",
   "execution_count": null,
   "metadata": {
    "collapsed": true
   },
   "outputs": [],
   "source": []
  }
 ],
 "metadata": {
  "kernelspec": {
   "display_name": "Python 2",
   "language": "python",
   "name": "python2"
  },
  "language_info": {
   "codemirror_mode": {
    "name": "ipython",
    "version": 2
   },
   "file_extension": ".py",
   "mimetype": "text/x-python",
   "name": "python",
   "nbconvert_exporter": "python",
   "pygments_lexer": "ipython2",
   "version": "2.7.12"
  }
 },
 "nbformat": 4,
 "nbformat_minor": 0
}
