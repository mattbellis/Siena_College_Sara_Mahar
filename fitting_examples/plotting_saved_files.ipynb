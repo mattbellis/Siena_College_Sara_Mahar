{
 "cells": [
  {
   "cell_type": "code",
   "execution_count": 1,
   "metadata": {
    "collapsed": false
   },
   "outputs": [
    {
     "name": "stderr",
     "output_type": "stream",
     "text": [
      "Vendor:  Continuum Analytics, Inc.\n",
      "Package: mkl\n",
      "Message: trial mode expires in 24 days\n"
     ]
    }
   ],
   "source": [
    "import fitting_tools as ft\n",
    "import time\n",
    "import numpy as np\n",
    "import matplotlib.pylab as plt\n",
    "import random\n",
    "%matplotlib notebook\n"
   ]
  },
  {
   "cell_type": "code",
   "execution_count": 2,
   "metadata": {
    "collapsed": false
   },
   "outputs": [
    {
     "name": "stdout",
     "output_type": "stream",
     "text": [
      "time to calc 5000 iterations: 0.000038 s\n",
      "\n"
     ]
    }
   ],
   "source": [
    "#initial conditions that stay the same\n",
    "niterations=5000\n",
    "sig_points=200\n",
    "nbkg=1000\n",
    "nneigh=5\n",
    "sig_widths=[0.1,0.1]\n",
    "\n",
    "nneigh=5\n",
    "MC_signal=1000\n",
    "MC_background=1000\n",
    "start = time.time()\n",
    "#pulls,org_vals,fit_vals,fit_uncerts,iteration,file_name= ft.calc_pull_GPU(niterations, sig_points, nbkg,MC_signal, MC_background,sig_widths,nneigh=nneigh, tag='trial4')\n",
    "print \"time to calc %d iterations: %f s\" % (niterations, time.time() - start)\n",
    "print ''\n"
   ]
  },
  {
   "cell_type": "code",
   "execution_count": 10,
   "metadata": {
    "collapsed": false
   },
   "outputs": [
    {
     "name": "stdout",
     "output_type": "stream",
     "text": [
      "time to calc 1000 iterations: 0.000061 s\n",
      "\n",
      "time to calc 1000 iterations: 0.000049 s\n",
      "\n",
      "time to calc 1000 iterations: 0.000042 s\n",
      "\n",
      "time to calc 1000 iterations: 0.000048 s\n",
      "\n",
      "time to calc 1000 iterations: 0.000083 s\n",
      "\n",
      "********************************************************************************\n",
      "writing out to file frac_values_trial1_sig200_bkg1000_MCsig1000_MCbkg1000_bs0_nn3.dat\n",
      "time to calc 1000 iterations: 79.030860 s\n",
      "\n"
     ]
    }
   ],
   "source": [
    "niterations=1000\n",
    "sig_points=200\n",
    "nbkg=1000\n",
    "nneigh=3\n",
    "sig_widths=[0.1,0.1]\n",
    "MC_signal=1000\n",
    "MC_background=1000\n",
    "\n",
    "random.seed(0)\n",
    "\n",
    "\n",
    "start = time.time()\n",
    "#pulls,org_vals,fit_vals,fit_uncerts,iteration,file_name= ft.calc_pull(niterations, sig_points, nbkg,MC_signal, MC_background,sig_widths,nneigh=nneigh, tag='trial1_CPU')\n",
    "print \"time to calc %d iterations: %f s\" % (niterations, time.time() - start)\n",
    "print ''\n",
    "\n",
    "start = time.time()\n",
    "#pulls,org_vals,fit_vals,fit_uncerts,iteration,file_name= ft.calc_pull_GPU(niterations, sig_points, nbkg,MC_signal, MC_background,sig_widths,nneigh=nneigh, tag='trial2_GPU')\n",
    "print \"time to calc %d iterations: %f s\" % (niterations, time.time() - start)\n",
    "print ''\n",
    "\n",
    "\n",
    "num_bootstrapping_samples=100\n",
    "start = time.time()\n",
    "#pulls,org_vals,fit_vals,fit_uncerts,iteration,file_name= ft.calc_pull_w_bootstrapping(niterations, sig_points, nbkg,MC_signal, MC_background,num_bootstrapping_samples,nneigh,sig_widths, tag='trial1_CPU')\n",
    "print \"time to calc %d iterations: %f s\" % (niterations, time.time() - start)\n",
    "print ''\n",
    "\n",
    "start = time.time()\n",
    "#pulls,org_vals,fit_vals,fit_uncerts,iteration,file_name= ft.calc_pull_w_bootstrapping_GPU(niterations, sig_points, nbkg,MC_signal, MC_background,num_bootstrapping_samples,nneigh,sig_widths, tag='trial1_GPU')\n",
    "print \"time to calc %d iterations: %f s\" % (niterations, time.time() - start)\n",
    "print ''\n",
    "\n",
    "start = time.time()\n",
    "#pulls,org_vals,fit_vals,fit_uncerts,iteration,file_name= ft.calc_pull_1D_GPU(niterations, sig_points, nbkg,MC_signal, MC_background,sig_widths,nneigh=nneigh, tag='trial2')\n",
    "print \"time to calc %d iterations: %f s\" % (niterations, time.time() - start)\n",
    "print ''\n",
    "print '********************************************************************************'\n",
    "\n",
    "start = time.time()\n",
    "pulls,org_vals,fit_vals,fit_uncerts,iteration,file_name= ft.calc_pull_1D(niterations, sig_points, nbkg,MC_signal, MC_background,sig_widths,nneigh=nneigh, tag='trial1')\n",
    "print \"time to calc %d iterations: %f s\" % (niterations, time.time() - start)\n",
    "print ''\n"
   ]
  },
  {
   "cell_type": "code",
   "execution_count": 11,
   "metadata": {
    "collapsed": false
   },
   "outputs": [
    {
     "name": "stdout",
     "output_type": "stream",
     "text": [
      "writing out to file frac_values_trial1_sig200_bkg1000_MCsig1000_MCbkg1000_bs0_nn5.dat\n",
      "time to calc 1000 iterations: 78.707829 s\n",
      "\n"
     ]
    }
   ],
   "source": [
    "nneigh=5\n",
    "\n",
    "start = time.time()\n",
    "pulls,org_vals,fit_vals,fit_uncerts,iteration,file_name= ft.calc_pull_1D(niterations, sig_points, nbkg,MC_signal, MC_background,sig_widths,nneigh=nneigh, tag='trial1')\n",
    "print \"time to calc %d iterations: %f s\" % (niterations, time.time() - start)\n",
    "print ''"
   ]
  },
  {
   "cell_type": "code",
   "execution_count": 13,
   "metadata": {
    "collapsed": false
   },
   "outputs": [
    {
     "name": "stdout",
     "output_type": "stream",
     "text": [
      "writing out to file frac_values_trial1_sig200_bkg1000_MCsig1000_MCbkg1000_bs0_nn8.dat\n",
      "time to calc 1000 iterations: 78.578302 s\n",
      "\n"
     ]
    }
   ],
   "source": [
    "nneigh=8\n",
    "\n",
    "start = time.time()\n",
    "pulls,org_vals,fit_vals,fit_uncerts,iteration,file_name= ft.calc_pull_1D(niterations, sig_points, nbkg,MC_signal, MC_background,sig_widths,nneigh=nneigh, tag='trial1')\n",
    "print \"time to calc %d iterations: %f s\" % (niterations, time.time() - start)\n",
    "print ''"
   ]
  },
  {
   "cell_type": "code",
   "execution_count": 8,
   "metadata": {
    "collapsed": false
   },
   "outputs": [],
   "source": [
    "\n",
    "#Calculate the mean and std of frac pulls\n",
    "def calc_mean_std_of_pulls(values):\n",
    "    pulls=(values[0]-values[1])/values[2]\n",
    "    return (np.mean(pulls),np.std(pulls))"
   ]
  },
  {
   "cell_type": "code",
   "execution_count": 14,
   "metadata": {
    "collapsed": false
   },
   "outputs": [
    {
     "name": "stdout",
     "output_type": "stream",
     "text": [
      "(0.13829240719438882, 1.2174821165389456)\n",
      "(-0.052132504673892771, 1.2115266253559409)\n",
      "(-0.34887613813071844, 1.1963556584754478)\n"
     ]
    }
   ],
   "source": [
    "infile_name='frac_values_trial1_sig200_bkg1000_MCsig1000_MCbkg1000_bs0_nn3.dat'\n",
    "values_CPU=np.loadtxt(infile_name, delimiter=' ', unpack=True,dtype=float)\n",
    "print calc_mean_std_of_pulls(values_CPU)\n",
    "\n",
    "infile_name='frac_values_trial1_sig200_bkg1000_MCsig1000_MCbkg1000_bs0_nn5.dat'\n",
    "values_CPU=np.loadtxt(infile_name, delimiter=' ', unpack=True,dtype=float)\n",
    "print calc_mean_std_of_pulls(values_CPU)\n",
    "\n",
    "infile_name='frac_values_trial1_sig200_bkg1000_MCsig1000_MCbkg1000_bs0_nn8.dat'\n",
    "values_CPU=np.loadtxt(infile_name, delimiter=' ', unpack=True,dtype=float)\n",
    "print calc_mean_std_of_pulls(values_CPU)"
   ]
  },
  {
   "cell_type": "code",
   "execution_count": null,
   "metadata": {
    "collapsed": true
   },
   "outputs": [],
   "source": []
  },
  {
   "cell_type": "code",
   "execution_count": null,
   "metadata": {
    "collapsed": false
   },
   "outputs": [],
   "source": [
    "infile_name='frac_values_trial1_CPU_sig200_bkg1000_MCsig1000_MCbkg1000_bs0_nn5.dat'\n",
    "values_CPU=np.loadtxt(infile_name, delimiter=' ', unpack=True,dtype=float)\n",
    "print calc_mean_std_of_pulls(values_CPU)\n",
    "\n",
    "infile_name='frac_values_trial1_GPU_sig200_bkg1000_MCsig1000_MCbkg1000_bs0_nn5.dat'\n",
    "values_GPU=np.loadtxt(infile_name, delimiter=' ', unpack=True,dtype=float)\n",
    "print calc_mean_std_of_pulls(values_GPU)\n",
    "\n",
    "infile_name='frac_values_trial1_CPU_sig200_bkg1000_MCsig1000_MCbkg1000_bs100_nn5.dat'\n",
    "values_CPU_bs=np.loadtxt(infile_name, delimiter=' ', unpack=True,dtype=float)\n",
    "print calc_mean_std_of_pulls(values_CPU_bs)\n",
    "\n",
    "infile_name='frac_values_trial1_GPU_sig200_bkg1000_MCsig1000_MCbkg1000_bs100_nn5.dat'\n",
    "values_GPU_bs=np.loadtxt(infile_name, delimiter=' ', unpack=True,dtype=float)\n",
    "print calc_mean_std_of_pulls(values_GPU_bs)\n",
    "\n",
    "\n",
    "infile_name='frac_values_trial1_GPU_sig200_bkg1000_MCsig1000_MCbkg1000_bs0_nn2.dat'\n",
    "values_GPU_nn2=np.loadtxt(infile_name, delimiter=' ', unpack=True,dtype=float)\n",
    "print calc_mean_std_of_pulls(values_GPU_nn2)\n",
    "\n",
    "infile_name='frac_values_trial1_GPU_sig200_bkg1000_MCsig1000_MCbkg1000_bs100_nn2.dat'\n",
    "values_GPU_bs_nn2=np.loadtxt(infile_name, delimiter=' ', unpack=True,dtype=float)\n",
    "print calc_mean_std_of_pulls(values_GPU_bs_nn2)\n",
    "\n",
    "\n"
   ]
  },
  {
   "cell_type": "code",
   "execution_count": null,
   "metadata": {
    "collapsed": false
   },
   "outputs": [],
   "source": [
    "plt.figure(figsize=(10,6))\n",
    "\n",
    "labels = ['CPU, nn=5',\n",
    "          'GPU, nn=5',\n",
    "          'CPU, nn=5, bs=100',\n",
    "          'GPU, nn=5, bs=100',\n",
    "          'GPU, nn=2,',\n",
    "          'GPU, nn=2, bs=100']\n",
    "\n",
    "fmt = ['ro','bo','rs','bs','go', 'gs']\n",
    "\n",
    "for v,l,f in zip([values_CPU,values_GPU,values_CPU_bs,values_GPU_bs, values_GPU_nn2, values_GPU_bs_nn2],labels,fmt):\n",
    "    x,y = calc_mean_std_of_pulls(v) \n",
    "    plt.plot(y,x,f,label=l,markersize=20)\n",
    "\n",
    "plt.ylim(-2.0,0.5)\n",
    "plt.xlim(0.95,1.10)\n",
    "plt.legend(loc='lower right',fontsize=14)"
   ]
  },
  {
   "cell_type": "code",
   "execution_count": null,
   "metadata": {
    "collapsed": false
   },
   "outputs": [],
   "source": [
    "niterations=1000\n",
    "sig_points=200\n",
    "nbkg=1000\n",
    "nneigh=2\n",
    "sig_widths=[0.1,0.1]\n",
    "MC_signal=1000\n",
    "MC_background=1000\n",
    "\n",
    "\n",
    "start = time.time()\n",
    "pulls,org_vals,fit_vals,fit_uncerts,iteration,file_name= ft.calc_pull_1D(niterations, sig_points, nbkg,MC_signal, MC_background,nneigh, sig_widths,tag='trial1_GPU')\n",
    "print \"time to calc %d iterations: %f s\" % (niterations, time.time() - start)\n",
    "print ''"
   ]
  },
  {
   "cell_type": "code",
   "execution_count": null,
   "metadata": {
    "collapsed": false
   },
   "outputs": [],
   "source": []
  },
  {
   "cell_type": "code",
   "execution_count": null,
   "metadata": {
    "collapsed": false
   },
   "outputs": [],
   "source": []
  },
  {
   "cell_type": "code",
   "execution_count": null,
   "metadata": {
    "collapsed": false
   },
   "outputs": [],
   "source": []
  },
  {
   "cell_type": "code",
   "execution_count": null,
   "metadata": {
    "collapsed": false
   },
   "outputs": [],
   "source": [
    "plt.figure(figsize=(10,6))\n",
    "\n",
    "labels = ['MC=1000, nn=5',\n",
    "          'MC=10000, nn=5',\n",
    "          'MC=50000, nn=5',\n",
    "          'MC=1000, nn=10',\n",
    "          'MC=10000, nn=10',\n",
    "          'MC=50000, nn=10',\n",
    "          'MC=1000, nn=3',\n",
    "          'MC=1000, nn=5, bs=100',\n",
    "          'MC=1000, nn=3, bs=100'\n",
    "         ]\n",
    "\n",
    "fmt = ['o','o','o','s','s','s','^','*','*']\n",
    "\n",
    "for v,l,f in zip([values,values2,values3,values4,values5,values6,values7,values8,values9],labels,fmt):\n",
    "    x,y = calc_mean_std_of_pulls(v) \n",
    "    plt.plot(y,x,f,label=l,markersize=20)\n",
    "\n",
    "plt.ylim(-2.0,0.5)\n",
    "plt.xlim(0.95,1.10)\n",
    "plt.legend(loc='lower right',fontsize=14)"
   ]
  },
  {
   "cell_type": "code",
   "execution_count": null,
   "metadata": {
    "collapsed": false
   },
   "outputs": [],
   "source": [
    "plt.figure(figsize=(10,6))\n",
    "\n",
    "labels = ['MC=1000, nn=5',\n",
    "          'MC=10000, nn=5',\n",
    "          'MC=50000, nn=5',\n",
    "          'MC=1000, nn=10',\n",
    "          'MC=10000, nn=10',\n",
    "          'MC=50000, nn=10',\n",
    "          'MC=1000, nn=3',\n",
    "          'MC=1000, nn=5, bs=100',\n",
    "          'MC=1000, nn=3, bs=100'\n",
    "         ]\n",
    "\n",
    "fmt = ['ro','bo','go','rs','bs','gs','m^','y*','c*']\n",
    "\n",
    "for v,l,f in zip([values2,values22,values23,values24,values25,values26,values27,values28,values29],labels,fmt):\n",
    "    x,y = calc_mean_std_of_pulls(v) \n",
    "    plt.plot(y,x,f,label=l,markersize=20)\n",
    "    \n",
    "for v,f in zip([values,values2,values3,values4,values5,values6,values7,values8,values9],fmt):\n",
    "    x,y = calc_mean_std_of_pulls(v) \n",
    "    plt.plot(y,x,f,markersize=20)\n",
    "\n",
    "plt.ylim(-2.0,1.0)\n",
    "plt.xlim(0.95,1.10)\n",
    "plt.legend(loc='lower right',fontsize=10)"
   ]
  },
  {
   "cell_type": "code",
   "execution_count": null,
   "metadata": {
    "collapsed": false
   },
   "outputs": [],
   "source": [
    "import numpy as np\n",
    "x=[2,3,4]\n",
    "y=[2,3,4]\n",
    "x=np.array(x)\n",
    "if x.all==y:\n",
    "    print \"1\""
   ]
  }
 ],
 "metadata": {
  "kernelspec": {
   "display_name": "Python 2",
   "language": "python",
   "name": "python2"
  },
  "language_info": {
   "codemirror_mode": {
    "name": "ipython",
    "version": 2
   },
   "file_extension": ".py",
   "mimetype": "text/x-python",
   "name": "python",
   "nbconvert_exporter": "python",
   "pygments_lexer": "ipython2",
   "version": "2.7.12"
  }
 },
 "nbformat": 4,
 "nbformat_minor": 0
}
