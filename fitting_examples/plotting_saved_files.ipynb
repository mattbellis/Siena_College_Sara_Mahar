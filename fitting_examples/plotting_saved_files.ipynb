{
 "cells": [
  {
   "cell_type": "code",
   "execution_count": 1,
   "metadata": {
    "collapsed": false
   },
   "outputs": [
    {
     "name": "stderr",
     "output_type": "stream",
     "text": [
      "Vendor:  Continuum Analytics, Inc.\n",
      "Package: mkl\n",
      "Message: trial mode expires in 23 days\n"
     ]
    }
   ],
   "source": [
    "import fitting_tools as ft\n",
    "import time\n",
    "import numpy as np\n",
    "import matplotlib.pylab as plt\n",
    "import random\n",
    "%matplotlib notebook\n"
   ]
  },
  {
   "cell_type": "code",
   "execution_count": 2,
   "metadata": {
    "collapsed": false
   },
   "outputs": [
    {
     "name": "stdout",
     "output_type": "stream",
     "text": [
      "time to calc 5000 iterations: 0.000040 s\n",
      "\n"
     ]
    }
   ],
   "source": [
    "#initial conditions that stay the same\n",
    "niterations=5000\n",
    "sig_points=200\n",
    "nbkg=1000\n",
    "nneigh=5\n",
    "sig_widths=[0.1,0.1]\n",
    "\n",
    "nneigh=5\n",
    "MC_signal=1000\n",
    "MC_background=1000\n",
    "start = time.time()\n",
    "#pulls,org_vals,fit_vals,fit_uncerts,iteration,file_name= ft.calc_pull_GPU(niterations, sig_points, nbkg,MC_signal, MC_background,sig_widths,nneigh=nneigh, tag='trial4')\n",
    "print \"time to calc %d iterations: %f s\" % (niterations, time.time() - start)\n",
    "print ''\n"
   ]
  },
  {
   "cell_type": "code",
   "execution_count": 3,
   "metadata": {
    "collapsed": false
   },
   "outputs": [
    {
     "name": "stdout",
     "output_type": "stream",
     "text": [
      "writing out to file frac_values_default_sig200_bkg1000_MCsig1000_MCbkg1000_bs10_nn3_1dimension.dat\n",
      "time to calc 10 iterations: 2.292789 s\n",
      "\n"
     ]
    }
   ],
   "source": [
    "niterations=10\n",
    "sig_points=200\n",
    "nbkg=1000\n",
    "MC_signal=1000\n",
    "MC_background=1000\n",
    "num_bootstrapping_samples=10\n",
    "dimension=1\n",
    "sigmeans=10.4\n",
    "sig_widths=.06\n",
    "#sig_widths=[0.1,0.1]\n",
    "#sigmeans = [5.0,7.0]\n",
    "\n",
    "\n",
    "nneigh=3\n",
    "start = time.time()\n",
    "pulls,org_vals,fit_vals,fit_uncerts,iteration,file_name= ft.calc_pull_main(niterations, sig_points, nbkg,MC_signal, MC_background,num_bootstrapping_samples,nneigh,sig_widths,sigmeans,dimension,tag='default')\n",
    "print \"time to calc %d iterations: %f s\" % (niterations, time.time() - start)\n",
    "print ''"
   ]
  },
  {
   "cell_type": "code",
   "execution_count": null,
   "metadata": {
    "collapsed": false
   },
   "outputs": [],
   "source": []
  },
  {
   "cell_type": "code",
   "execution_count": 4,
   "metadata": {
    "collapsed": false
   },
   "outputs": [],
   "source": [
    "#Calculate the mean and std of frac pulls\n",
    "def calc_mean_std_of_pulls(values):\n",
    "    pulls=(values[0]-values[1])/values[2]\n",
    "    return (np.mean(pulls),np.std(pulls))"
   ]
  },
  {
   "cell_type": "code",
   "execution_count": 5,
   "metadata": {
    "collapsed": false
   },
   "outputs": [
    {
     "name": "stdout",
     "output_type": "stream",
     "text": [
      "(nan, nan)\n"
     ]
    }
   ],
   "source": [
    "infile_name='frac_values_default_sig200_bkg1000_MCsig1000_MCbkg1000_bs10_nn3_1dimension.dat'\n",
    "values=np.loadtxt(infile_name, delimiter=' ', unpack=True,dtype=float)\n",
    "print calc_mean_std_of_pulls(values)"
   ]
  },
  {
   "cell_type": "code",
   "execution_count": null,
   "metadata": {
    "collapsed": false
   },
   "outputs": [],
   "source": [
    "nneigh=3\n",
    "\n",
    "start = time.time()\n",
    "pulls,org_vals,fit_vals,fit_uncerts,iteration,file_name= ft.calc_pull_1D_GPU(niterations, sig_points, nbkg,MC_signal, MC_background,sig_widths,nneigh=nneigh, tag='trial1')\n",
    "print \"time to calc %d iterations: %f s\" % (niterations, time.time() - start)\n",
    "print ''"
   ]
  },
  {
   "cell_type": "code",
   "execution_count": null,
   "metadata": {
    "collapsed": false
   },
   "outputs": [],
   "source": []
  },
  {
   "cell_type": "code",
   "execution_count": null,
   "metadata": {
    "collapsed": true
   },
   "outputs": [],
   "source": []
  },
  {
   "cell_type": "code",
   "execution_count": null,
   "metadata": {
    "collapsed": false
   },
   "outputs": [],
   "source": [
    "\n",
    "\n"
   ]
  },
  {
   "cell_type": "code",
   "execution_count": null,
   "metadata": {
    "collapsed": false
   },
   "outputs": [],
   "source": [
    "plt.figure(figsize=(10,6))\n",
    "\n",
    "labels = ['CPU, nn=5',\n",
    "          'GPU, nn=5',\n",
    "          'CPU, nn=5, bs=100',\n",
    "          'GPU, nn=5, bs=100',\n",
    "          'GPU, nn=2,',\n",
    "          'GPU, nn=2, bs=100']\n",
    "\n",
    "fmt = ['ro','bo','rs','bs','go', 'gs']\n",
    "\n",
    "for v,l,f in zip([values_CPU,values_GPU,values_CPU_bs,values_GPU_bs, values_GPU_nn2, values_GPU_bs_nn2],labels,fmt):\n",
    "    x,y = calc_mean_std_of_pulls(v) \n",
    "    plt.plot(y,x,f,label=l,markersize=20)\n",
    "\n",
    "plt.ylim(-2.0,0.5)\n",
    "plt.xlim(0.95,1.10)\n",
    "plt.legend(loc='lower right',fontsize=14)"
   ]
  },
  {
   "cell_type": "code",
   "execution_count": null,
   "metadata": {
    "collapsed": false
   },
   "outputs": [],
   "source": [
    "niterations=1000\n",
    "sig_points=200\n",
    "nbkg=1000\n",
    "nneigh=2\n",
    "sig_widths=[0.1,0.1]\n",
    "MC_signal=1000\n",
    "MC_background=1000\n",
    "\n",
    "\n",
    "start = time.time()\n",
    "pulls,org_vals,fit_vals,fit_uncerts,iteration,file_name= ft.calc_pull_1D(niterations, sig_points, nbkg,MC_signal, MC_background,nneigh, sig_widths,tag='trial1_GPU')\n",
    "print \"time to calc %d iterations: %f s\" % (niterations, time.time() - start)\n",
    "print ''"
   ]
  },
  {
   "cell_type": "code",
   "execution_count": null,
   "metadata": {
    "collapsed": false
   },
   "outputs": [],
   "source": []
  },
  {
   "cell_type": "code",
   "execution_count": null,
   "metadata": {
    "collapsed": false
   },
   "outputs": [],
   "source": []
  },
  {
   "cell_type": "code",
   "execution_count": null,
   "metadata": {
    "collapsed": false
   },
   "outputs": [],
   "source": []
  },
  {
   "cell_type": "code",
   "execution_count": null,
   "metadata": {
    "collapsed": false
   },
   "outputs": [],
   "source": [
    "plt.figure(figsize=(10,6))\n",
    "\n",
    "labels = ['MC=1000, nn=5',\n",
    "          'MC=10000, nn=5',\n",
    "          'MC=50000, nn=5',\n",
    "          'MC=1000, nn=10',\n",
    "          'MC=10000, nn=10',\n",
    "          'MC=50000, nn=10',\n",
    "          'MC=1000, nn=3',\n",
    "          'MC=1000, nn=5, bs=100',\n",
    "          'MC=1000, nn=3, bs=100'\n",
    "         ]\n",
    "\n",
    "fmt = ['o','o','o','s','s','s','^','*','*']\n",
    "\n",
    "for v,l,f in zip([values,values2,values3,values4,values5,values6,values7,values8,values9],labels,fmt):\n",
    "    x,y = calc_mean_std_of_pulls(v) \n",
    "    plt.plot(y,x,f,label=l,markersize=20)\n",
    "\n",
    "plt.ylim(-2.0,0.5)\n",
    "plt.xlim(0.95,1.10)\n",
    "plt.legend(loc='lower right',fontsize=14)"
   ]
  },
  {
   "cell_type": "code",
   "execution_count": null,
   "metadata": {
    "collapsed": false
   },
   "outputs": [],
   "source": [
    "plt.figure(figsize=(10,6))\n",
    "\n",
    "labels = ['MC=1000, nn=5',\n",
    "          'MC=10000, nn=5',\n",
    "          'MC=50000, nn=5',\n",
    "          'MC=1000, nn=10',\n",
    "          'MC=10000, nn=10',\n",
    "          'MC=50000, nn=10',\n",
    "          'MC=1000, nn=3',\n",
    "          'MC=1000, nn=5, bs=100',\n",
    "          'MC=1000, nn=3, bs=100'\n",
    "         ]\n",
    "\n",
    "fmt = ['ro','bo','go','rs','bs','gs','m^','y*','c*']\n",
    "\n",
    "for v,l,f in zip([values2,values22,values23,values24,values25,values26,values27,values28,values29],labels,fmt):\n",
    "    x,y = calc_mean_std_of_pulls(v) \n",
    "    plt.plot(y,x,f,label=l,markersize=20)\n",
    "    \n",
    "for v,f in zip([values,values2,values3,values4,values5,values6,values7,values8,values9],fmt):\n",
    "    x,y = calc_mean_std_of_pulls(v) \n",
    "    plt.plot(y,x,f,markersize=20)\n",
    "\n",
    "plt.ylim(-2.0,1.0)\n",
    "plt.xlim(0.95,1.10)\n",
    "plt.legend(loc='lower right',fontsize=10)"
   ]
  },
  {
   "cell_type": "code",
   "execution_count": null,
   "metadata": {
    "collapsed": false
   },
   "outputs": [],
   "source": [
    "import numpy as np\n",
    "x=[2,3,4]\n",
    "y=[2,3,4]\n",
    "x=np.array(x)\n",
    "if x.all==y:\n",
    "    print \"1\""
   ]
  },
  {
   "cell_type": "code",
   "execution_count": null,
   "metadata": {
    "collapsed": true
   },
   "outputs": [],
   "source": [
    "x = np.random.random(10)-0.5"
   ]
  },
  {
   "cell_type": "code",
   "execution_count": null,
   "metadata": {
    "collapsed": false
   },
   "outputs": [],
   "source": [
    "x"
   ]
  },
  {
   "cell_type": "code",
   "execution_count": null,
   "metadata": {
    "collapsed": false
   },
   "outputs": [],
   "source": [
    "y = np.abs(x)"
   ]
  },
  {
   "cell_type": "code",
   "execution_count": null,
   "metadata": {
    "collapsed": false
   },
   "outputs": [],
   "source": [
    "x"
   ]
  },
  {
   "cell_type": "code",
   "execution_count": null,
   "metadata": {
    "collapsed": false
   },
   "outputs": [],
   "source": [
    "y"
   ]
  },
  {
   "cell_type": "code",
   "execution_count": null,
   "metadata": {
    "collapsed": true
   },
   "outputs": [],
   "source": []
  }
 ],
 "metadata": {
  "kernelspec": {
   "display_name": "Python 2",
   "language": "python",
   "name": "python2"
  },
  "language_info": {
   "codemirror_mode": {
    "name": "ipython",
    "version": 2
   },
   "file_extension": ".py",
   "mimetype": "text/x-python",
   "name": "python",
   "nbconvert_exporter": "python",
   "pygments_lexer": "ipython2",
   "version": "2.7.12"
  }
 },
 "nbformat": 4,
 "nbformat_minor": 0
}
