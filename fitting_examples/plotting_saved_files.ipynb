{
 "cells": [
  {
   "cell_type": "code",
   "execution_count": 1,
   "metadata": {
    "collapsed": false
   },
   "outputs": [
    {
     "name": "stderr",
     "output_type": "stream",
     "text": [
      "Vendor:  Continuum Analytics, Inc.\n",
      "Package: mkl\n",
      "Message: trial mode expires in 29 days\n"
     ]
    }
   ],
   "source": [
    "import fitting_tools as ft\n",
    "import time\n",
    "import numpy as np\n",
    "import matplotlib.pylab as plt\n",
    "%matplotlib notebook\n"
   ]
  },
  {
   "cell_type": "code",
   "execution_count": null,
   "metadata": {
    "collapsed": false
   },
   "outputs": [],
   "source": [
    "#initial conditions that stay the same\n",
    "niterations=5000\n",
    "sig_points=200\n",
    "nbkg=1000\n",
    "nneigh=5\n",
    "sig_widths=[0.1,0.1]\n",
    "\n",
    "nneigh=5\n",
    "MC_signal=1000\n",
    "MC_background=1000\n",
    "start = time.time()\n",
    "pulls,org_vals,fit_vals,fit_uncerts,iteration,file_name= ft.calc_pull_GPU(niterations, sig_points, nbkg,MC_signal, MC_background,sig_widths,nneigh=nneigh, tag='trial4')\n",
    "print \"time to calc %d iterations: %f s\" % (niterations, time.time() - start)\n",
    "print ''\n"
   ]
  },
  {
   "cell_type": "code",
   "execution_count": null,
   "metadata": {
    "collapsed": false
   },
   "outputs": [
    {
     "name": "stdout",
     "output_type": "stream",
     "text": [
      "writing out to file frac_values_trial2_GPU_sig200_bkg1000_MCsig1000_MCbkg1000_bs100_nn3.dat\n"
     ]
    }
   ],
   "source": [
    "niterations=1000\n",
    "sig_points=200\n",
    "nbkg=1000\n",
    "nneigh=5\n",
    "sig_widths=[0.1,0.1]\n",
    "num_bootstrapping_samples=100\n",
    "\n",
    "nneigh=3\n",
    "MC_signal=1000\n",
    "MC_background=1000\n",
    "start = time.time()\n",
    "pulls,org_vals,fit_vals,fit_uncerts,iteration,file_name= ft.calc_pull_w_bootstrapping_GPU(niterations, sig_points, nbkg,MC_signal, MC_background,num_bootstrapping_samples,nneigh,sig_widths, tag='trial2_GPU')\n",
    "print \"time to calc %d iterations: %f s\" % (niterations, time.time() - start)\n",
    "print ''\n",
    "\n",
    "nneigh=5\n",
    "MC_signal=1000\n",
    "MC_background=1000\n",
    "num_bootstrapping_samples=100\n",
    "start = time.time()\n",
    "pulls,org_vals,fit_vals,fit_uncerts,iteration,file_name= ft.calc_pull_w_bootstrapping(niterations, sig_points, nbkg,MC_signal, MC_background,num_bootstrapping_samples,nneigh,sig_widths, tag='trial2_GPU')\n",
    "print \"time to calc %d iterations: %f s\" % (niterations, time.time() - start)\n",
    "print ''\n",
    "\n",
    "\n",
    "nneigh=10\n",
    "MC_signal=1000\n",
    "MC_background=1000\n",
    "num_bootstrapping_samples=100\n",
    "start = time.time()\n",
    "pulls,org_vals,fit_vals,fit_uncerts,iteration,file_name= ft.calc_pull_w_bootstrapping(niterations, sig_points, nbkg,MC_signal, MC_background,num_bootstrapping_samples,nneigh,sig_widths, tag='trial2GPU')\n",
    "print \"time to calc %d iterations: %f s\" % (niterations, time.time() - start)\n",
    "print ''\n",
    "\n"
   ]
  },
  {
   "cell_type": "code",
   "execution_count": null,
   "metadata": {
    "collapsed": false
   },
   "outputs": [],
   "source": [
    "infile_name='frac_values_trial4_sig200_bkg1000_MCsig1000_MCbkg1000_bs0_nn5.dat'\n",
    "values_GPU=np.loadtxt(infile_name, delimiter=' ', unpack=True,dtype=float)\n",
    "print calc_mean_std_of_pulls(values_GPU)\n",
    "\n",
    "infile_name='frac_values_trial2_sig200_bkg1000_MCsig1000_MCbkg1000_bs0_nn5.dat'\n",
    "values2=np.loadtxt(infile_name, delimiter=' ', unpack=True,dtype=float)\n",
    "print ft.calc_mean_std_of_pulls(values2)"
   ]
  },
  {
   "cell_type": "code",
   "execution_count": null,
   "metadata": {
    "collapsed": true
   },
   "outputs": [],
   "source": [
    "\n",
    "#Calculate the mean and std of frac pulls\n",
    "def calc_mean_std_of_pulls(values):\n",
    "    pulls=(values[0]-values[1])/values[2]\n",
    "    return (np.mean(pulls),np.std(pulls))"
   ]
  },
  {
   "cell_type": "code",
   "execution_count": null,
   "metadata": {
    "collapsed": false
   },
   "outputs": [],
   "source": [
    "infile_name='frac_values_default_sig200_bkg1000_MCsig1000_MCbkg1000_bs0_nn5.dat'\n",
    "values=np.loadtxt(infile_name, delimiter=' ', unpack=True,dtype=float)\n",
    "print calc_mean_std_of_pulls(values)\n",
    "\n",
    "infile_name='frac_values_default_sig200_bkg1000_MCsig10000_MCbkg10000_bs0_nn5.dat'\n",
    "values2=np.loadtxt(infile_name, delimiter=' ', unpack=True,dtype=float)\n",
    "print calc_mean_std_of_pulls(values2)\n",
    "\n",
    "infile_name='frac_values_default_sig200_bkg1000_MCsig50000_MCbkg50000_bs0_nn5.dat'\n",
    "values3=np.loadtxt(infile_name, delimiter=' ', unpack=True,dtype=float)\n",
    "print calc_mean_std_of_pulls(values3)\n",
    "\n",
    "infile_name='frac_values_default_sig200_bkg1000_MCsig1000_MCbkg1000_bs0_nn10.dat'\n",
    "values4=np.loadtxt(infile_name, delimiter=' ', unpack=True,dtype=float)\n",
    "print calc_mean_std_of_pulls(values4)\n",
    "\n",
    "infile_name='frac_values_default_sig200_bkg1000_MCsig10000_MCbkg10000_bs0_nn10.dat'\n",
    "values5=np.loadtxt(infile_name, delimiter=' ', unpack=True,dtype=float)\n",
    "print calc_mean_std_of_pulls(values5)\n",
    "\n",
    "infile_name='frac_values_default_sig200_bkg1000_MCsig50000_MCbkg50000_bs0_nn10.dat'\n",
    "values6=np.loadtxt(infile_name, delimiter=' ', unpack=True,dtype=float)\n",
    "print calc_mean_std_of_pulls(values6)\n",
    "\n",
    "infile_name='frac_values_default_sig200_bkg1000_MCsig1000_MCbkg1000_bs0_nn3.dat'\n",
    "values7=np.loadtxt(infile_name, delimiter=' ', unpack=True,dtype=float)\n",
    "print calc_mean_std_of_pulls(values7)\n",
    "\n",
    "\n",
    "infile_name='frac_values_default_sig200_bkg1000_MCsig1000_MCbkg1000_bs100_nn5.dat'\n",
    "values8=np.loadtxt(infile_name, delimiter=' ', unpack=True,dtype=float)\n",
    "print calc_mean_std_of_pulls(values8)\n",
    "\n",
    "infile_name='frac_values_default_sig200_bkg1000_MCsig1000_MCbkg1000_bs100_nn3.dat'\n",
    "values9=np.loadtxt(infile_name, delimiter=' ', unpack=True,dtype=float)\n",
    "print calc_mean_std_of_pulls(values9)"
   ]
  },
  {
   "cell_type": "code",
   "execution_count": null,
   "metadata": {
    "collapsed": false
   },
   "outputs": [],
   "source": [
    "infile_name='frac_values_trial2_sig200_bkg1000_MCsig1000_MCbkg1000_bs0_nn5.dat'\n",
    "values2=np.loadtxt(infile_name, delimiter=' ', unpack=True,dtype=float)\n",
    "print calc_mean_std_of_pulls(values2)\n",
    "\n",
    "infile_name='frac_values_trial2_sig200_bkg1000_MCsig10000_MCbkg10000_bs0_nn5.dat'\n",
    "values22=np.loadtxt(infile_name, delimiter=' ', unpack=True,dtype=float)\n",
    "print calc_mean_std_of_pulls(values22)\n",
    "\n",
    "infile_name='frac_values_trial2_sig200_bkg1000_MCsig50000_MCbkg50000_bs0_nn5.dat'\n",
    "values23=np.loadtxt(infile_name, delimiter=' ', unpack=True,dtype=float)\n",
    "print calc_mean_std_of_pulls(values23)\n",
    "\n",
    "infile_name='frac_values_trial2_sig200_bkg1000_MCsig1000_MCbkg1000_bs0_nn10.dat'\n",
    "values24=np.loadtxt(infile_name, delimiter=' ', unpack=True,dtype=float)\n",
    "print calc_mean_std_of_pulls(values24)\n",
    "\n",
    "infile_name='frac_values_trial2_sig200_bkg1000_MCsig10000_MCbkg10000_bs0_nn10.dat'\n",
    "values25=np.loadtxt(infile_name, delimiter=' ', unpack=True,dtype=float)\n",
    "print calc_mean_std_of_pulls(values25)\n",
    "\n",
    "infile_name='frac_values_trial2_sig200_bkg1000_MCsig50000_MCbkg50000_bs0_nn10.dat'\n",
    "values26=np.loadtxt(infile_name, delimiter=' ', unpack=True,dtype=float)\n",
    "print calc_mean_std_of_pulls(values26)\n",
    "\n",
    "infile_name='frac_values_trial2_sig200_bkg1000_MCsig1000_MCbkg1000_bs0_nn3.dat'\n",
    "values27=np.loadtxt(infile_name, delimiter=' ', unpack=True,dtype=float)\n",
    "print calc_mean_std_of_pulls(values27)\n",
    "\n",
    "\n",
    "infile_name='frac_values_trial2_sig200_bkg1000_MCsig1000_MCbkg1000_bs100_nn5.dat'\n",
    "values28=np.loadtxt(infile_name, delimiter=' ', unpack=True,dtype=float)\n",
    "print calc_mean_std_of_pulls(values28)\n",
    "\n",
    "infile_name='frac_values_trial2_sig200_bkg1000_MCsig1000_MCbkg1000_bs100_nn3.dat'\n",
    "values29=np.loadtxt(infile_name, delimiter=' ', unpack=True,dtype=float)\n",
    "print calc_mean_std_of_pulls(values29)"
   ]
  },
  {
   "cell_type": "code",
   "execution_count": null,
   "metadata": {
    "collapsed": false
   },
   "outputs": [],
   "source": [
    "infile_name='frac_values_trial3_sig200_bkg1000_MCsig1000_MCbkg1000_bs0_nn5.dat'\n",
    "values30=np.loadtxt(infile_name, delimiter=' ', unpack=True,dtype=float)\n",
    "print calc_mean_std_of_pulls(values30)\n",
    "\n",
    "infile_name='frac_values_trial3_sig200_bkg1000_MCsig10000_MCbkg10000_bs0_nn5.dat'\n",
    "values32=np.loadtxt(infile_name, delimiter=' ', unpack=True,dtype=float)\n",
    "print calc_mean_std_of_pulls(values32)\n",
    "\n",
    "infile_name='frac_values_trial3_sig200_bkg1000_MCsig50000_MCbkg50000_bs0_nn5.dat'\n",
    "values33=np.loadtxt(infile_name, delimiter=' ', unpack=True,dtype=float)\n",
    "print calc_mean_std_of_pulls(values33)\n",
    "\n",
    "infile_name='frac_values_trial3_sig200_bkg1000_MCsig1000_MCbkg1000_bs0_nn10.dat'\n",
    "values34=np.loadtxt(infile_name, delimiter=' ', unpack=True,dtype=float)\n",
    "print calc_mean_std_of_pulls(values34)\n",
    "\n",
    "infile_name='frac_values_trial3_sig200_bkg1000_MCsig10000_MCbkg10000_bs0_nn10.dat'\n",
    "values35=np.loadtxt(infile_name, delimiter=' ', unpack=True,dtype=float)\n",
    "print calc_mean_std_of_pulls(values35)\n",
    "\n",
    "infile_name='frac_values_trial3_sig200_bkg1000_MCsig50000_MCbkg50000_bs0_nn10.dat'\n",
    "values36=np.loadtxt(infile_name, delimiter=' ', unpack=True,dtype=float)\n",
    "print calc_mean_std_of_pulls(values36)\n",
    "\n",
    "#infile_name='frac_values_trial3_sig200_bkg1000_MCsig1000_MCbkg1000_bs0_nn3.dat'\n",
    "#values37=np.loadtxt(infile_name, delimiter=' ', unpack=True,dtype=float)\n",
    "#print calc_mean_std_of_pulls(values37)\n",
    "\n",
    "\n",
    "infile_name='frac_values_trial3_sig200_bkg1000_MCsig1000_MCbkg1000_bs100_nn5.dat'\n",
    "values38=np.loadtxt(infile_name, delimiter=' ', unpack=True,dtype=float)\n",
    "print calc_mean_std_of_pulls(values38)\n",
    "\n",
    "infile_name='frac_values_trial3_sig200_bkg1000_MCsig1000_MCbkg1000_bs100_nn3.dat'\n",
    "values39=np.loadtxt(infile_name, delimiter=' ', unpack=True,dtype=float)\n",
    "print calc_mean_std_of_pulls(values39)"
   ]
  },
  {
   "cell_type": "code",
   "execution_count": null,
   "metadata": {
    "collapsed": false
   },
   "outputs": [],
   "source": [
    "plt.figure(figsize=(10,6))\n",
    "\n",
    "labels = ['MC=1000, nn=5',\n",
    "          'MC=10000, nn=5',\n",
    "          'MC=50000, nn=5',\n",
    "          'MC=1000, nn=10',\n",
    "          'MC=10000, nn=10',\n",
    "          'MC=50000, nn=10',\n",
    "          'MC=1000, nn=3',\n",
    "          'MC=1000, nn=5, bs=100',\n",
    "          'MC=1000, nn=3, bs=100'\n",
    "         ]\n",
    "\n",
    "fmt = ['o','o','o','s','s','s','^','*','*']\n",
    "\n",
    "for v,l,f in zip([values,values2,values3,values4,values5,values6,values7,values8,values9],labels,fmt):\n",
    "    x,y = calc_mean_std_of_pulls(v) \n",
    "    plt.plot(y,x,f,label=l,markersize=20)\n",
    "\n",
    "plt.ylim(-2.0,0.5)\n",
    "plt.xlim(0.95,1.10)\n",
    "plt.legend(loc='lower right',fontsize=14)"
   ]
  },
  {
   "cell_type": "code",
   "execution_count": null,
   "metadata": {
    "collapsed": false
   },
   "outputs": [],
   "source": [
    "plt.figure(figsize=(10,6))\n",
    "\n",
    "labels = ['MC=1000, nn=5',\n",
    "          'MC=10000, nn=5',\n",
    "          'MC=50000, nn=5',\n",
    "          'MC=1000, nn=10',\n",
    "          'MC=10000, nn=10',\n",
    "          'MC=50000, nn=10',\n",
    "          'MC=1000, nn=3',\n",
    "          'MC=1000, nn=5, bs=100',\n",
    "          'MC=1000, nn=3, bs=100'\n",
    "         ]\n",
    "\n",
    "fmt = ['ro','bo','go','rs','bs','gs','m^','y*','c*']\n",
    "\n",
    "for v,l,f in zip([values2,values22,values23,values24,values25,values26,values27,values28,values29],labels,fmt):\n",
    "    x,y = calc_mean_std_of_pulls(v) \n",
    "    plt.plot(y,x,f,label=l,markersize=20)\n",
    "    \n",
    "for v,f in zip([values,values2,values3,values4,values5,values6,values7,values8,values9],fmt):\n",
    "    x,y = calc_mean_std_of_pulls(v) \n",
    "    plt.plot(y,x,f,markersize=20)\n",
    "\n",
    "plt.ylim(-2.0,1.0)\n",
    "plt.xlim(0.95,1.10)\n",
    "plt.legend(loc='lower right',fontsize=10)"
   ]
  }
 ],
 "metadata": {
  "kernelspec": {
   "display_name": "Python 2",
   "language": "python",
   "name": "python2"
  },
  "language_info": {
   "codemirror_mode": {
    "name": "ipython",
    "version": 2
   },
   "file_extension": ".py",
   "mimetype": "text/x-python",
   "name": "python",
   "nbconvert_exporter": "python",
   "pygments_lexer": "ipython2",
   "version": "2.7.12"
  }
 },
 "nbformat": 4,
 "nbformat_minor": 0
}
