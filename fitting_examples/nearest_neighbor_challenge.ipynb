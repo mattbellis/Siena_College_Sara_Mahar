{
 "cells": [
  {
   "cell_type": "code",
   "execution_count": null,
   "metadata": {
    "collapsed": true
   },
   "outputs": [],
   "source": [
    "import numpy as np\n",
    "import matplotlib.pylab as plt\n",
    "%matplotlib notebook"
   ]
  },
  {
   "cell_type": "code",
   "execution_count": null,
   "metadata": {
    "collapsed": false
   },
   "outputs": [],
   "source": [
    "# Add code to the following function so that it takes in two datasets, loops over one of them, and finds\n",
    "# information about the nearest neighbors in the other dataset, based on a flag. \n",
    "\n",
    "def nn(data0,data1,r=None,nneighbors=None):\n",
    "    \n",
    "    ret = -1\n",
    "    \n",
    "    if r is not None and nneighbors is not None:\n",
    "        \n",
    "        print \"Both r and nneighbors cannot be set! Only one can be!\"\n",
    "        exit(-1)\n",
    "        \n",
    "        return ret\n",
    "    \n",
    "    elif r is not None and nneighbors is None:\n",
    "        # Calculate the number of nearest neighbors in data1 to each point in data0\n",
    "        # within a \"radius\" r. Normalize by the total number of points in data1\n",
    "        ret = -1\n",
    "        \n",
    "        return ret\n",
    "    \n",
    "    elif r is None and nneighbors is not None:\n",
    "        # Calculate how big of a \"radius\" you need to go out to find nneighbors in data1 \n",
    "        # for each point in data0. Return the inverse of that radius.\n",
    "        ret = -1\n",
    "        \n",
    "        return ret\n",
    "    \n",
    "    return ret"
   ]
  },
  {
   "cell_type": "code",
   "execution_count": null,
   "metadata": {
    "collapsed": true
   },
   "outputs": [],
   "source": [
    "data0 = np.random.normal(5,1,10)\n",
    "\n",
    "data1 = np.random.normal(5,1,1000)\n",
    "\n"
   ]
  },
  {
   "cell_type": "code",
   "execution_count": null,
   "metadata": {
    "collapsed": false
   },
   "outputs": [],
   "source": [
    "plt.figure(figsize=(10,5))\n",
    "plt.subplot(1,2,1)\n",
    "plt.hist(data0,bins=50,range=(0,10));\n",
    "plt.subplot(1,2,2)\n",
    "plt.hist(data1,bins=50,range=(0,10));"
   ]
  },
  {
   "cell_type": "code",
   "execution_count": null,
   "metadata": {
    "collapsed": false
   },
   "outputs": [],
   "source": [
    "density = nn(data0,data1,r=0.2)\n",
    "\n",
    "radius_density = nn(data0,data1,nneighbors=100)\n",
    "\n",
    "print density\n",
    "\n",
    "print radius_density"
   ]
  },
  {
   "cell_type": "code",
   "execution_count": null,
   "metadata": {
    "collapsed": true
   },
   "outputs": [],
   "source": []
  }
 ],
 "metadata": {
  "kernelspec": {
   "display_name": "Python 2",
   "language": "python",
   "name": "python2"
  },
  "language_info": {
   "codemirror_mode": {
    "name": "ipython",
    "version": 2
   },
   "file_extension": ".py",
   "mimetype": "text/x-python",
   "name": "python",
   "nbconvert_exporter": "python",
   "pygments_lexer": "ipython2",
   "version": "2.7.11"
  }
 },
 "nbformat": 4,
 "nbformat_minor": 0
}
