{
 "cells": [
  {
   "cell_type": "code",
   "execution_count": 3,
   "metadata": {
    "collapsed": false
   },
   "outputs": [],
   "source": [
    "import numpy as np\n",
    "import matplotlib.pylab as plt\n",
    "import math as math\n",
    "from scipy.optimize import fmin\n",
    "from iminuit import Minuit, describe, Struct\n",
    "from scipy.spatial import distance\n",
    "from scipy.sparse import vstack\n",
    "\n",
    "import time\n",
    "\n",
    "#import lichen as lch\n",
    "import seaborn as sns\n",
    "\n",
    "%matplotlib  notebook"
   ]
  },
  {
   "cell_type": "code",
   "execution_count": 4,
   "metadata": {
    "collapsed": false
   },
   "outputs": [],
   "source": [
    "# Add code to the following function so that it takes in two datasets, loops over one of them, and finds\n",
    "# information about the nearest neighbors in the other dataset, based on a flag. \n",
    "\n",
    "def nn(data0,data1,r=None,nneighbors=None):\n",
    "    \n",
    "    ret = -1\n",
    "    ret_list=[]\n",
    "    if r is not None and nneighbors is not None:\n",
    "        exit(-1)\n",
    "        return ret\n",
    "    \n",
    "    \n",
    "    \n",
    "    elif r is not None and nneighbors is None:\n",
    "        rsq = r*r\n",
    "        #for num0,num1 in zip(data0[0],data0[1]):\n",
    "        for d in data0.transpose():\n",
    "            count=0\n",
    "            diffx=d[0]-data1[0]\n",
    "            diffy=d[1]-data1[1]\n",
    "            #diff= np.sqrt((num0-data1[0])**2 +(num1-data1[1])**2)\n",
    "            #diff= np.sqrt(diffx*diffx + diffy*diffy)\n",
    "            diff= diffx*diffx + diffy*diffy\n",
    "\n",
    "            count = len(diff[diff<rsq])\n",
    "            ret_list.append(float(count)/(float(len(data1[0]))*r))\n",
    "        ret_list = np.array(ret_list)\n",
    "        #print ret_list\n",
    "        #exit()\n",
    "        return ret_list\n",
    "    \n",
    "    \n",
    "    \n",
    "    \n",
    "    elif r is None and nneighbors is not None:\n",
    "        for num0 in data0:\n",
    "            diff = np.abs(num0 - data1)\n",
    "            diff.sort()\n",
    "            radius= diff[nneighbors-1]\n",
    "            ret_list.append(1/radius)\n",
    "        ret_list = np.array(ret_list)\n",
    "        return ret_list\n",
    "    return ret"
   ]
  },
  {
   "cell_type": "code",
   "execution_count": 5,
   "metadata": {
    "collapsed": true
   },
   "outputs": [],
   "source": [
    "# Add code to the following function so that it takes in two datasets, loops over one of them, and finds\n",
    "# information about the nearest neighbors in the other dataset, based on a flag. \n",
    "\n",
    "def nncdist(data0,data1,r=None,nneighbors=None):\n",
    "    \n",
    "    ret = -1\n",
    "    ret_list=[]\n",
    "    if r is not None and nneighbors is not None:\n",
    "        exit(-1)\n",
    "        return ret\n",
    "    \n",
    "    \n",
    "    \n",
    "    elif r is not None and nneighbors is None:\n",
    "        #combined= np.vstack((data0[0],data0[1])).T  \n",
    "        #combined1= np.vstack((data1[0],data1[1])).T\n",
    "        combined = data0.transpose()\n",
    "        combined1 = data1.transpose()\n",
    "        #print data0.transpose()\n",
    "        dist=distance.cdist(combined,combined1,'euclidean')\n",
    "        for num in dist:\n",
    "            count=len(num[num<r])\n",
    "            #count =len(dist[dist<r])\n",
    "            ret_list.append(float(count)/(float(len(data1[0]))*r))\n",
    "        ret_list = np.array(ret_list)\n",
    "        return ret_list\n",
    "    \n",
    "    \n",
    "    \n",
    "    \n",
    "    elif r is None and nneighbors is not None:\n",
    "        for num0 in data0:\n",
    "            diff = np.abs(num0 - data1)\n",
    "            diff.sort()\n",
    "            radius= diff[nneighbors-1]\n",
    "            ret_list.append(1/radius)\n",
    "        ret_list = np.array(ret_list)\n",
    "        return ret_list\n",
    "    return ret"
   ]
  },
  {
   "cell_type": "code",
   "execution_count": 6,
   "metadata": {
    "collapsed": false
   },
   "outputs": [],
   "source": [
    "nbkg = 1000\n",
    "nMC=1000\n",
    "sigmeans = [5.0,7.0]\n",
    "sigwidths = [0.2,0.2]\n",
    "bkglos = [3.5,5]\n",
    "bkghis = [6,9]\n",
    "frac=.1667\n",
    "\n",
    "\n",
    "\n",
    "\n",
    "def signal_2D(npts,means,sigmas):\n",
    "    pts = []\n",
    "    for m,s in zip(means,sigmas):\n",
    "        pts.append(np.random.normal(m,s,npts))\n",
    "        \n",
    "    pts = np.array(pts)\n",
    "    return pts\n",
    "\n",
    "# Flat in 2D\n",
    "def background_2D(npts,lovals,hivals):\n",
    "    pts = []\n",
    "    for lo,hi in zip(lovals,hivals):\n",
    "        width = hi-lo\n",
    "        pts.append(lo + width*np.random.random(npts))\n",
    "        \n",
    "    pts = np.array(pts)\n",
    "    return pts\n",
    "\n",
    "def gen_sig_and_bkg(npts,means,sigmas,lovals,hivals):\n",
    "    sigpts = signal_2D(npts[0],means,sigmas)\n",
    "    bkgpts = background_2D(npts[1],lovals,hivals)\n",
    "\n",
    "    data = [sigpts[0].copy(),sigpts[1].copy()]\n",
    "    data[0] = np.append(data[0],bkgpts[0])\n",
    "    data[1] = np.append(data[1],bkgpts[1])\n",
    "    data = np.array(data)\n",
    "   \n",
    "    return data\n",
    "\n"
   ]
  },
  {
   "cell_type": "code",
   "execution_count": 7,
   "metadata": {
    "collapsed": false
   },
   "outputs": [],
   "source": [
    "#data1=np.array([[1, 1,5,6,7,100],[1, 1,44,5,1,7]])\n",
    "#data2=np.array([[3, 3,7,1,3,88] ,[3, 3,71,7,8,6]])\n",
    "\n",
    "data3 = gen_sig_and_bkg([200,1000],sigmeans,sigwidths,bkglos,bkghis)\n",
    "signal_points= signal_2D(nMC,sigmeans,sigwidths)\n",
    "background_points = background_2D(nMC,bkglos,bkghis)\n",
    "\n",
    "\n",
    "\n",
    "\n",
    "\n",
    "r=.1"
   ]
  },
  {
   "cell_type": "code",
   "execution_count": 8,
   "metadata": {
    "collapsed": false
   },
   "outputs": [],
   "source": [
    "signal=nn(data3,signal_points,r)\n",
    "signal_cdist=nncdist(data3,signal_points,r)\n",
    "\n",
    "signal=nn(data3,background_points,r)\n",
    "signal_cdist=nncdist(data3,background_points,r)"
   ]
  },
  {
   "cell_type": "code",
   "execution_count": 9,
   "metadata": {
    "collapsed": false
   },
   "outputs": [
    {
     "name": "stdout",
     "output_type": "stream",
     "text": [
      "[ 0.01  0.01  0.02 ...,  0.02  0.03  0.01]\n",
      "[ 0.01  0.01  0.02 ...,  0.02  0.03  0.01]\n"
     ]
    }
   ],
   "source": [
    "print signal\n",
    "print signal_cdist"
   ]
  },
  {
   "cell_type": "code",
   "execution_count": null,
   "metadata": {
    "collapsed": true
   },
   "outputs": [],
   "source": [
    "\n",
    "    \n"
   ]
  },
  {
   "cell_type": "code",
   "execution_count": null,
   "metadata": {
    "collapsed": false
   },
   "outputs": [],
   "source": []
  },
  {
   "cell_type": "code",
   "execution_count": null,
   "metadata": {
    "collapsed": false
   },
   "outputs": [],
   "source": []
  },
  {
   "cell_type": "code",
   "execution_count": null,
   "metadata": {
    "collapsed": false
   },
   "outputs": [],
   "source": []
  },
  {
   "cell_type": "code",
   "execution_count": null,
   "metadata": {
    "collapsed": false
   },
   "outputs": [],
   "source": []
  },
  {
   "cell_type": "code",
   "execution_count": null,
   "metadata": {
    "collapsed": false
   },
   "outputs": [],
   "source": []
  },
  {
   "cell_type": "code",
   "execution_count": null,
   "metadata": {
    "collapsed": true
   },
   "outputs": [],
   "source": []
  },
  {
   "cell_type": "code",
   "execution_count": null,
   "metadata": {
    "collapsed": true
   },
   "outputs": [],
   "source": []
  }
 ],
 "metadata": {
  "kernelspec": {
   "display_name": "Python 2",
   "language": "python",
   "name": "python2"
  },
  "language_info": {
   "codemirror_mode": {
    "name": "ipython",
    "version": 2
   },
   "file_extension": ".py",
   "mimetype": "text/x-python",
   "name": "python",
   "nbconvert_exporter": "python",
   "pygments_lexer": "ipython2",
   "version": "2.7.11"
  }
 },
 "nbformat": 4,
 "nbformat_minor": 0
}
