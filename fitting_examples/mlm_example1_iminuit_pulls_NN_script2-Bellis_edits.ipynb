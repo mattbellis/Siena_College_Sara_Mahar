{
 "cells": [
  {
   "cell_type": "code",
   "execution_count": 1,
   "metadata": {
    "collapsed": true
   },
   "outputs": [],
   "source": [
    "import numpy as np\n",
    "import matplotlib.pylab as plt\n",
    "import math as math\n",
    "from scipy.optimize import fmin\n",
    "from iminuit import Minuit, describe, Struct\n",
    "\n",
    "%matplotlib  notebook"
   ]
  },
  {
   "cell_type": "code",
   "execution_count": 79,
   "metadata": {
    "collapsed": true
   },
   "outputs": [],
   "source": [
    "# Add code to the following function so that it takes in two datasets, loops over one of them, and finds\n",
    "# information about the nearest neighbors in the other dataset, based on a flag. \n",
    "\n",
    "def nn(data0,data1,r=None,nneighbors=None):\n",
    "    \n",
    "    ret = -1\n",
    "    ret_list=[]\n",
    "    if r is not None and nneighbors is not None:\n",
    "        exit(-1)\n",
    "        return ret\n",
    "    elif r is not None and nneighbors is None:\n",
    "        for num0 in data0:\n",
    "            count=0\n",
    "            diff = np.abs(num0 - data1)\n",
    "            count = len(diff[diff<r])\n",
    "            ret_list.append(float(count)/(float(len(data1))*r))\n",
    "        ret_list = np.array(ret_list)\n",
    "        return ret_list\n",
    "    elif r is None and nneighbors is not None:\n",
    "        for num0 in data0:\n",
    "            diff = np.abs(num0 - data1)\n",
    "            diff.sort()\n",
    "            radius= diff[nneighbors-1]\n",
    "            ret_list.append(1/radius)\n",
    "        ret_list = np.array(ret_list)\n",
    "        return ret_list\n",
    "    return ret"
   ]
  },
  {
   "cell_type": "code",
   "execution_count": 87,
   "metadata": {
    "collapsed": false
   },
   "outputs": [],
   "source": [
    "def normal(x,mean,width):\n",
    "    return (1.0/(width*np.sqrt(2*np.pi)))*(np.exp(-(x-mean)**2/(2*(width**2))))\n",
    "\n",
    "def calc_pull(iterations, dataPoints, MC, rad):\n",
    "    pull_frac_list=[]\n",
    "    average_best_frac = 0\n",
    "    frac = []\n",
    "    fit_frac = []\n",
    "    fit_frac_uncert = []\n",
    "    \n",
    "    \n",
    "\n",
    "    for num in range(iterations):\n",
    "        #Nsig = dataPoints\n",
    "        Nsig = np.random.poisson(dataPoints)\n",
    "        sig_mean=10.4\n",
    "        sig_width=.06\n",
    "        signal = np.random.normal(sig_mean,sig_width,Nsig)\n",
    "        Nbkg = 1000\n",
    "        #Nbkg = np.random.poisson(Nbkg)\n",
    "        background = 9.0+(2*np.random.random(Nbkg))\n",
    "        data = signal.copy()\n",
    "        data = np.append(data,background.copy())\n",
    "\n",
    "        frac.append(float(Nsig)/(float(Nbkg)+float(Nsig)))\n",
    "        Nsig_compare = MC\n",
    "        sig_mean_compare=10.4\n",
    "        sig_width_compare = .06\n",
    "        signal_compare = np.random.normal(sig_mean_compare,sig_width_compare,Nsig_compare)\n",
    "        \n",
    "        Nbkg_compare= MC\n",
    "        background_compare= 9.0+(2*np.random.random(Nbkg_compare))\n",
    "        \n",
    "        def probability(frac):\n",
    "            tot_prob=[]\n",
    "            #signal_prob=nn(data,signal_compare, nneighbors=100)\n",
    "            #background_prob= nn(data, background_compare, nneighbors=100)\n",
    "            #signal_prob=nn(data,signal_compare, r=rad)\n",
    "            #background_prob= nn(data, background_compare, r=rad)\n",
    "            signal_prob = normal(data,10.4,0.06)\n",
    "            background_prob = 0.5*np.ones(len(data))\n",
    "            tot_prob.append(frac*signal_prob+ ((1-frac)*background_prob))\n",
    "            tot_prob=np.array(tot_prob)\n",
    "            tot_prob[tot_prob<=0.0] = 1e-64\n",
    "            #print -np.log(tot_prob[tot_prob>0]).sum() - -np.log(tot_prob).sum()\n",
    "            #return -np.log(tot_prob[tot_prob>0]).sum()\n",
    "            return -np.log(tot_prob).sum()\n",
    "        \n",
    "        m=Minuit(probability, frac= 0.25, limit_frac=(0.001,1), error_frac=0.001,  errordef = 0.5, print_level=0)\n",
    "        m.migrad()\n",
    "        #m.hesse()\n",
    "        if (m.get_fmin().is_valid):\n",
    "            param=m.values\n",
    "            err=m.errors\n",
    "            fit_frac.append(param[\"frac\"])\n",
    "            fit_frac_uncert.append(err[\"frac\"])\n",
    "            print Nsig,Nbkg,(float(Nsig)/(float(Nbkg)+float(Nsig))),param[\"frac\"],err[\"frac\"]\n",
    "            pull_frac=((float(Nsig)/(float(Nbkg)+float(Nsig)))-param[\"frac\"])/err[\"frac\"]\n",
    "            ndata = len(data)\n",
    "            frac_org = Nsig/float(Nsig + Nbkg)\n",
    "            nsig_org = frac_org * ndata\n",
    "            nsig_fit = param[\"frac\"]\n",
    "            nsig_err = err[\"frac\"]\n",
    "            pull_frac_list.append(pull_frac)\n",
    "    return pull_frac_list, frac, fit_frac, fit_frac_uncert,iterations"
   ]
  },
  {
   "cell_type": "code",
   "execution_count": 88,
   "metadata": {
    "collapsed": false
   },
   "outputs": [
    {
     "name": "stdout",
     "output_type": "stream",
     "text": [
      "number of signal points: 500 \t number of MC point: 5000 \tradius: 0.01\n",
      "492 1000 0.329758713137 0.325018404739 0.0147285063766\n",
      "537 1000 0.349381912817 0.345687805095 0.0145892946591\n",
      "536 1000 0.348958333333 0.357078920313 0.0147526539915\n",
      "490 1000 0.328859060403 0.327701492472 0.0147762997629\n",
      "466 1000 0.317871759891 0.325426367706 0.0150018997963\n",
      "522 1000 0.34296977661 0.345022363761 0.0147049535388\n",
      "537 1000 0.349381912817 0.349542326208 0.0147233877513\n",
      "519 1000 0.341672152732 0.337683847641 0.0146402075515\n",
      "510 1000 0.337748344371 0.330798617394 0.0146439590244\n",
      "487 1000 0.327505043712 0.326683362404 0.0147856828686\n",
      "517 1000 0.340804218853 0.338706035932 0.0147554995241\n",
      "529 1000 0.345977763244 0.349706203551 0.0146446811494\n",
      "495 1000 0.33110367893 0.335406586507 0.014714085726\n",
      "471 1000 0.320190346703 0.318199490622 0.0148169674413\n",
      "488 1000 0.327956989247 0.307718696027 0.014637758122\n",
      "517 1000 0.340804218853 0.33230926482 0.0147467852127\n",
      "441 1000 0.306037473976 0.302256638179 0.0148394349704\n",
      "520 1000 0.342105263158 0.346211222253 0.014656131938\n",
      "508 1000 0.336870026525 0.328451344628 0.0146869126622\n",
      "528 1000 0.34554973822 0.349435195574 0.0146588849408\n",
      "-----------------\n",
      "[0.3218458326003448, 0.25320673879360733, -0.5504492265993333, 0.07833949968875384, -0.5035767414556382, -0.13958474236692248, -0.010895141337205648, 0.2724213490432727, 0.474579788512506, 0.05557276696460467, 0.14219667165108152, -0.2545934779356657, -0.2924345866484383, 0.13436326216647831, 1.3826088019476654, 0.5760546390313025, 0.2547830025341597, -0.2801529839041602, 0.5732097746696013, -0.2650581793676992]\n",
      "---------------\n",
      "[{'signal': 500, 'radius': 0.01, 'mean pulls': 0.11112185239941574, 'MC_points': 5000}]\n",
      "[{'signal': 500, 'radius': 0.01, 'mean stds': 0.43473376606477782, 'MC_points': 5000}]\n"
     ]
    }
   ],
   "source": [
    "means=[]\n",
    "stds=[]\n",
    "\n",
    "for sig in [500]:\n",
    "    for MC in [5000]:\n",
    "        for rad in [0.01]: #, 0.10,0.20,0.50]:\n",
    "            \n",
    "            print 'number of signal points: %s \\t number of MC point: %s \\tradius: %s' % (sig,MC,rad)\n",
    "            pulls,org_vals,fit_vals,fit_uncerts,iteration = calc_pull(20, sig, MC, rad)\n",
    "            #plt.figure()\n",
    "            #plt.hist(pulls, bins=50)\n",
    "            #x = np.linspace(-5,5,1000)\n",
    "            #y=normal(x,0,1)\n",
    "            #plt.plot(x,(iteration*7/(50))*y,'y-',linewidth=2)\n",
    "            parameters_mean = {'signal': sig, 'MC_points': MC, 'radius': rad, 'mean pulls': np.mean(pulls)}\n",
    "            means.append(parameters_mean)\n",
    "            parameters_std = {'signal': sig, 'MC_points': MC, 'radius': rad, 'mean stds': np.std(pulls)}\n",
    "            stds.append(parameters_std)\n",
    "            print \"-----------------\"\n",
    "            print pulls\n",
    "            \n",
    "\n",
    "#plt.figure(figsize=(6,6))\n",
    "point_color='bo'\n",
    "sizes=0\n",
    "\n",
    "\n",
    "print \"---------------\"\n",
    "print means\n",
    "print stds\n",
    "\n",
    "#WITH THE POISSON and 100 iterations- TESTING IT"
   ]
  },
  {
   "cell_type": "code",
   "execution_count": 78,
   "metadata": {
    "collapsed": false
   },
   "outputs": [
    {
     "name": "stdout",
     "output_type": "stream",
     "text": [
      "[{'signal': 50, 'radius': 0.01, 'mean pulls': -0.077027357838128349, 'MC_points': 5000}]\n",
      "[{'signal': 50, 'radius': 0.01, 'mean stds': 0.91276470882102401, 'MC_points': 5000}]\n"
     ]
    }
   ],
   "source": [
    "print means\n",
    "print stds\n"
   ]
  },
  {
   "cell_type": "code",
   "execution_count": null,
   "metadata": {
    "collapsed": true
   },
   "outputs": [],
   "source": []
  }
 ],
 "metadata": {
  "kernelspec": {
   "display_name": "Python 2",
   "language": "python",
   "name": "python2"
  },
  "language_info": {
   "codemirror_mode": {
    "name": "ipython",
    "version": 2
   },
   "file_extension": ".py",
   "mimetype": "text/x-python",
   "name": "python",
   "nbconvert_exporter": "python",
   "pygments_lexer": "ipython2",
   "version": "2.7.11"
  }
 },
 "nbformat": 4,
 "nbformat_minor": 0
}
