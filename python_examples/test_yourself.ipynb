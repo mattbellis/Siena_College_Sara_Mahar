{
 "metadata": {
  "name": "test_yourself",
  "signature": "sha256:699c199cd63c42b4b818caa0c2c0b063910fef00cb3ddd5ee9c4f45ef3fe93ef"
 },
 "nbformat": 3,
 "nbformat_minor": 0,
 "worksheets": [
  {
   "cells": [
    {
     "cell_type": "markdown",
     "metadata": {},
     "source": [
      "Test your mastery of Python with the following problems."
     ]
    },
    {
     "cell_type": "markdown",
     "metadata": {},
     "source": [
      "Loop over all the numbers between 1 and 100. Sum up all the numbers that are divisible by 3."
     ]
    },
    {
     "cell_type": "code",
     "collapsed": false,
     "input": [
      "total=0\n",
      "for num in range(101):\n",
      "    if num%3==0:\n",
      "        total+=num\n",
      "\n",
      "        \n",
      "print total"
     ],
     "language": "python",
     "metadata": {},
     "outputs": [
      {
       "output_type": "stream",
       "stream": "stdout",
       "text": [
        "1683\n"
       ]
      }
     ],
     "prompt_number": 5
    },
    {
     "cell_type": "markdown",
     "metadata": {},
     "source": [
      "Print out all the prime numbers between 0 and 100"
     ]
    },
    {
     "cell_type": "code",
     "collapsed": false,
     "input": [
      "count=0\n",
      "for num in range(1,101):\n",
      "    for prime in range(1,num):\n",
      "        if num!=prime and prime!=1:\n",
      "            if num%prime==0:\n",
      "                count+=1\n",
      "    if count==0:\n",
      "       print 'THIS is prime: %d' %num\n",
      "    count =0\n",
      "        "
     ],
     "language": "python",
     "metadata": {},
     "outputs": [
      {
       "output_type": "stream",
       "stream": "stdout",
       "text": [
        "THIS is prime: 1\n",
        "THIS is prime: 2\n",
        "THIS is prime: 3\n",
        "THIS is prime: 5\n",
        "THIS is prime: 7\n",
        "THIS is prime: 11\n",
        "THIS is prime: 13\n",
        "THIS is prime: 17\n",
        "THIS is prime: 19\n",
        "THIS is prime: 23\n",
        "THIS is prime: 29\n",
        "THIS is prime: 31\n",
        "THIS is prime: 37\n",
        "THIS is prime: 41\n",
        "THIS is prime: 43\n",
        "THIS is prime: 47\n",
        "THIS is prime: 53\n",
        "THIS is prime: 59\n",
        "THIS is prime: 61\n",
        "THIS is prime: 67\n",
        "THIS is prime: 71\n",
        "THIS is prime: 73\n",
        "THIS is prime: 79\n",
        "THIS is prime: 83\n",
        "THIS is prime: 89\n",
        "THIS is prime: 97\n"
       ]
      }
     ],
     "prompt_number": 43
    },
    {
     "cell_type": "markdown",
     "metadata": {},
     "source": [
      "Generate 100k random numbers between -1 and 1. Take the arcsin of them and sum them up using a standard Python loop. Time how long this takes using the Python <b><tt>time</tt></b> library. <i>Do not print any output to the screen or it might freeze your computer!</i>"
     ]
    },
    {
     "cell_type": "code",
     "collapsed": false,
     "input": [
      "import random\n",
      "import math\n",
      "from time import time\n",
      "sum=0\n",
      "start = time()\n",
      "for num in range(100000):\n",
      "    rand = random.uniform(-1.0,1.0) \n",
      "    sum +=math.asin(rand)\n",
      "print sum\n",
      "print 'Time to run: %f ' % (time()-start)\n"
     ],
     "language": "python",
     "metadata": {},
     "outputs": [
      {
       "output_type": "stream",
       "stream": "stdout",
       "text": [
        "139.148462281\n",
        "Time to run: 0.048030 \n"
       ]
      }
     ],
     "prompt_number": 121
    },
    {
     "cell_type": "markdown",
     "metadata": {},
     "source": [
      "Do the same thing as before, but use <b><tt>numpy</tt></b> functions. How much time does this save you?"
     ]
    },
    {
     "cell_type": "code",
     "collapsed": false,
     "input": [
      "import random\n",
      "import numpy as np\n",
      "from time import time\n",
      "sum=0\n",
      "start = time()\n",
      "rand = np.random.uniform(-1.0,1.0, size=100000)\n",
      "the_sum=np.sum(np.arcsin(rand))\n",
      "print the_sum\n",
      "print 'Time to run: %f ' % (time()-start)"
     ],
     "language": "python",
     "metadata": {},
     "outputs": [
      {
       "output_type": "stream",
       "stream": "stdout",
       "text": [
        "-183.550785\n",
        "Time to run: 0.006401 \n"
       ]
      }
     ],
     "prompt_number": 130
    },
    {
     "cell_type": "markdown",
     "metadata": {},
     "source": [
      "Repeat the above two challenges but for 1M random numbers"
     ]
    },
    {
     "cell_type": "code",
     "collapsed": false,
     "input": [
      "import random\n",
      "import math\n",
      "import numpy as np\n",
      "from time import time\n",
      "sum=0\n",
      "start = time()\n",
      "for num in range(1000000):\n",
      "    rand = 2*random.random() -1\n",
      "    sum +=math.asin(rand)\n",
      "print 'Time to run: %f ' % (time()-start)"
     ],
     "language": "python",
     "metadata": {},
     "outputs": [
      {
       "output_type": "stream",
       "stream": "stdout",
       "text": [
        "Time to run: 0.288436 \n"
       ]
      }
     ],
     "prompt_number": 75
    },
    {
     "cell_type": "markdown",
     "metadata": {},
     "source": [
      "Write a standalone function that takes a sentence (passed in as a string) and another letter, and returns a list of the words in that sentence that contain that letter. Call the function with different test cases to see if it works."
     ]
    },
    {
     "cell_type": "code",
     "collapsed": false,
     "input": [
      "def letters(string,letter):\n",
      "    list_of_strings=[]\n",
      "    for word in string.split():\n",
      "        #print word\n",
      "        if str.lower(letter) in str.lower(word):\n",
      "            list_of_strings.append(word)\n",
      "    print list_of_strings\n",
      "            \n",
      "letters('Hello my name is Sara Mahar and I am a physics major','h')\n"
     ],
     "language": "python",
     "metadata": {},
     "outputs": [
      {
       "output_type": "stream",
       "stream": "stdout",
       "text": [
        "['Hello', 'Mahar', 'physics']\n"
       ]
      }
     ],
     "prompt_number": 109
    },
    {
     "cell_type": "markdown",
     "metadata": {},
     "source": [
      "Estimate $\\pi$ through a Monte Carlo method. Algebraically solve for $\\pi$ in terms of the ratio of the area of a circle with radius of 1 to the area of a square with side length of 2 (draw a picture to see this). Estimate the ratio by generating random pairs of numbers that fall within the square and see how many also fall within the circle. "
     ]
    },
    {
     "cell_type": "code",
     "collapsed": false,
     "input": [
      "import random\n",
      "\n",
      "n=1000000\n",
      "hits=0\n",
      "for i in range(n):\n",
      "    x= random.random()\n",
      "    y= random.random()\n",
      "    if x*x+y*y<=1:\n",
      "        hits+=1\n",
      "\n",
      "        \n",
      "print hits\n",
      "pi = 4.0 * (float(hits)/n)\n",
      "print pi\n",
      "\n",
      "\n"
     ],
     "language": "python",
     "metadata": {},
     "outputs": [
      {
       "output_type": "stream",
       "stream": "stdout",
       "text": [
        "785075\n",
        "3.1403\n"
       ]
      }
     ],
     "prompt_number": 98
    },
    {
     "cell_type": "markdown",
     "metadata": {},
     "source": [
      "Write some sample code that makes use of the <b><tt>enumerate</tt></b> command."
     ]
    },
    {
     "cell_type": "code",
     "collapsed": false,
     "input": [
      "students=['Alice','Ben','Carson','Danny','Erika','Frank','Greg','Holly','Ian','Jillian','Karen']\n",
      "\n",
      "for i,name in enumerate(students):\n",
      "    print 'This is student %d and their name is: %s' % (i+1,name)\n",
      "    "
     ],
     "language": "python",
     "metadata": {},
     "outputs": [
      {
       "output_type": "stream",
       "stream": "stdout",
       "text": [
        "This is student 1 and their name is: Alice\n",
        "This is student 2 and their name is: Ben\n",
        "This is student 3 and their name is: Carson\n",
        "This is student 4 and their name is: Danny\n",
        "This is student 5 and their name is: Erika\n",
        "This is student 6 and their name is: Frank\n",
        "This is student 7 and their name is: Greg\n",
        "This is student 8 and their name is: Holly\n",
        "This is student 9 and their name is: Ian\n",
        "This is student 10 and their name is: Jillian\n",
        "This is student 11 and their name is: Karen\n"
       ]
      }
     ],
     "prompt_number": 100
    },
    {
     "cell_type": "markdown",
     "metadata": {},
     "source": [
      "Write some sample code that makes use of the <b><tt>zip</tt></b> command."
     ]
    },
    {
     "cell_type": "code",
     "collapsed": false,
     "input": [
      "students=['Alice','Ben','Carson','Danny','Erika','Frank','Greg','Holly','Ian','Jillian','Karen']\n",
      "scores = [95,91,88,56,77,90,79,49,85,80,70]\n",
      "\n",
      "for a,b in zip(students,scores):\n",
      "    print \"%s's score is: %d\" % (a,b) "
     ],
     "language": "python",
     "metadata": {},
     "outputs": [
      {
       "output_type": "stream",
       "stream": "stdout",
       "text": [
        "Alice's score is: 95\n",
        "Ben's score is: 91\n",
        "Carson's score is: 88\n",
        "Danny's score is: 56\n",
        "Erika's score is: 77\n",
        "Frank's score is: 90\n",
        "Greg's score is: 79\n",
        "Holly's score is: 49\n",
        "Ian's score is: 85\n",
        "Jillian's score is: 80\n",
        "Karen's score is: 70\n"
       ]
      }
     ],
     "prompt_number": 106
    },
    {
     "cell_type": "markdown",
     "metadata": {},
     "source": [
      "Write a piece of code that generates 10 arrays of 1000 numbers between 5 and 25 and writes them to a text file with 10 columns of these 1000 numbers. Then read in this text file and plot the 2nd column versus the 8th column on a scatter plot and histograms the 6th column.  "
     ]
    },
    {
     "cell_type": "code",
     "collapsed": false,
     "input": [
      "import numpy as np\n",
      "array=np.linspace(5,25,100)\n",
      "array1=np.linspace(5,25,100)\n",
      "array2=np.linspace(5,25,100)\n",
      "array3=np.linspace(5,25,100)\n",
      "array4=np.linspace(5,25,100)\n",
      "array5=np.linspace(5,25,100)\n",
      "array6=np.linspace(5,25,100)\n",
      "array7=np.linspace(5,25,100)\n",
      "array8=np.linspace(5,25,100)\n",
      "array9=np.linspace(5,25,100)\n",
      "\n",
      "file_name =open('test.txt','w')\n",
      "print array\n",
      "\n",
      "file_name.write(array)\n",
      "\n",
      "file_name.close()"
     ],
     "language": "python",
     "metadata": {},
     "outputs": [
      {
       "output_type": "stream",
       "stream": "stdout",
       "text": [
        "[  5.           5.2020202    5.4040404    5.60606061   5.80808081\n",
        "   6.01010101   6.21212121   6.41414141   6.61616162   6.81818182\n",
        "   7.02020202   7.22222222   7.42424242   7.62626263   7.82828283\n",
        "   8.03030303   8.23232323   8.43434343   8.63636364   8.83838384\n",
        "   9.04040404   9.24242424   9.44444444   9.64646465   9.84848485\n",
        "  10.05050505  10.25252525  10.45454545  10.65656566  10.85858586\n",
        "  11.06060606  11.26262626  11.46464646  11.66666667  11.86868687\n",
        "  12.07070707  12.27272727  12.47474747  12.67676768  12.87878788\n",
        "  13.08080808  13.28282828  13.48484848  13.68686869  13.88888889\n",
        "  14.09090909  14.29292929  14.49494949  14.6969697   14.8989899\n",
        "  15.1010101   15.3030303   15.50505051  15.70707071  15.90909091\n",
        "  16.11111111  16.31313131  16.51515152  16.71717172  16.91919192\n",
        "  17.12121212  17.32323232  17.52525253  17.72727273  17.92929293\n",
        "  18.13131313  18.33333333  18.53535354  18.73737374  18.93939394\n",
        "  19.14141414  19.34343434  19.54545455  19.74747475  19.94949495\n",
        "  20.15151515  20.35353535  20.55555556  20.75757576  20.95959596\n",
        "  21.16161616  21.36363636  21.56565657  21.76767677  21.96969697\n",
        "  22.17171717  22.37373737  22.57575758  22.77777778  22.97979798\n",
        "  23.18181818  23.38383838  23.58585859  23.78787879  23.98989899\n",
        "  24.19191919  24.39393939  24.5959596   24.7979798   25.        ]\n"
       ]
      }
     ],
     "prompt_number": 4
    },
    {
     "cell_type": "code",
     "collapsed": false,
     "input": [],
     "language": "python",
     "metadata": {},
     "outputs": []
    }
   ],
   "metadata": {}
  }
 ]
}